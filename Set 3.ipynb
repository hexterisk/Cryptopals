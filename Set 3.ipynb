{
 "cells": [
  {
   "cell_type": "code",
   "execution_count": 1,
   "metadata": {},
   "outputs": [],
   "source": [
    "from lib import *"
   ]
  },
  {
   "cell_type": "markdown",
   "metadata": {},
   "source": [
    "# Challenge 17: The CBC padding oracle\n",
    "[Link](https://cryptopals.com/sets/3/challenges/17)"
   ]
  },
  {
   "cell_type": "markdown",
   "metadata": {},
   "source": [
    "> This is the best-known attack on modern block-cipher cryptography.  \n",
    "Combine your padding code and your CBC code to write two functions.  \n",
    "The first function should select at random one of the following 10 strings:  \n",
    "**MDAwMDAwTm93IHRoYXQgdGhlIHBhcnR5IGlzIGp1bXBpbmc=**  \n",
    "**MDAwMDAxV2l0aCB0aGUgYmFzcyBraWNrZWQgaW4gYW5kIHRoZSBWZWdhJ3MgYXJlIHB1bXBpbic=**  \n",
    "**MDAwMDAyUXVpY2sgdG8gdGhlIHBvaW50LCB0byB0aGUgcG9pbnQsIG5vIGZha2luZw==**  \n",
    "**MDAwMDAzQ29va2luZyBNQydzIGxpa2UgYSBwb3VuZCBvZiBiYWNvbg==**  \n",
    "**MDAwMDA0QnVybmluZyAnZW0sIGlmIHlvdSBhaW4ndCBxdWljayBhbmQgbmltYmxl**  \n",
    "**MDAwMDA1SSBnbyBjcmF6eSB3aGVuIEkgaGVhciBhIGN5bWJhbA==**  \n",
    "**MDAwMDA2QW5kIGEgaGlnaCBoYXQgd2l0aCBhIHNvdXBlZCB1cCB0ZW1wbw==**  \n",
    "**MDAwMDA3SSdtIG9uIGEgcm9sbCwgaXQncyB0aW1lIHRvIGdvIHNvbG8=**  \n",
    "**MDAwMDA4b2xsaW4nIGluIG15IGZpdmUgcG9pbnQgb2g=**  \n",
    "**MDAwMDA5aXRoIG15IHJhZy10b3AgZG93biBzbyBteSBoYWlyIGNhbiBibG93**  \n",
    "... generate a random AES key (which it should save for all future encryptions), pad the string out to the 16-byte AES block size and CBC-encrypt it under that key, providing the caller the ciphertext and IV.  \n",
    "The second function should consume the ciphertext produced by the first function, decrypt it, check its padding, and return true or false depending on whether the padding is valid.  \n",
    "It turns out that it's possible to decrypt the ciphertexts provided by the first function.  \n",
    "The decryption here depends on a side-channel leak by the decryption function. The leak is the error message that the padding is valid or not.  \n",
    "You can find 100 web pages on how this attack works, so I won't re-explain it. What I'll say is this:  \n",
    "The fundamental insight behind this attack is that the byte 01h is valid padding, and occur in 1/256 trials of \"randomized\" plaintexts produced by decrypting a tampered ciphertext.  \n",
    "02h in isolation is not valid padding.  \n",
    "02h 02h is valid padding, but is much less likely to occur randomly than 01h.  \n",
    "03h 03h 03h is even less likely.  \n",
    "So you can assume that if you corrupt a decryption AND it had valid padding, you know what that padding byte is.  \n",
    "It is easy to get tripped up on the fact that CBC plaintexts are \"padded\". Padding oracles have nothing to do with the actual padding on a CBC plaintext. It's an attack that targets a specific bit of code that handles decryption. You can mount a padding oracle on any CBC block, whether it's padded or not.  "
   ]
  },
  {
   "cell_type": "code",
   "execution_count": 2,
   "metadata": {},
   "outputs": [],
   "source": [
    "# Imports\n",
    "import os\n",
    "import base64\n",
    "import random\n",
    "from Crypto.Cipher import AES"
   ]
  },
  {
   "cell_type": "code",
   "execution_count": 3,
   "metadata": {},
   "outputs": [],
   "source": [
    "# Given\n",
    "b64_strings = [\n",
    "    b'MDAwMDAwTm93IHRoYXQgdGhlIHBhcnR5IGlzIGp1bXBpbmc=',\n",
    "    b'MDAwMDAxV2l0aCB0aGUgYmFzcyBraWNrZWQgaW4gYW5kIHRoZSBWZWdhJ3MgYXJlIHB1bXBpbic=',\n",
    "    b'MDAwMDAyUXVpY2sgdG8gdGhlIHBvaW50LCB0byB0aGUgcG9pbnQsIG5vIGZha2luZw==',\n",
    "    b'MDAwMDAzQ29va2luZyBNQydzIGxpa2UgYSBwb3VuZCBvZiBiYWNvbg==',\n",
    "    b'MDAwMDA0QnVybmluZyAnZW0sIGlmIHlvdSBhaW4ndCBxdWljayBhbmQgbmltYmxl',\n",
    "    b'MDAwMDA1SSBnbyBjcmF6eSB3aGVuIEkgaGVhciBhIGN5bWJhbA==',\n",
    "    b'MDAwMDA2QW5kIGEgaGlnaCBoYXQgd2l0aCBhIHNvdXBlZCB1cCB0ZW1wbw==',\n",
    "    b'MDAwMDA3SSdtIG9uIGEgcm9sbCwgaXQncyB0aW1lIHRvIGdvIHNvbG8=',\n",
    "    b'MDAwMDA4b2xsaW4nIGluIG15IGZpdmUgcG9pbnQgb2g=',\n",
    "    b'MDAwMDA5aXRoIG15IHJhZy10b3AgZG93biBzbyBteSBoYWlyIGNhbiBibG93',\n",
    "]"
   ]
  },
  {
   "cell_type": "markdown",
   "metadata": {},
   "source": [
    "The first function:\n",
    "* Selects a random base64 encoded given string.\n",
    "* Pad the string to block size.\n",
    "* CBC encrypts the chosen string under the key."
   ]
  },
  {
   "cell_type": "code",
   "execution_count": 4,
   "metadata": {},
   "outputs": [],
   "source": [
    "def encryptor(IV: bytes, key: bytes) -> (bytes, bytes):\n",
    "    \"\"\"\n",
    "    Chose a random base64 encoded string and encrypt via AES CBC Mode.\n",
    "    \"\"\"\n",
    "    index = random.randint(0, len(b64_strings)-1)\n",
    "    selected_string = b64_strings[index]\n",
    "    ciphertext = AES_CBC_encrypt(selected_string, IV, key)\n",
    "    return selected_string, ciphertext"
   ]
  },
  {
   "cell_type": "markdown",
   "metadata": {},
   "source": [
    "The second function:\n",
    "* Decrypts the given ciphertext.\n",
    "* Verify the decrypted string's padding.\n",
    "* Returns true or false based on validity of padding."
   ]
  },
  {
   "cell_type": "code",
   "execution_count": 5,
   "metadata": {},
   "outputs": [],
   "source": [
    "def decryptor(ciphertext: bytes, IV: bytes, key: bytes) -> bool:\n",
    "    \"\"\"\n",
    "    Decrypt the given ciphertext via AES CBC Mode and check if padding is valid.\n",
    "    \"\"\"\n",
    "    plaintext = AES_CBC_decrypt(ciphertext, IV, key)\n",
    "    if PKCS7_padded(plaintext):\n",
    "        return True\n",
    "    else:\n",
    "        return False"
   ]
  },
  {
   "cell_type": "markdown",
   "metadata": {},
   "source": [
    "We create a function to modify the (i-1)th cipherblock according to what the value of the padding byte has to be."
   ]
  },
  {
   "cell_type": "code",
   "execution_count": 6,
   "metadata": {},
   "outputs": [],
   "source": [
    "def modify_block(IV: bytes, guessed_byte: bytes, padding_len: int, found_plaintext: bytes) -> bytes:\n",
    "    \"\"\"\n",
    "    Creates a forced block of the ciphertext, ideally to be given as IV to decrypt the following block.\n",
    "    The forced IV will be used for the attack on the padding oracle CBC encryption.\n",
    "    \"\"\"\n",
    "    \n",
    "    block_size = len(IV)\n",
    "\n",
    "    # Get the index of the first character of the padding.\n",
    "    index_of_forced_char = len(IV) - padding_len\n",
    "\n",
    "    # Using the guessed byte given as input, try to force the first character of the\n",
    "    # padding to be equal to the length of the padding itself.\n",
    "    forced_character = IV[index_of_forced_char] ^ guessed_byte ^ padding_len\n",
    "\n",
    "    # Form the forced ciphertext by adding to it the forced character...\n",
    "    output = IV[:index_of_forced_char] + bytes([forced_character])\n",
    "\n",
    "    # ...and the characters that were forced before (for which we already know the plaintext).\n",
    "    m = 0\n",
    "    for k in range(block_size - padding_len + 1, block_size):\n",
    "\n",
    "        # Force each of the following characters of the IV so that the matching characters in\n",
    "        # the following block will be decrypted to \"padding_len\".\n",
    "        forced_character = IV[k] ^ ord(found_plaintext[m]) ^ padding_len\n",
    "        output += bytes([forced_character])\n",
    "        m += 1\n",
    "\n",
    "    return output"
   ]
  },
  {
   "cell_type": "code",
   "execution_count": 7,
   "metadata": {},
   "outputs": [],
   "source": [
    "def cbc_padding_attack(ciphertext: bytes, IV: bytes, key: bytes, decryptor: callable) -> bytes:\n",
    "\n",
    "    block_size = len(IV)\n",
    "    \n",
    "    # Create ciphertext blocks, with IV prepended to the ciphertexts.\n",
    "    # The prepended IV enables us to decrypt the first block of ciphertext.\n",
    "    plaintext = \"\"\n",
    "    num_blocks = len(ciphertext)//block_size\n",
    "    ciphertext_blocks = [IV] + [ciphertext[i:i+block_size] for i in range(0, len(ciphertext), block_size)]\n",
    "    \n",
    "    # This loop goes over the cipher blocks.\n",
    "    for i in range(1, num_blocks+1):\n",
    "        plain_block = \"\"\n",
    "        base_block = ciphertext_blocks[i-1] \n",
    "        target_block = ciphertext_blocks[i]\n",
    "                \n",
    "        # This loop goes over every byte in a block.\n",
    "        for j in range(1, block_size+1):\n",
    "            possible_last_bytes = []\n",
    "            # This loop goes over all possible values for a byte.\n",
    "            for k in range(256):\n",
    "                \n",
    "                mod_block = modify_block(base_block, k, j, plain_block)                \n",
    "                check = decryptor(target_block, mod_block, key)\n",
    "                # Make a list of all values that satisfy the padding.\n",
    "                if check == True:\n",
    "                    possible_last_bytes += bytes([k])\n",
    "             \n",
    "            # If more than one possible bytes have been found, then verify their validity by checking the next byte.\n",
    "            if len(possible_last_bytes) != 1:\n",
    "                for byte in possible_last_bytes:\n",
    "                    for k in range(256):\n",
    "                        \n",
    "                        mod_block = modify_block(base_block, k, j+1, chr(byte)+plain_block)                \n",
    "                        \n",
    "                        check = decryptor(target_block, mod_block, key)\n",
    "                        if check == True:\n",
    "                            possible_last_bytes = [byte]\n",
    "                            break\n",
    "            # Append the decrypted byte to the plain block.                \n",
    "            plain_block = chr(possible_last_bytes[0]) + plain_block\n",
    "        # Append the decrypted block to plaintext.\n",
    "        plaintext += plain_block\n",
    "    \n",
    "    return PKCS7_unpad(plaintext.encode())"
   ]
  },
  {
   "cell_type": "code",
   "execution_count": 8,
   "metadata": {},
   "outputs": [],
   "source": [
    "keysize = AES.block_size\n",
    "random_key = os.urandom(keysize)\n",
    "IV = os.urandom(keysize)"
   ]
  },
  {
   "cell_type": "code",
   "execution_count": 9,
   "metadata": {},
   "outputs": [
    {
     "data": {
      "text/plain": [
       "\"000003Cooking MC's like a pound of bacon\""
      ]
     },
     "execution_count": 9,
     "metadata": {},
     "output_type": "execute_result"
    }
   ],
   "source": [
    "selected_string, ciphertext = encryptor(IV, random_key)\n",
    "plaintext = cbc_padding_attack(ciphertext, IV, random_key, decryptor)\n",
    "result = base64.b64decode(plaintext).decode(\"utf-8\")\n",
    "result"
   ]
  },
  {
   "cell_type": "code",
   "execution_count": 10,
   "metadata": {},
   "outputs": [
    {
     "data": {
      "text/html": [
       "<div style=\"border:1px solid #c3e6cb;padding:.75rem 3rem;border-radius:.5rem;font-weight:bold;text-align: center;background-color:#d4edda;color:#155724;border-color:#c3e6cb;\">Completed</div>"
      ],
      "text/plain": [
       "<IPython.core.display.HTML object>"
      ]
     },
     "metadata": {},
     "output_type": "display_data"
    }
   ],
   "source": [
    "test(selected_string == plaintext)"
   ]
  },
  {
   "cell_type": "markdown",
   "metadata": {},
   "source": [
    "# Challenge 18: Implement CTR, the stream cipher mode\n",
    "[Link](https://cryptopals.com/sets/3/challenges/18)"
   ]
  },
  {
   "cell_type": "markdown",
   "metadata": {},
   "source": [
    "> The string:  \n",
    "**L77na/nrFsKvynd6HzOoG7GHTLXsTVu9qvY/2syLXzhPweyyMTJULu/6/kXX0KSvoOLSFQ==** \n",
    "... decrypts to something approximating English in CTR mode, which is an AES block cipher mode that turns AES into a stream cipher, with the following parameters:  \n",
    "**    key=YELLOW SUBMARINE  \n",
    "      nonce=0  \n",
    "      format=64 bit unsigned little endian nonce,  \n",
    "             64 bit little endian block count (byte count / 16)  \n",
    "**\n",
    "CTR mode is very simple.  \n",
    "Instead of encrypting the plaintext, CTR mode encrypts a running counter, producing a 16 byte block of keystream, which is XOR'd against the plaintext.  \n",
    "For instance, for the first 16 bytes of a message with these parameters:  \n",
    "**keystream = AES(\"YELLOW SUBMARINE\",  \n",
    "                \"\\x00\\x00\\x00\\x00\\x00\\x00\\x00\\x00\\x00\\x00\\x00\\x00\\x00\\x00\\x00\\x00\")**  \n",
    "... for the next 16 bytes:  \n",
    "**keystream = AES(\"YELLOW SUBMARINE\",\n",
    "                \"\\x00\\x00\\x00\\x00\\x00\\x00\\x00\\x00\\x01\\x00\\x00\\x00\\x00\\x00\\x00\\x00\")**  \n",
    "... and then:  \n",
    "**keystream = AES(\"YELLOW SUBMARINE\",  \n",
    "                \"\\x00\\x00\\x00\\x00\\x00\\x00\\x00\\x00\\x02\\x00\\x00\\x00\\x00\\x00\\x00\\x00\")**  \n",
    "CTR mode does not require padding; when you run out of plaintext, you just stop XOR'ing keystream and stop generating keystream.  \n",
    "Decryption is identical to encryption. Generate the same keystream, XOR, and recover the plaintext.  \n",
    "Decrypt the string at the top of this function, then use your CTR function to encrypt and decrypt other things."
   ]
  },
  {
   "cell_type": "code",
   "execution_count": 11,
   "metadata": {},
   "outputs": [],
   "source": [
    "# Imports\n",
    "import base64"
   ]
  },
  {
   "cell_type": "code",
   "execution_count": 12,
   "metadata": {},
   "outputs": [],
   "source": [
    "# Given\n",
    "b64_string = \"L77na/nrFsKvynd6HzOoG7GHTLXsTVu9qvY/2syLXzhPweyyMTJULu/6/kXX0KSvoOLSFQ==\"\n",
    "key = \"YELLOW SUBMARINE\"\n",
    "nonce = 0"
   ]
  },
  {
   "cell_type": "code",
   "execution_count": 13,
   "metadata": {},
   "outputs": [],
   "source": [
    "def CTR_keystream_generator(key: bytes, nonce: int) -> bytes:\n",
    "    \"\"\"\n",
    "    Generates keystream based on given key and nonce.\n",
    "    Uses AES ECB Mode to encrypt the nonce+counter block.\n",
    "    \"\"\"\n",
    "    counter = 0\n",
    "    # 8 byte because format says 64bit.\n",
    "    nonce_bytes = nonce.to_bytes(8, \"little\")\n",
    "    \n",
    "    while True:\n",
    "        counter_bytes = counter.to_bytes(8, \"little\")\n",
    "        # Keep getting 16byte block from the encryption function.\n",
    "        keystream_block = AES_ECB_encrypt(nonce_bytes + counter_bytes, key)\n",
    "        yield from keystream_block\n",
    "        counter += 1"
   ]
  },
  {
   "cell_type": "code",
   "execution_count": 14,
   "metadata": {},
   "outputs": [],
   "source": [
    "def CTR(string: bytes, key: bytes, nonce: int) -> bytes:\n",
    "    \"\"\"\n",
    "    Encrypts a plaintext with AES CTR Mode.\n",
    "    \"\"\"\n",
    "    # Generate the keystream based on key and nonce.\n",
    "    keystream = CTR_keystream_generator(key, nonce)\n",
    "    \n",
    "    if len(string) == 0:\n",
    "        return b\"\"\n",
    "    else:\n",
    "        return xor_bytes(string, keystream)"
   ]
  },
  {
   "cell_type": "code",
   "execution_count": 15,
   "metadata": {},
   "outputs": [
    {
     "data": {
      "text/plain": [
       "\"Yo, VIP Let's kick it Ice, Ice, baby Ice, Ice, baby \""
      ]
     },
     "execution_count": 15,
     "metadata": {},
     "output_type": "execute_result"
    }
   ],
   "source": [
    "decoded_string = base64.b64decode(b64_string)\n",
    "byte_text = CTR(decoded_string, key.encode(), 0)\n",
    "byte_text.decode(\"utf-8\")"
   ]
  },
  {
   "cell_type": "code",
   "execution_count": 16,
   "metadata": {},
   "outputs": [
    {
     "data": {
      "text/html": [
       "<div style=\"border:1px solid #c3e6cb;padding:.75rem 3rem;border-radius:.5rem;font-weight:bold;text-align: center;background-color:#d4edda;color:#155724;border-color:#c3e6cb;\">Completed</div>"
      ],
      "text/plain": [
       "<IPython.core.display.HTML object>"
      ]
     },
     "metadata": {},
     "output_type": "display_data"
    }
   ],
   "source": [
    "test(True)"
   ]
  },
  {
   "cell_type": "markdown",
   "metadata": {},
   "source": [
    "I came up with the solution for #19 involving scoring texts based on letter frequency, and it turned out to be the solution for #20 too."
   ]
  },
  {
   "cell_type": "markdown",
   "metadata": {},
   "source": [
    "# Challenge 19: Break fixed-nonce CTR mode using substitutions\n",
    "[Link](https://cryptopals.com/sets/3/challenges/19)"
   ]
  },
  {
   "cell_type": "markdown",
   "metadata": {},
   "source": [
    "> Take your CTR encrypt/decrypt function and fix its nonce value to 0. Generate a random AES key.  \n",
    "In successive encryptions (not in one big running CTR stream), encrypt each line of the base64 decodes of the following, producing multiple independent ciphertexts:  \n",
    "**SSBoYXZlIG1ldCB0aGVtIGF0IGNsb3NlIG9mIGRheQ==  \n",
    "Q29taW5nIHdpdGggdml2aWQgZmFjZXM=  \n",
    "RnJvbSBjb3VudGVyIG9yIGRlc2sgYW1vbmcgZ3JleQ==  \n",
    "RWlnaHRlZW50aC1jZW50dXJ5IGhvdXNlcy4=  \n",
    "SSBoYXZlIHBhc3NlZCB3aXRoIGEgbm9kIG9mIHRoZSBoZWFk  \n",
    "T3IgcG9saXRlIG1lYW5pbmdsZXNzIHdvcmRzLA==  \n",
    "T3IgaGF2ZSBsaW5nZXJlZCBhd2hpbGUgYW5kIHNhaWQ=  \n",
    "UG9saXRlIG1lYW5pbmdsZXNzIHdvcmRzLA==  \n",
    "QW5kIHRob3VnaHQgYmVmb3JlIEkgaGFkIGRvbmU=  \n",
    "T2YgYSBtb2NraW5nIHRhbGUgb3IgYSBnaWJl  \n",
    "VG8gcGxlYXNlIGEgY29tcGFuaW9u  \n",
    "QXJvdW5kIHRoZSBmaXJlIGF0IHRoZSBjbHViLA==  \n",
    "QmVpbmcgY2VydGFpbiB0aGF0IHRoZXkgYW5kIEk=  \n",
    "QnV0IGxpdmVkIHdoZXJlIG1vdGxleSBpcyB3b3JuOg==  \n",
    "QWxsIGNoYW5nZWQsIGNoYW5nZWQgdXR0ZXJseTo=  \n",
    "QSB0ZXJyaWJsZSBiZWF1dHkgaXMgYm9ybi4=  \n",
    "VGhhdCB3b21hbidzIGRheXMgd2VyZSBzcGVudA==  \n",
    "SW4gaWdub3JhbnQgZ29vZCB3aWxsLA==  \n",
    "SGVyIG5pZ2h0cyBpbiBhcmd1bWVudA==  \n",
    "VW50aWwgaGVyIHZvaWNlIGdyZXcgc2hyaWxsLg==  \n",
    "V2hhdCB2b2ljZSBtb3JlIHN3ZWV0IHRoYW4gaGVycw==  \n",
    "V2hlbiB5b3VuZyBhbmQgYmVhdXRpZnVsLA==  \n",
    "U2hlIHJvZGUgdG8gaGFycmllcnM/  \n",
    "VGhpcyBtYW4gaGFkIGtlcHQgYSBzY2hvb2w=  \n",
    "QW5kIHJvZGUgb3VyIHdpbmdlZCBob3JzZS4=  \n",
    "VGhpcyBvdGhlciBoaXMgaGVscGVyIGFuZCBmcmllbmQ=  \n",
    "V2FzIGNvbWluZyBpbnRvIGhpcyBmb3JjZTs=  \n",
    "SGUgbWlnaHQgaGF2ZSB3b24gZmFtZSBpbiB0aGUgZW5kLA==  \n",
    "U28gc2Vuc2l0aXZlIGhpcyBuYXR1cmUgc2VlbWVkLA==  \n",
    "U28gZGFyaW5nIGFuZCBzd2VldCBoaXMgdGhvdWdodC4=  \n",
    "VGhpcyBvdGhlciBtYW4gSSBoYWQgZHJlYW1lZA==  \n",
    "QSBkcnVua2VuLCB2YWluLWdsb3Jpb3VzIGxvdXQu  \n",
    "SGUgaGFkIGRvbmUgbW9zdCBiaXR0ZXIgd3Jvbmc=  \n",
    "VG8gc29tZSB3aG8gYXJlIG5lYXIgbXkgaGVhcnQs  \n",
    "WWV0IEkgbnVtYmVyIGhpbSBpbiB0aGUgc29uZzs=  \n",
    "SGUsIHRvbywgaGFzIHJlc2lnbmVkIGhpcyBwYXJ0  \n",
    "SW4gdGhlIGNhc3VhbCBjb21lZHk7  \n",
    "SGUsIHRvbywgaGFzIGJlZW4gY2hhbmdlZCBpbiBoaXMgdHVybiw=  \n",
    "VHJhbnNmb3JtZWQgdXR0ZXJseTo=  \n",
    "QSB0ZXJyaWJsZSBiZWF1dHkgaXMgYm9ybi4=**  \n",
    "(This should produce 40 short CTR-encrypted ciphertexts).  \n",
    "Because the CTR nonce wasn't randomized for each encryption, each ciphertext has been encrypted against the same keystream. This is very bad.  \n",
    "Understanding that, like most stream ciphers (including RC4, and obviously any block cipher run in CTR mode), the actual \"encryption\" of a byte of data boils down to a single XOR operation, it should be plain that:  \n",
    "**CIPHERTEXT-BYTE XOR PLAINTEXT-BYTE = KEYSTREAM-BYTE**  \n",
    "And since the keystream is the same for every ciphertext:  \n",
    "**CIPHERTEXT-BYTE XOR KEYSTREAM-BYTE = PLAINTEXT-BYTE (ie, \"you don't\n",
    "say!\")**  \n",
    "Attack this cryptosystem piecemeal: guess letters, use expected English language frequence to validate guesses, catch common English trigrams, and so on."
   ]
  },
  {
   "cell_type": "markdown",
   "metadata": {},
   "source": [
    "and"
   ]
  },
  {
   "cell_type": "markdown",
   "metadata": {},
   "source": [
    "# Challenge 20: Break fixed-nonce CTR statistically\n",
    "[Link](https://cryptopals.com/sets/3/challenges/20)"
   ]
  },
  {
   "cell_type": "markdown",
   "metadata": {},
   "source": [
    "> [In this file](https://cryptopals.com/static/challenge-data/20.txt) find a similar set of Base64'd plaintext. Do with them exactly what you did with the first, but solve the problem differently.  \n",
    "Instead of making spot guesses at to known plaintext, treat the collection of ciphertexts the same way you would repeating-key XOR.  \n",
    "Obviously, CTR encryption appears different from repeated-key XOR, but with a fixed nonce they are effectively the same thing.  \n",
    "To exploit this: take your collection of ciphertexts and truncate them to a common length (the length of the smallest ciphertext will work).  \n",
    "Solve the resulting concatenation of ciphertexts as if for repeating- key XOR, with a key size of the length of the ciphertext you XOR'd."
   ]
  },
  {
   "cell_type": "code",
   "execution_count": 17,
   "metadata": {},
   "outputs": [],
   "source": [
    "# Imports\n",
    "import os\n",
    "import base64"
   ]
  },
  {
   "cell_type": "code",
   "execution_count": 18,
   "metadata": {},
   "outputs": [],
   "source": [
    "# Given\n",
    "b64_strings = open(\"20.txt\").readlines()\n",
    "nonce = 0"
   ]
  },
  {
   "cell_type": "code",
   "execution_count": 19,
   "metadata": {},
   "outputs": [],
   "source": [
    "random_key = os.urandom(16)\n",
    "decoded_strings = [base64.b64decode(line.strip()) for line in b64_strings]\n",
    "ciphertext_list = [CTR(string, random_key, nonce) for string in decoded_strings]\n",
    "min_ciphertext_length = min(map(len, ciphertext_list))"
   ]
  },
  {
   "cell_type": "code",
   "execution_count": 20,
   "metadata": {},
   "outputs": [
    {
     "data": {
      "text/plain": [
       "'N\\'m rated \"R\"...this is a warning, ya better void / PDuz I came back to attack others in spite- / Strike lEut don\\'t be afraid in the dark, in a park / Not a sc^a tremble like a alcoholic, muscles tighten up / WhaTuddenly you feel like your in a horror flick / You gJusic\\'s the clue, when I come your warned / ApocalypsOaven\\'t you ever heard of a MC-murderer? / This is thCeath wish, so come on, step to this / Hysterical ideAriday the thirteenth, walking down Elm Street / You Shis is off limits, so your visions are blurry / All Serror in the styles, never error-files / Indeed I\\'m Aor those that oppose to be level or next to this / IPorse than a nightmare, you don\\'t have to sleep a winAlashbacks interfere, ya start to hear: / The R-A-K-IShen the beat is hysterical / That makes Eric go get Toon the lyrical format is superior / Faces of death JC\\'s decaying, cuz they never stayed / The scene of aShe fiend of a rhyme on the mic that you know / It\\'s Jelodies-unmakable, pattern-unescapable / A horn if wN bless the child, the earth, the gods and bomb the rOazardous to your health so be friendly / A matter ofThake \\'till your clear, make it disappear, make the nNf not, my soul\\'ll release! / The scene is recreated,Duz your about to see a disastrous sight / A performaKyrics of fury! A fearified freestyle! / The \"R\" is iJake sure the system\\'s loud when I mention / Phrases ^ou want to hear some sounds that not only pounds butShen nonchalantly tell you what it mean to me / StricFnd I don\\'t care if the whole crowd\\'s a witness! / I\\'Wrogram into the speed of the rhyme, prepare to startJusical madness MC ever made, see it\\'s / Now an emergHpen your mind, you will find every word\\'ll be / FuriEattle\\'s tempting...whatever suits ya! / For words th^ou think you\\'re ruffer, then suffer the consequencesN wake ya with hundreds of thousands of volts / Mic-tIovocain ease the pain it might save him / If not, Er^o Rakim, what\\'s up? / Yo, I\\'m doing the knowledge, EPell, check this out, since Norby Walters is our agenLara Lewis is our agent, word up / Zakia and 4th and Hkay, so who we rollin\\' with then? We rollin\\' with RuDheck this out, since we talking over / This def beatN wanna hear some of them def rhymes, you know what IShinkin\\' of a master plan / \\'Cuz ain\\'t nuthin\\' but swTo I dig into my pocket, all my money is spent / So ITo I start my mission, leave my residence / Thinkin\\' N need money, I used to be a stick-up kid / So I thinN used to roll up, this is a hold up, ain\\'t nuthin\\' fEut now I learned to earn \\'cuz I\\'m righteous / I feelTearch for a nine to five, if I strive / Then maybe ITo I walk up the street whistlin\\' this / Feelin\\' out F pen and a paper, a stereo, a tape of / Me and Eric Aish, which is my favorite dish / But without no mone Cuz I don\\'t like to dream about gettin\\' paid / So I '"
      ]
     },
     "execution_count": 20,
     "metadata": {},
     "output_type": "execute_result"
    }
   ],
   "source": [
    "columns = []\n",
    "for i in range(min_ciphertext_length):\n",
    "    line = b\"\"\n",
    "    for cipher in ciphertext_list:\n",
    "        line += cipher[i].to_bytes(1, \"big\")\n",
    "    result = single_byte_xor_score(line)\n",
    "    columns.append(result[\"message\"])\n",
    "\n",
    "message = \"\"\n",
    "for i in range(min_ciphertext_length):\n",
    "    for c in columns:\n",
    "        message += c[i]\n",
    "\n",
    "message"
   ]
  },
  {
   "cell_type": "code",
   "execution_count": 21,
   "metadata": {},
   "outputs": [
    {
     "data": {
      "text/html": [
       "<div style=\"border:1px solid #c3e6cb;padding:.75rem 3rem;border-radius:.5rem;font-weight:bold;text-align: center;background-color:#d4edda;color:#155724;border-color:#c3e6cb;\">Completed</div>"
      ],
      "text/plain": [
       "<IPython.core.display.HTML object>"
      ]
     },
     "metadata": {},
     "output_type": "display_data"
    }
   ],
   "source": [
    "test(message)"
   ]
  },
  {
   "cell_type": "markdown",
   "metadata": {},
   "source": [
    "# Challenge 21: Implement the MT19937 Mersenne Twister RNG\n",
    "[Link](https://cryptopals.com/sets/3/challenges/21)"
   ]
  },
  {
   "cell_type": "markdown",
   "metadata": {},
   "source": [
    "> You can get the psuedocode for this from Wikipedia.  \n",
    "If you're writing in Python, Ruby, or (gah) PHP, your language is probably already giving you MT19937 as \"rand()\"; don't use rand(). Write the RNG yourself."
   ]
  },
  {
   "cell_type": "code",
   "execution_count": 22,
   "metadata": {},
   "outputs": [],
   "source": [
    "# Imports\n",
    "import time"
   ]
  },
  {
   "cell_type": "code",
   "execution_count": 23,
   "metadata": {},
   "outputs": [],
   "source": [
    "def get_lowest_bits(n: int, number_of_bits: int) -> int:\n",
    "    \"\"\"\n",
    "    Returns the lowest \"number_of_bits\" bits of n.\n",
    "    \"\"\"\n",
    "    mask = (1 << number_of_bits) - 1\n",
    "    return n & mask\n",
    "\n",
    "class MT19937:\n",
    "    \"\"\"\n",
    "    This implementation resembles the one of the Wikipedia pseudo-code.\n",
    "    \"\"\"\n",
    "\n",
    "    W, N, M, R = 32, 624, 397, 31\n",
    "    A = 0x9908B0DF\n",
    "    U, D = 11, 0xFFFFFFFF\n",
    "    S, B = 7, 0x9D2C5680\n",
    "    T, C = 15, 0xEFC60000\n",
    "    L = 18\n",
    "    F = 1812433253\n",
    "    LOWER_MASK = (1 << R) - 1\n",
    "    UPPER_MASK = get_lowest_bits(not LOWER_MASK, W)\n",
    "    \n",
    "    def __init__(self: object, seed: int):\n",
    "        self.mt = []\n",
    "\n",
    "        self.index = self.N\n",
    "        self.mt.append(seed)\n",
    "        for i in range(1, self.index):\n",
    "            self.mt.append(get_lowest_bits(self.F * (self.mt[i - 1] ^ (self.mt[i - 1] >> (self.W - 2))) + i, self.W))\n",
    "            \n",
    "    def extract_number(self: object) -> int:\n",
    "        \"\"\"\n",
    "        Extracts the new random number.\n",
    "        \"\"\"\n",
    "        if self.index >= self.N:\n",
    "            self.twist()\n",
    "\n",
    "        y = self.mt[self.index]\n",
    "        y ^= (y >> self.U) & self.D\n",
    "        y ^= (y << self.S) & self.B\n",
    "        y ^= (y << self.T) & self.C\n",
    "        y ^= (y >> self.L)\n",
    "\n",
    "        self.index += 1\n",
    "        return get_lowest_bits(y, self.W)\n",
    "\n",
    "    def twist(self: object):\n",
    "        \"\"\"\n",
    "        Performs the twisting part of the encryption.\n",
    "        \"\"\"\n",
    "        for i in range(self.N):\n",
    "            x = (self.mt[i] & self.UPPER_MASK) + (self.mt[(i + 1) % self.N] & self.LOWER_MASK)\n",
    "            x_a = x >> 1\n",
    "            if x % 2 != 0:\n",
    "                x_a ^= self.A\n",
    "\n",
    "            self.mt[i] = self.mt[(i + self.M) % self.N] ^ x_a\n",
    "\n",
    "        self.index = 0"
   ]
  },
  {
   "cell_type": "code",
   "execution_count": 24,
   "metadata": {},
   "outputs": [
    {
     "name": "stdout",
     "output_type": "stream",
     "text": [
      "2357136044\n",
      "1791095845\n",
      "1872583848\n",
      "2365658986\n",
      "4153361530\n",
      "953453411\n",
      "3834805130\n",
      "327741615\n",
      "3751350723\n",
      "44556670\n"
     ]
    }
   ],
   "source": [
    "# Check if the numbers look random\n",
    "for i in range(10):\n",
    "    print(MT19937(i).extract_number())"
   ]
  },
  {
   "cell_type": "code",
   "execution_count": 25,
   "metadata": {},
   "outputs": [
    {
     "data": {
      "text/html": [
       "<div style=\"border:1px solid #c3e6cb;padding:.75rem 3rem;border-radius:.5rem;font-weight:bold;text-align: center;background-color:#d4edda;color:#155724;border-color:#c3e6cb;\">Completed</div>"
      ],
      "text/plain": [
       "<IPython.core.display.HTML object>"
      ]
     },
     "metadata": {},
     "output_type": "display_data"
    }
   ],
   "source": [
    "test(True)"
   ]
  },
  {
   "cell_type": "markdown",
   "metadata": {},
   "source": [
    "# Challenge 22: Crack an MT19937 seed\n",
    "[Link](https://cryptopals.com/sets/3/challenges/22)"
   ]
  },
  {
   "cell_type": "markdown",
   "metadata": {},
   "source": [
    "> Make sure your MT19937 accepts an integer seed value. Test it (verify that you're getting the same sequence of outputs given a seed).  \n",
    "Write a routine that performs the following operation:\n",
    "* Wait a random number of seconds between, I don't know, 40 and 1000.\n",
    "* Seeds the RNG with the current Unix timestamp\n",
    "* Waits a random number of seconds again.\n",
    "* Returns the first 32 bit output of the RNG.\n",
    "\n",
    ">You get the idea. Go get coffee while it runs. Or just simulate the passage of time, although you're missing some of the fun of this exercise if you do that.  \n",
    "From the 32 bit RNG output, discover the seed."
   ]
  },
  {
   "cell_type": "code",
   "execution_count": 26,
   "metadata": {},
   "outputs": [],
   "source": [
    "# Imports\n",
    "import time\n",
    "import random"
   ]
  },
  {
   "cell_type": "code",
   "execution_count": 27,
   "metadata": {},
   "outputs": [],
   "source": [
    "def MT19937_timestamp_seed() -> (int, int):\n",
    "    \"\"\"\n",
    "    Generates a timestamp based seed for MT19937.\n",
    "    \"\"\"\n",
    "    \n",
    "    # Sleeps for a random time to generate a random seed.\n",
    "    time.sleep(random.randint(40, 100))\n",
    "    seed = int(time.time())\n",
    "    \n",
    "    # Initialises the object with the generated seed.\n",
    "    mt_rng = MT19937(seed)\n",
    "    \n",
    "    # Sleep for a random time to throw off the attacker.\n",
    "    time.sleep(random.randint(40, 100))\n",
    "    return mt_rng.extract_number(), seed"
   ]
  },
  {
   "cell_type": "code",
   "execution_count": 28,
   "metadata": {},
   "outputs": [],
   "source": [
    "def break_MT19937_seed(rng_function: callable) -> int:\n",
    "    \"\"\"\n",
    "    Breaks the MT19937 seed value.\n",
    "    \"\"\"\n",
    "    \n",
    "    random_number, real_seed = rng_function()\n",
    "    \n",
    "    # Note current time to start backtracking by the millisecond.\n",
    "    now = int(time.time())\n",
    "    \n",
    "    \n",
    "    # Assuming 200 seconds to be the maximum time between generation of seed and us receiving it.\n",
    "    before = now - 200\n",
    "    # Brtue force with the value of seed between the set time frame.\n",
    "    for seed in range(before, now):\n",
    "        rng = MT19937(seed)\n",
    "        number = rng.extract_number()\n",
    "        if number == random_number:\n",
    "            return seed"
   ]
  },
  {
   "cell_type": "code",
   "execution_count": 29,
   "metadata": {},
   "outputs": [
    {
     "data": {
      "text/html": [
       "<div style=\"border:1px solid #c3e6cb;padding:.75rem 3rem;border-radius:.5rem;font-weight:bold;text-align: center;background-color:#d4edda;color:#155724;border-color:#c3e6cb;\">Completed</div>"
      ],
      "text/plain": [
       "<IPython.core.display.HTML object>"
      ]
     },
     "metadata": {},
     "output_type": "display_data"
    }
   ],
   "source": [
    "number = break_MT19937_seed(MT19937_timestamp_seed)\n",
    "test(number)"
   ]
  },
  {
   "cell_type": "markdown",
   "metadata": {},
   "source": [
    "# Challenge 23: Clone an MT19937 RNG from its output\n",
    "[Link](https://cryptopals.com/sets/3/challenges/23)"
   ]
  },
  {
   "cell_type": "markdown",
   "metadata": {},
   "source": [
    "> The internal state of MT19937 consists of 624 32 bit integers.  \n",
    "For each batch of 624 outputs, MT permutes that internal state. By permuting state regularly, MT19937 achieves a period of 2**19937, which is Big.  \n",
    "Each time MT19937 is tapped, an element of its internal state is subjected to a tempering function that diffuses bits through the result.  \n",
    "The tempering function is invertible; you can write an \"untemper\" function that takes an MT19937 output and transforms it back into the corresponding element of the MT19937 state array.  \n",
    "To invert the temper transform, apply the inverse of each of the operations in the temper transform in reverse order. There are two kinds of operations in the temper transform each applied twice; one is an XOR against a right-shifted value, and the other is an XOR against a left-shifted value AND'd with a magic number. So you'll need code to invert the \"right\" and the \"left\" operation.  \n",
    "Once you have \"untemper\" working, create a new MT19937 generator, tap it for 624 outputs, untemper each of them to recreate the state of the generator, and splice that state into a new instance of the MT19937 generator.  \n",
    "The new \"spliced\" generator should predict the values of the original."
   ]
  },
  {
   "cell_type": "code",
   "execution_count": 30,
   "metadata": {},
   "outputs": [],
   "source": [
    "# Imports\n",
    "import time\n",
    "import random"
   ]
  },
  {
   "cell_type": "code",
   "execution_count": 31,
   "metadata": {},
   "outputs": [],
   "source": [
    "def int_to_bit_list(x: int) -> list:\n",
    "    \"\"\"\n",
    "    Convert an integer to it's binary form, and return the bits in a list.\n",
    "    \"\"\"\n",
    "    return [int(b) for b in \"{:032b}\".format(x)]\n",
    "\n",
    "def bit_list_to_int(l: list) -> int:\n",
    "    \"\"\"\n",
    "    Receive a list of bits and convert it into an integer.\n",
    "    \"\"\"\n",
    "    return int(''.join(str(x) for x in l), base=2)\n",
    "\n",
    "def invert_shift_mask_xor(y: int, direction: str, shift: int, mask=0xFFFFFFFF) -> int:\n",
    "    \"\"\"\n",
    "    Shift, mask and xor the given integer in the specified direction with the passed mask.\n",
    "    \"\"\"\n",
    "    y = int_to_bit_list(y)\n",
    "    mask = int_to_bit_list(mask)\n",
    "\n",
    "    if direction == \"left\":\n",
    "        y.reverse()\n",
    "        mask.reverse()\n",
    "    else:\n",
    "        assert direction == \"right\"\n",
    "\n",
    "    x = [None]*32\n",
    "    for n in range(32):\n",
    "        if n < shift:\n",
    "            x[n] = y[n]\n",
    "        else:\n",
    "            x[n] = y[n] ^ (mask[n] & x[n-shift])\n",
    "\n",
    "    if direction == 'left':\n",
    "        x.reverse()\n",
    "\n",
    "    return bit_list_to_int(x)\n",
    "\n",
    "def untemper(y: int) -> int:\n",
    "    \"\"\"\n",
    "    Reverses the temper part of the Mersenne Twister.\n",
    "    \"\"\"\n",
    "    (w, n, m, r) = (32, 624, 397, 31)\n",
    "    a = 0x9908B0DF\n",
    "    (u, d) = (11, 0xFFFFFFFF)\n",
    "    (s, b) = (7, 0x9D2C5680)\n",
    "    (t, c) = (15, 0xEFC60000)\n",
    "    l = 18\n",
    "    f = 1812433253\n",
    "\n",
    "    xx = y\n",
    "    xx = invert_shift_mask_xor(xx, direction='right', shift=l)\n",
    "    xx = invert_shift_mask_xor(xx, direction='left', shift=t, mask=c)\n",
    "    xx = invert_shift_mask_xor(xx, direction='left', shift=s, mask=b)\n",
    "    xx = invert_shift_mask_xor(xx, direction='right', shift=u, mask=d)\n",
    "\n",
    "    return xx"
   ]
  },
  {
   "cell_type": "code",
   "execution_count": 32,
   "metadata": {},
   "outputs": [],
   "source": [
    "def get_cloned_rng(original_rng: callable) -> callable:\n",
    "    \"\"\"Taps the given rng for 624 outputs, untempers each of them to recreate the state of the generator,\n",
    "    and splices that state into a new \"cloned\" instance of the MT19937 generator.\n",
    "    \"\"\"\n",
    "    mt = []\n",
    "\n",
    "    # Recreate the state mt of original_rng.\n",
    "    for i in range(MT19937.N):\n",
    "        mt.append(untemper(original_rng.extract_number()))\n",
    "\n",
    "    # Create a new generator and set it to have the same state.\n",
    "    cloned_rng = MT19937(0)\n",
    "    cloned_rng.mt = mt\n",
    "\n",
    "    return cloned_rng"
   ]
  },
  {
   "cell_type": "code",
   "execution_count": 33,
   "metadata": {},
   "outputs": [
    {
     "data": {
      "text/html": [
       "<div style=\"border:1px solid #c3e6cb;padding:.75rem 3rem;border-radius:.5rem;font-weight:bold;text-align: center;background-color:#d4edda;color:#155724;border-color:#c3e6cb;\">Completed</div>"
      ],
      "text/plain": [
       "<IPython.core.display.HTML object>"
      ]
     },
     "metadata": {},
     "output_type": "display_data"
    }
   ],
   "source": [
    "seed = random.randint(0, 2**32 - 1)\n",
    "rng = MT19937(seed)\n",
    "cloned_rng = get_cloned_rng(rng)\n",
    "\n",
    "# Check that the two PRNGs produce the same output.\n",
    "for i in range(99):\n",
    "    if rng.extract_number() != cloned_rng.extract_number():\n",
    "        test(rng.extract_number() == cloned_rng.extract_number())\n",
    "test(rng.extract_number() == cloned_rng.extract_number())"
   ]
  },
  {
   "cell_type": "markdown",
   "metadata": {},
   "source": [
    "# Challenge 24: Create the MT19937 stream cipher and break it\n",
    "[Link](https://cryptopals.com/sets/3/challenges/24)"
   ]
  },
  {
   "cell_type": "markdown",
   "metadata": {},
   "source": [
    "> You can create a trivial stream cipher out of any PRNG; use it to generate a sequence of 8 bit outputs and call those outputs a keystream. XOR each byte of plaintext with each successive byte of keystream.  \n",
    "Write the function that does this for MT19937 using a 16-bit seed. Verify that you can encrypt and decrypt properly. This code should look similar to your CTR code.  \n",
    "Use your function to encrypt a known plaintext (say, 14 consecutive 'A' characters) prefixed by a random number of random characters.  \n",
    "From the ciphertext, recover the \"key\" (the 16 bit seed).  \n",
    "Use the same idea to generate a random \"password reset token\" using MT19937 seeded from the current time.  \n",
    "Write a function to check if any given password token is actually the product of an MT19937 PRNG seeded with the current time."
   ]
  },
  {
   "cell_type": "code",
   "execution_count": 34,
   "metadata": {},
   "outputs": [],
   "source": [
    "# Imports\n",
    "import os\n",
    "import time\n",
    "import math\n",
    "import random"
   ]
  },
  {
   "cell_type": "markdown",
   "metadata": {},
   "source": [
    "The function mentioned in question to generate a keystream out of a 16-bit seed fed MT19937 generator."
   ]
  },
  {
   "cell_type": "code",
   "execution_count": 35,
   "metadata": {},
   "outputs": [],
   "source": [
    "def MT19937_keystream_generator(seed: int) -> bytes:\n",
    "    \"\"\"\n",
    "    Generate keystream for MT19937\n",
    "    \"\"\"\n",
    "    # Verify that the seed is atmost 16 bit long.\n",
    "    assert math.log2(seed) <= 16\n",
    "    \n",
    "    prng = MT19937(seed)\n",
    "    while True:\n",
    "        number = prng.extract_number()\n",
    "        yield from number.to_bytes(4, \"big\")"
   ]
  },
  {
   "cell_type": "markdown",
   "metadata": {},
   "source": [
    "The function to encrypt a given string via a MT19937 generated keystream."
   ]
  },
  {
   "cell_type": "code",
   "execution_count": 36,
   "metadata": {},
   "outputs": [],
   "source": [
    "def MT19937_CTR(string: str, seed: int) -> bytes:\n",
    "    \"\"\"\n",
    "    Encrypts a plaintext with MT19937 CTR Mode.\n",
    "    \"\"\"\n",
    "    # Verify that the seed is an integer.\n",
    "    assert isinstance(seed, int)\n",
    "    \n",
    "    keystream = MT19937_keystream_generator(seed)\n",
    "    if len(string) == 0:\n",
    "        return b\"\"\n",
    "    else:\n",
    "        return bytes([(b1 ^ b2) for b1, b2 in zip(string, keystream)])"
   ]
  },
  {
   "cell_type": "code",
   "execution_count": 37,
   "metadata": {},
   "outputs": [
    {
     "name": "stdout",
     "output_type": "stream",
     "text": [
      "> Seed value coded to be 6605\n",
      "> Brute force successful.\n",
      "Seed: 6605\n"
     ]
    },
    {
     "data": {
      "text/html": [
       "<div style=\"border:1px solid #c3e6cb;padding:.75rem 3rem;border-radius:.5rem;font-weight:bold;text-align: center;background-color:#d4edda;color:#155724;border-color:#c3e6cb;\">Completed</div>"
      ],
      "text/plain": [
       "<IPython.core.display.HTML object>"
      ]
     },
     "metadata": {},
     "output_type": "display_data"
    }
   ],
   "source": [
    "plaintext = \"Hello World!\"\n",
    "\n",
    "# Append random characters before plainttext.\n",
    "string = b\"\"\n",
    "for _ in range(random.randint(0, 10)):\n",
    "    i = random.randint(33, 126)\n",
    "    string += chr(i).encode()\n",
    "string += plaintext.encode()\n",
    "\n",
    "seed = random.randint(1, 2**16)\n",
    "print(\"> Seed value coded to be\", seed)\n",
    "cipher_bytes = MT19937_CTR(string, seed)\n",
    "deciphered_bytes = MT19937_CTR(cipher_bytes, seed)\n",
    "\n",
    "# Verify if it can be decrypted.\n",
    "assert string == deciphered_bytes\n",
    "\n",
    "\n",
    "# A 16 bit key makes it easy to brute force the key.\n",
    "for seed in range(1, 2**16):\n",
    "    deciphered_bytes = MT19937_CTR(cipher_bytes, seed)\n",
    "    try:\n",
    "        assert string == deciphered_bytes\n",
    "        print(\"> Brute force successful.\\nSeed:\", seed)\n",
    "        test(True)\n",
    "        break\n",
    "    except AssertionError:\n",
    "        continue"
   ]
  }
 ],
 "metadata": {
  "kernelspec": {
   "display_name": "Python 3",
   "language": "python",
   "name": "python3"
  },
  "language_info": {
   "codemirror_mode": {
    "name": "ipython",
    "version": 3
   },
   "file_extension": ".py",
   "mimetype": "text/x-python",
   "name": "python",
   "nbconvert_exporter": "python",
   "pygments_lexer": "ipython3",
   "version": "3.8.1"
  }
 },
 "nbformat": 4,
 "nbformat_minor": 4
}
