{
 "cells": [
  {
   "cell_type": "markdown",
   "metadata": {},
   "source": [
    "# Set 1"
   ]
  },
  {
   "cell_type": "markdown",
   "metadata": {},
   "source": [
    "### Challenge 1"
   ]
  },
  {
   "cell_type": "code",
   "execution_count": 1,
   "metadata": {},
   "outputs": [],
   "source": [
    "from base64 import b64encode"
   ]
  },
  {
   "cell_type": "code",
   "execution_count": 2,
   "metadata": {},
   "outputs": [],
   "source": [
    "hex_string = \"49276d206b696c6c696e6720796f757220627261696e206c696b65206120706f69736f6e6f7573206d757368726f6f6d\"\n",
    "target_string = \"SSdtIGtpbGxpbmcgeW91ciBicmFpbiBsaWtlIGEgcG9pc29ub3VzIG11c2hyb29t\""
   ]
  },
  {
   "cell_type": "code",
   "execution_count": 3,
   "metadata": {},
   "outputs": [],
   "source": [
    "byte_array = bytes.fromhex(hex_string)"
   ]
  },
  {
   "cell_type": "code",
   "execution_count": 4,
   "metadata": {},
   "outputs": [],
   "source": [
    "base64_byte_array = b64encode(byte_array)"
   ]
  },
  {
   "cell_type": "code",
   "execution_count": 5,
   "metadata": {},
   "outputs": [],
   "source": [
    "assert base64_byte_array.decode(\"utf-8\") == target_string"
   ]
  },
  {
   "cell_type": "markdown",
   "metadata": {},
   "source": [
    "### Challenge 2"
   ]
  },
  {
   "cell_type": "code",
   "execution_count": 6,
   "metadata": {},
   "outputs": [],
   "source": [
    "from base64 import b64encode"
   ]
  },
  {
   "cell_type": "code",
   "execution_count": 7,
   "metadata": {},
   "outputs": [],
   "source": [
    "hex_string = \"1c0111001f010100061a024b53535009181c\"\n",
    "key_string = \"686974207468652062756c6c277320657965\"\n",
    "target_string = \"746865206b696420646f6e277420706c6179\""
   ]
  },
  {
   "cell_type": "code",
   "execution_count": 8,
   "metadata": {},
   "outputs": [],
   "source": [
    "byte_string = bytes.fromhex(hex_string)\n",
    "key_byte_string = bytes.fromhex(key_string)"
   ]
  },
  {
   "cell_type": "code",
   "execution_count": 9,
   "metadata": {},
   "outputs": [],
   "source": [
    "def xor_bytes(enc1, enc2):\n",
    "    cipher = b\"\".join([bytes(b1^b2 for b1, b2 in zip(enc1, enc2))])\n",
    "    return cipher"
   ]
  },
  {
   "cell_type": "code",
   "execution_count": 10,
   "metadata": {},
   "outputs": [],
   "source": [
    "assert xor_bytes(byte_string, key_byte_string).hex() == target_string"
   ]
  },
  {
   "cell_type": "markdown",
   "metadata": {},
   "source": [
    "### Challenge 3"
   ]
  },
  {
   "cell_type": "code",
   "execution_count": 11,
   "metadata": {},
   "outputs": [],
   "source": [
    "from itertools import zip_longest"
   ]
  },
  {
   "cell_type": "code",
   "execution_count": 12,
   "metadata": {},
   "outputs": [],
   "source": [
    "hex_string = \"1b37373331363f78151b7f2b783431333d78397828372d363c78373e783a393b3736\""
   ]
  },
  {
   "cell_type": "code",
   "execution_count": 13,
   "metadata": {},
   "outputs": [],
   "source": [
    "byte_string = bytes.fromhex(hex_string)"
   ]
  },
  {
   "cell_type": "code",
   "execution_count": 14,
   "metadata": {},
   "outputs": [],
   "source": [
    "def calculate_score(text):\n",
    "    \n",
    "    # Block for frequency analysis\n",
    "    frequency_chart = {\n",
    "        'E': 12.70, 'T': 9.06, 'A': 8.17, 'O': 7.51, 'I': 6.97, 'N': 6.75, 'S': 6.33, 'H': 6.09, \n",
    "        'R': 5.99, 'D': 4.25, 'L': 4.03, 'C': 2.78, 'U': 2.76, 'M': 2.41, 'W': 2.36, 'F': 2.23,\n",
    "        'G': 2.02, 'Y': 1.97, 'P': 1.93, 'B': 1.29, 'V': 0.98, 'K': 0.77, 'J': 0.15,\n",
    "        'X': 0.15, 'Q': 0.10, 'Z': 0.07, ' ': 35\n",
    "    }\n",
    "    \n",
    "    score = 0.0\n",
    "    for letter in text.upper():\n",
    "        score += frequency_chart.get(letter, 0)\n",
    "    return score"
   ]
  },
  {
   "cell_type": "code",
   "execution_count": 15,
   "metadata": {},
   "outputs": [],
   "source": [
    "def single_byte_xor_letters(ciphertext):\n",
    "    \n",
    "    ascii_text_chars = list(range(97, 122)) + [32]\n",
    "    best_candidate = None\n",
    "    \n",
    "    for i in range(2**8): # for every possible key\n",
    "        # converting the key from a number to a byte\n",
    "        candidate_key = i.to_bytes(1, byteorder='little')\n",
    "        keystream = candidate_key*len(ciphertext)\n",
    "        candidate_message = bytes([x^y for (x, y) in zip(ciphertext, keystream)])\n",
    "        nb_letters = sum([ x in ascii_text_chars for x in candidate_message])\n",
    "        # if the obtained message has more letters than any other candidate before\n",
    "        if best_candidate == None or nb_letters > best_candidate['nb_letters']:\n",
    "            # store the current key and message as our best candidate so far\n",
    "            best_candidate = {\"message\": candidate_message, 'nb_letters': nb_letters, 'key': candidate_key}\n",
    "    \n",
    "    return best_candidate\n"
   ]
  },
  {
   "cell_type": "code",
   "execution_count": 16,
   "metadata": {},
   "outputs": [],
   "source": [
    "def single_byte_xor_score(ciphertext):\n",
    "    max_score = 0\n",
    "    key = ''\n",
    "    plaintext = \"\"\n",
    "    \n",
    "    for testkey in range(256):\n",
    "        testtext = \"\"\n",
    "        for letter in ciphertext:\n",
    "            testtext += chr(letter ^ testkey)\n",
    "        \n",
    "        cur_score = calculate_score(testtext)\n",
    "        if cur_score > max_score:\n",
    "            max_score = cur_score\n",
    "            key = chr(testkey)\n",
    "            plaintext = testtext\n",
    "            \n",
    "    return {'score' : max_score, 'key' : key, 'message' : plaintext}"
   ]
  },
  {
   "cell_type": "code",
   "execution_count": 17,
   "metadata": {},
   "outputs": [
    {
     "data": {
      "text/plain": [
       "\"Cooking MC's like a pound of bacon\""
      ]
     },
     "execution_count": 17,
     "metadata": {},
     "output_type": "execute_result"
    }
   ],
   "source": [
    "single_byte_xor_letters(byte_string)['message'].decode(\"utf-8\")"
   ]
  },
  {
   "cell_type": "markdown",
   "metadata": {},
   "source": [
    "### Challenge 4"
   ]
  },
  {
   "cell_type": "code",
   "execution_count": 18,
   "metadata": {},
   "outputs": [],
   "source": [
    "inf = open('4.txt', 'r')\n",
    "hex_data = inf.read()\n",
    "byte_strings = []\n",
    "\n",
    "for line in hex_data.split():\n",
    "    byte_line = bytes.fromhex(line)\n",
    "    byte_strings.append(byte_line)"
   ]
  },
  {
   "cell_type": "code",
   "execution_count": 19,
   "metadata": {},
   "outputs": [
    {
     "name": "stdout",
     "output_type": "stream",
     "text": [
      "Now that the party is jumping\n",
      "\n"
     ]
    }
   ],
   "source": [
    "plaintext = \"\"\n",
    "max_score = 0\n",
    "\n",
    "for line in byte_strings:\n",
    "    result = single_byte_xor_score(line)\n",
    "    cur_score = result['score']\n",
    "    testtext = result['message']\n",
    "    if cur_score > max_score:\n",
    "        max_score = cur_score\n",
    "        plaintext = testtext\n",
    "\n",
    "print(plaintext)"
   ]
  },
  {
   "cell_type": "markdown",
   "metadata": {},
   "source": [
    "### Challenge 5"
   ]
  },
  {
   "cell_type": "code",
   "execution_count": 20,
   "metadata": {},
   "outputs": [],
   "source": [
    "plaintext = \"Burning 'em, if you ain't quick and nimble\\nI go crazy when I hear a cymbal\"\n",
    "key = \"ICE\"\n",
    "target_string = \"0b3637272a2b2e63622c2e69692a23693a2a3c6324202d623d63343c2a26226324272765272a282b2f20430a652e2c652a3124333a653e2b2027630c692b20283165286326302e27282f\""
   ]
  },
  {
   "cell_type": "code",
   "execution_count": 21,
   "metadata": {},
   "outputs": [],
   "source": [
    "byte_string = plaintext.encode()\n",
    "bytekey = key.encode()"
   ]
  },
  {
   "cell_type": "code",
   "execution_count": 22,
   "metadata": {},
   "outputs": [],
   "source": [
    "def repeated_xor(text, key):\n",
    "    quotient, remainder = divmod(len(text), len(key))\n",
    "    return bytes([x ^ y for x, y in zip(text, bytes(key * quotient + key[:remainder]))])"
   ]
  },
  {
   "cell_type": "code",
   "execution_count": 23,
   "metadata": {},
   "outputs": [],
   "source": [
    "ciphertext = repeated_xor(byte_string, bytekey)"
   ]
  },
  {
   "cell_type": "code",
   "execution_count": 24,
   "metadata": {},
   "outputs": [],
   "source": [
    "assert target_string == ciphertext.hex()"
   ]
  },
  {
   "cell_type": "markdown",
   "metadata": {},
   "source": [
    "### Challenge 6"
   ]
  },
  {
   "cell_type": "code",
   "execution_count": 25,
   "metadata": {},
   "outputs": [],
   "source": [
    "from base64 import b64decode"
   ]
  },
  {
   "cell_type": "code",
   "execution_count": 26,
   "metadata": {},
   "outputs": [],
   "source": [
    "inf = open('6.txt', 'r')\n",
    "b64_data = inf.read()\n",
    "byte_data = b64decode(b64_data)"
   ]
  },
  {
   "cell_type": "code",
   "execution_count": 27,
   "metadata": {},
   "outputs": [],
   "source": [
    "def hamming_distance(text1, text2):\n",
    "    distance = 0\n",
    "    \n",
    "    dec_list = [b1 ^ b2 for b1, b2 in zip(text1, text2)]\n",
    "    for decimal in dec_list:\n",
    "        distance += bin(decimal).count(\"1\")\n",
    "        \n",
    "    if len(text1) > len(text2):\n",
    "        diff = len(text1) - len(text2)\n",
    "        text = text1\n",
    "    else:\n",
    "        diff = len(text2) - len(text1)\n",
    "        text = text2\n",
    "        \n",
    "    for i in range(1, diff+1):\n",
    "        distance += bin(text[-i]).count(\"1\")\n",
    "        \n",
    "    return distance"
   ]
  },
  {
   "cell_type": "code",
   "execution_count": 28,
   "metadata": {},
   "outputs": [],
   "source": [
    "def break_repeated_xor(ciphertext):\n",
    "    keysize = 0\n",
    "    min_distance = 100000\n",
    "    for key in range(2, 41):\n",
    "        edit_distance = 0\n",
    "        blocks = [ciphertext[i*key:(i+1)*key] for i in range(4)]\n",
    "        for i in range(0, len(blocks)):\n",
    "            for j in range(0, len(blocks)):\n",
    "                edit_distance += hamming_distance(blocks[i], blocks[j])\n",
    "        \n",
    "        normalized_distance = edit_distance/key\n",
    "        \n",
    "        if normalized_distance < min_distance:\n",
    "            min_distance = normalized_distance\n",
    "            keysize = key\n",
    "    \n",
    "    return keysize"
   ]
  },
  {
   "cell_type": "code",
   "execution_count": 29,
   "metadata": {},
   "outputs": [],
   "source": [
    "keysize = break_repeated_xor(byte_data)\n",
    "cipher_blocks = [byte_data[i:i+keysize] for i in range(0, len(byte_data), keysize)]\n",
    "#To remove the last block with less characters\n",
    "cipher_blocks.pop()\n",
    "cipher_block_size = len(cipher_blocks[0])"
   ]
  },
  {
   "cell_type": "code",
   "execution_count": 30,
   "metadata": {},
   "outputs": [],
   "source": [
    "key = \"\"\n",
    "for i in range(0, cipher_block_size):\n",
    "    single_xor_block = b\"\"\n",
    "    for block in cipher_blocks:\n",
    "        single_xor_block += (block[i]).to_bytes(1, \"little\")\n",
    "        \n",
    "    result = single_byte_xor_score(single_xor_block)\n",
    "    testkey = result['key']\n",
    "    key += testkey"
   ]
  },
  {
   "cell_type": "code",
   "execution_count": 31,
   "metadata": {},
   "outputs": [
    {
     "name": "stdout",
     "output_type": "stream",
     "text": [
      "Key: Terminator X: Bring the noise\n",
      "\n",
      "Deciphered text:\n",
      " I'm back and I'm ringin' the bell \n",
      "A rockin' on the mike while the fly girls yell \n",
      "In ecstasy in the back of me \n",
      "Well that's my DJ Deshay cuttin' all them Z's \n",
      "Hittin' hard and the girlies goin' crazy \n",
      "Vanilla's on the mike, man I'm not lazy. \n",
      "\n",
      "I'm lettin' my drug kick in \n",
      "It controls my mouth and I begin \n",
      "To just let it flow, let my concepts go \n",
      "My posse's to the side yellin', Go Vanilla Go! \n",
      "\n",
      "Smooth 'cause that's the way I will be \n",
      "And if you don't give a damn, then \n",
      "Why you starin' at me \n",
      "So get off 'cause I control the stage \n",
      "There's no dissin' allowed \n",
      "I'm in my own phase \n",
      "The girlies sa y they love me and that is ok \n",
      "And I can dance better than any kid n' play \n",
      "\n",
      "Stage 2 -- Yea the one ya' wanna listen to \n",
      "It's off my head so let the beat play through \n",
      "So I can funk it up and make it sound good \n",
      "1-2-3 Yo -- Knock on some wood \n",
      "For good luck, I like my rhymes atrocious \n",
      "Supercalafragilisticexpialidocious \n",
      "I'm an effect and that you can bet \n",
      "I can take a fly girl and make her wet. \n",
      "\n",
      "I'm like Samson -- Samson to Delilah \n",
      "There's no denyin', You can try to hang \n",
      "But you'll keep tryin' to get my style \n",
      "Over and over, practice makes perfect \n",
      "But not if you're a loafer. \n",
      "\n",
      "You'll get nowhere, no place, no time, no girls \n",
      "Soon -- Oh my God, homebody, you probably eat \n",
      "Spaghetti with a spoon! Come on and say it! \n",
      "\n",
      "VIP. Vanilla Ice yep, yep, I'm comin' hard like a rhino \n",
      "Intoxicating so you stagger like a wino \n",
      "So punks stop trying and girl stop cryin' \n",
      "Vanilla Ice is sellin' and you people are buyin' \n",
      "'Cause why the freaks are jockin' like Crazy Glue \n",
      "Movin' and groovin' trying to sing along \n",
      "All through the ghetto groovin' this here song \n",
      "Now you're amazed by the VIP posse. \n",
      "\n",
      "Steppin' so hard like a German Nazi \n",
      "Startled by the bases hittin' ground \n",
      "There's no trippin' on mine, I'm just gettin' down \n",
      "Sparkamatic, I'm hangin' tight like a fanatic \n",
      "You trapped me once and I thought that \n",
      "You might have it \n",
      "So step down and lend me your ear \n",
      "'89 in my time! You, '90 is my year. \n",
      "\n",
      "You're weakenin' fast, YO! and I can tell it \n",
      "Your body's gettin' hot, so, so I can smell it \n",
      "So don't be mad and don't be sad \n",
      "'Cause the lyrics belong to ICE, You can call me Dad \n",
      "You're pitchin' a fit, so step back and endure \n",
      "Let the witch doctor, Ice, do the dance to cure \n",
      "So come up close and don't be square \n",
      "You wanna battle me -- Anytime, anywhere \n",
      "\n",
      "You thought that I was weak, Boy, you're dead wrong \n",
      "So come on, everybody and sing this song \n",
      "\n",
      "Say -- Play that funky music Say, go white boy, go white boy go \n",
      "play that funky music Go white boy, go white boy, go \n",
      "Lay down and boogie and play that funky music till you die. \n",
      "\n",
      "Play that funky music Come on, Come on, let me hear \n",
      "Play that funky music white boy you say it, say it \n",
      "Play that funky music A little louder now \n",
      "Play that funky music, white boy Come on, Come on, Come on \n",
      "Play that funky music\n"
     ]
    }
   ],
   "source": [
    "print(\"Key:\", key)\n",
    "print(\"\\nDeciphered text:\\n\", repeated_xor(byte_data, key.encode()).decode(\"utf-8\").strip())"
   ]
  },
  {
   "cell_type": "markdown",
   "metadata": {},
   "source": [
    "### Challenge 7"
   ]
  },
  {
   "cell_type": "code",
   "execution_count": 32,
   "metadata": {},
   "outputs": [],
   "source": [
    "from base64 import b64decode\n",
    "from Crypto.Cipher import AES"
   ]
  },
  {
   "cell_type": "code",
   "execution_count": 33,
   "metadata": {},
   "outputs": [],
   "source": [
    "inf = open('7.txt', 'r')\n",
    "b64_data = inf.read()\n",
    "byte_data = b64decode(b64_data)\n",
    "\n",
    "key = b\"YELLOW SUBMARINE\""
   ]
  },
  {
   "cell_type": "code",
   "execution_count": 34,
   "metadata": {},
   "outputs": [],
   "source": [
    "def AES_ECB_Decrypt(ciphertext, key):\n",
    "    cipher = AES.new(key, AES.MODE_ECB)\n",
    "    return cipher.decrypt(ciphertext)"
   ]
  },
  {
   "cell_type": "code",
   "execution_count": 35,
   "metadata": {},
   "outputs": [
    {
     "name": "stdout",
     "output_type": "stream",
     "text": [
      "I'm back and I'm ringin' the bell \n",
      "A rockin' on the mike while the fly girls yell \n",
      "In ecstasy in the back of me \n",
      "Well that's my DJ Deshay cuttin' all them Z's \n",
      "Hittin' hard and the girlies goin' crazy \n",
      "Vanilla's on the mike, man I'm not lazy. \n",
      "\n",
      "I'm lettin' my drug kick in \n",
      "It controls my mouth and I begin \n",
      "To just let it flow, let my concepts go \n",
      "My posse's to the side yellin', Go Vanilla Go! \n",
      "\n",
      "Smooth 'cause that's the way I will be \n",
      "And if you don't give a damn, then \n",
      "Why you starin' at me \n",
      "So get off 'cause I control the stage \n",
      "There's no dissin' allowed \n",
      "I'm in my own phase \n",
      "The girlies sa y they love me and that is ok \n",
      "And I can dance better than any kid n' play \n",
      "\n",
      "Stage 2 -- Yea the one ya' wanna listen to \n",
      "It's off my head so let the beat play through \n",
      "So I can funk it up and make it sound good \n",
      "1-2-3 Yo -- Knock on some wood \n",
      "For good luck, I like my rhymes atrocious \n",
      "Supercalafragilisticexpialidocious \n",
      "I'm an effect and that you can bet \n",
      "I can take a fly girl and make her wet. \n",
      "\n",
      "I'm like Samson -- Samson to Delilah \n",
      "There's no denyin', You can try to hang \n",
      "But you'll keep tryin' to get my style \n",
      "Over and over, practice makes perfect \n",
      "But not if you're a loafer. \n",
      "\n",
      "You'll get nowhere, no place, no time, no girls \n",
      "Soon -- Oh my God, homebody, you probably eat \n",
      "Spaghetti with a spoon! Come on and say it! \n",
      "\n",
      "VIP. Vanilla Ice yep, yep, I'm comin' hard like a rhino \n",
      "Intoxicating so you stagger like a wino \n",
      "So punks stop trying and girl stop cryin' \n",
      "Vanilla Ice is sellin' and you people are buyin' \n",
      "'Cause why the freaks are jockin' like Crazy Glue \n",
      "Movin' and groovin' trying to sing along \n",
      "All through the ghetto groovin' this here song \n",
      "Now you're amazed by the VIP posse. \n",
      "\n",
      "Steppin' so hard like a German Nazi \n",
      "Startled by the bases hittin' ground \n",
      "There's no trippin' on mine, I'm just gettin' down \n",
      "Sparkamatic, I'm hangin' tight like a fanatic \n",
      "You trapped me once and I thought that \n",
      "You might have it \n",
      "So step down and lend me your ear \n",
      "'89 in my time! You, '90 is my year. \n",
      "\n",
      "You're weakenin' fast, YO! and I can tell it \n",
      "Your body's gettin' hot, so, so I can smell it \n",
      "So don't be mad and don't be sad \n",
      "'Cause the lyrics belong to ICE, You can call me Dad \n",
      "You're pitchin' a fit, so step back and endure \n",
      "Let the witch doctor, Ice, do the dance to cure \n",
      "So come up close and don't be square \n",
      "You wanna battle me -- Anytime, anywhere \n",
      "\n",
      "You thought that I was weak, Boy, you're dead wrong \n",
      "So come on, everybody and sing this song \n",
      "\n",
      "Say -- Play that funky music Say, go white boy, go white boy go \n",
      "play that funky music Go white boy, go white boy, go \n",
      "Lay down and boogie and play that funky music till you die. \n",
      "\n",
      "Play that funky music Come on, Come on, let me hear \n",
      "Play that funky music white boy you say it, say it \n",
      "Play that funky music A little louder now \n",
      "Play that funky music, white boy Come on, Come on, Come on \n",
      "Play that funky music \n",
      "\u0004\u0004\u0004\u0004\n"
     ]
    }
   ],
   "source": [
    "byte_text = AES_ECB_Decrypt(byte_data, key)\n",
    "#last 4 rubbish bytes is pkcs7 padding of \\x04\n",
    "print(byte_text.decode(\"utf-8\").strip())"
   ]
  },
  {
   "cell_type": "markdown",
   "metadata": {},
   "source": [
    "### Challenge 8"
   ]
  },
  {
   "cell_type": "code",
   "execution_count": 36,
   "metadata": {},
   "outputs": [],
   "source": [
    "from base64 import b64decode\n",
    "from Crypto.Cipher import AES"
   ]
  },
  {
   "cell_type": "code",
   "execution_count": 37,
   "metadata": {},
   "outputs": [],
   "source": [
    "ciphertext_list = [bytes.fromhex(line.strip()) for line in open('8.txt')]"
   ]
  },
  {
   "cell_type": "code",
   "execution_count": 38,
   "metadata": {},
   "outputs": [],
   "source": [
    "def detectAES_ECB(ciphertext):\n",
    "    blocks = [ciphertext[i:i+AES.block_size] for i in range(0, len(ciphertext), AES.block_size)]\n",
    "    return len(blocks)-len(set(blocks))"
   ]
  },
  {
   "cell_type": "code",
   "execution_count": 39,
   "metadata": {},
   "outputs": [
    {
     "name": "stdout",
     "output_type": "stream",
     "text": [
      "Number of repitions: 3\n",
      "ECB ciphered text: b'\\xd8\\x80a\\x97@\\xa8\\xa1\\x9bx@\\xa8\\xa3\\x1c\\x81\\n=\\x08d\\x9a\\xf7\\r\\xc0oO\\xd5\\xd2\\xd6\\x9ctL\\xd2\\x83\\xe2\\xdd\\x05/kd\\x1d\\xbf\\x9d\\x11\\xb04\\x85B\\xbbW\\x08d\\x9a\\xf7\\r\\xc0oO\\xd5\\xd2\\xd6\\x9ctL\\xd2\\x83\\x94u\\xc9\\xdf\\xdb\\xc1\\xd4e\\x97\\x94\\x9d\\x9c~\\x82\\xbfZ\\x08d\\x9a\\xf7\\r\\xc0oO\\xd5\\xd2\\xd6\\x9ctL\\xd2\\x83\\x97\\xa9>\\xab\\x8dj\\xec\\xd5fH\\x91Tx\\x9ak\\x03\\x08d\\x9a\\xf7\\r\\xc0oO\\xd5\\xd2\\xd6\\x9ctL\\xd2\\x83\\xd4\\x03\\x18\\x0c\\x98\\xc8\\xf6\\xdb\\x1f*?\\x9c@@\\xde\\xb0\\xabQ\\xb2\\x993\\xf2\\xc1#\\xc5\\x83\\x86\\xb0o\\xba\\x18j'\n"
     ]
    }
   ],
   "source": [
    "max_score = 0\n",
    "text_ECB = \"\"\n",
    "\n",
    "for cipher in ciphertext_list:\n",
    "    score = detectAES_ECB(cipher)\n",
    "    if score > max_score:\n",
    "        max_score = score\n",
    "        text_ECB = cipher\n",
    "        \n",
    "print(\"Number of repitions: {}\".format(max_score))\n",
    "print(\"ECB ciphered text: {}\".format(text_ECB))"
   ]
  },
  {
   "cell_type": "markdown",
   "metadata": {},
   "source": [
    "# Set 2"
   ]
  },
  {
   "cell_type": "markdown",
   "metadata": {},
   "source": [
    "### Challenge 9"
   ]
  },
  {
   "cell_type": "code",
   "execution_count": 74,
   "metadata": {},
   "outputs": [],
   "source": [
    "plaintext = \"YELLOW SUBMARINE\"\n",
    "target_bytes = b\"YELLOW SUBMARINE\\x04\\x04\\x04\\x04\""
   ]
  },
  {
   "cell_type": "code",
   "execution_count": 75,
   "metadata": {},
   "outputs": [],
   "source": [
    "block_size = 20"
   ]
  },
  {
   "cell_type": "code",
   "execution_count": 76,
   "metadata": {},
   "outputs": [],
   "source": [
    "def pkcs7_pad(plaintext, block_size):\n",
    "    if len(plaintext) == block_size:\n",
    "        return plaintext\n",
    "    pad = block_size - len(plaintext) % block_size\n",
    "    plaintext += (pad.to_bytes(1,\"big\"))*pad\n",
    "    return plaintext"
   ]
  },
  {
   "cell_type": "code",
   "execution_count": 77,
   "metadata": {},
   "outputs": [],
   "source": [
    "assert pkcs7_pad(plaintext.encode(), block_size) == target_bytes"
   ]
  },
  {
   "cell_type": "markdown",
   "metadata": {},
   "source": [
    "### Challenge 10"
   ]
  },
  {
   "cell_type": "code",
   "execution_count": 44,
   "metadata": {},
   "outputs": [],
   "source": [
    "from base64 import b64decode\n",
    "from Crypto.Cipher import AES"
   ]
  },
  {
   "cell_type": "code",
   "execution_count": 45,
   "metadata": {},
   "outputs": [],
   "source": [
    "byte_string = b\"\".join([b64decode(line.strip()) for line in open(\"10.txt\").readlines()])\n",
    "key = b\"YELLOW SUBMARINE\""
   ]
  },
  {
   "cell_type": "code",
   "execution_count": 46,
   "metadata": {},
   "outputs": [],
   "source": [
    "def AES_ECB_Decrypt(ciphertext, key):\n",
    "    cipher = AES.new(key, AES.MODE_ECB)\n",
    "    return pkcs7_unpad(cipher.decrypt(ciphertext))"
   ]
  },
  {
   "cell_type": "code",
   "execution_count": 47,
   "metadata": {},
   "outputs": [],
   "source": [
    "def pkcs7_padded(text):\n",
    "    padding = text[-text[-1]:]\n",
    "    # Check that all the bytes in the range indicated by the padding are equal to the padding value itself\n",
    "    return all(padding[b] == len(padding) for b in range(0, len(padding)))"
   ]
  },
  {
   "cell_type": "code",
   "execution_count": 48,
   "metadata": {},
   "outputs": [],
   "source": [
    "def pkcs7_unpad(paddedtext):\n",
    "    if pkcs7_padded(paddedtext):\n",
    "        pad_Length = paddedtext[len(paddedtext)-1]\n",
    "        return paddedtext[:-pad_Length]\n",
    "    else:\n",
    "        return paddedtext"
   ]
  },
  {
   "cell_type": "code",
   "execution_count": 49,
   "metadata": {},
   "outputs": [],
   "source": [
    "def AES_CBC_Decrypt(ciphertext, IV, key):\n",
    "    previous = IV\n",
    "    keysize = len(key)\n",
    "    plaintext = b\"\"\n",
    "    cipher = \"\"\n",
    "    \n",
    "    for i in range(0, len(ciphertext), keysize):\n",
    "        cipher = AES_ECB_Decrypt(ciphertext[i:i+keysize], key)\n",
    "        xor_list = [chr(b1 ^ b2) for b1, b2 in zip(cipher, previous)]\n",
    "        plaintext += \"\".join(xor_list).encode()\n",
    "        previous = ciphertext[i:i+keysize]\n",
    "        \n",
    "    return plaintext"
   ]
  },
  {
   "cell_type": "code",
   "execution_count": 50,
   "metadata": {},
   "outputs": [
    {
     "name": "stdout",
     "output_type": "stream",
     "text": [
      "I'm back and I'm ringin' the bell \n",
      "A rockin' on the mike while the fly girls yell \n",
      "In ecstasy in the back of me \n",
      "Well that's my DJ Deshay cuttin' all them Z's \n",
      "Hittin' hard and the girlies goin' crazy \n",
      "Vanilla's on the mike, man I'm not lazy. \n",
      "\n",
      "I'm lettin' my drug kick in \n",
      "It controls my mouth and I begin \n",
      "To just let it flow, let my concepts go \n",
      "My posse's to the side yellin', Go Vanilla Go! \n",
      "\n",
      "Smooth 'cause that's the way I will be \n",
      "And if you don't give a damn, then \n",
      "Why you starin' at me \n",
      "So get off 'cause I control the stage \n",
      "There's no dissin' allowed \n",
      "I'm in my own phase \n",
      "The girlies sa y they love me and that is ok \n",
      "And I can dance better than any kid n' play \n",
      "\n",
      "Stage 2 -- Yea the one ya' wanna listen to \n",
      "It's off my head so let the beat play through \n",
      "So I can funk it up and make it sound good \n",
      "1-2-3 Yo -- Knock on some wood \n",
      "For good luck, I like my rhymes atrocious \n",
      "Supercalafragilisticexpialidocious \n",
      "I'm an effect and that you can bet \n",
      "I can take a fly girl and make her wet. \n",
      "\n",
      "I'm like Samson -- Samson to Delilah \n",
      "There's no denyin', You can try to hang \n",
      "But you'll keep tryin' to get my style \n",
      "Over and over, practice makes perfect \n",
      "But not if you're a loafer. \n",
      "\n",
      "You'll get nowhere, no place, no time, no girls \n",
      "Soon -- Oh my God, homebody, you probably eat \n",
      "Spaghetti with a spoon! Come on and say it! \n",
      "\n",
      "VIP. Vanilla Ice yep, yep, I'm comin' hard like a rhino \n",
      "Intoxicating so you stagger like a wino \n",
      "So punks stop trying and girl stop cryin' \n",
      "Vanilla Ice is sellin' and you people are buyin' \n",
      "'Cause why the freaks are jockin' like Crazy Glue \n",
      "Movin' and groovin' trying to sing along \n",
      "All through the ghetto groovin' this here song \n",
      "Now you're amazed by the VIP posse. \n",
      "\n",
      "Steppin' so hard like a German Nazi \n",
      "Startled by the bases hittin' ground \n",
      "There's no trippin' on mine, I'm just gettin' down \n",
      "Sparkamatic, I'm hangin' tight like a fanatic \n",
      "You trapped me once and I thought that \n",
      "You might have it \n",
      "So step down and lend me your ear \n",
      "'89 in my time! You, '90 is my year. \n",
      "\n",
      "You're weakenin' fast, YO! and I can tell it \n",
      "Your body's gettin' hot, so, so I can smell it \n",
      "So don't be mad and don't be sad \n",
      "'Cause the lyrics belong to ICE, You can call me Dad \n",
      "You're pitchin' a fit, so step back and endure \n",
      "Let the witch doctor, Ice, do the dance to cure \n",
      "So come up close and don't be square \n",
      "You wanna battle me -- Anytime, anywhere \n",
      "\n",
      "You thought that I was weak, Boy, you're dead wrong \n",
      "So come on, everybody and sing this song \n",
      "\n",
      "Say -- Play that funky music Say, go white boy, go white boy go \n",
      "play that funky music Go white boy, go white boy, go \n",
      "Lay down and boogie and play that funky music till you die. \n",
      "\n",
      "Play that funky music Come on, Come on, let me hear \n",
      "Play that funky music white boy you say it, say it \n",
      "Play that funky music A little louder now \n",
      "Play that funky music, white boy Come on, Come on, Come on \n",
      "Play that funky music \n"
     ]
    }
   ],
   "source": [
    "text = pkcs7_unpad(AES_CBC_Decrypt(byte_string, b'\\x00'*AES.block_size, key))\n",
    "print(text.decode(\"utf-8\").strip('\\n'))"
   ]
  },
  {
   "cell_type": "markdown",
   "metadata": {},
   "source": [
    "### Challenge 11"
   ]
  },
  {
   "cell_type": "code",
   "execution_count": 51,
   "metadata": {},
   "outputs": [],
   "source": [
    "import random\n",
    "import os\n",
    "from Crypto.Cipher import AES"
   ]
  },
  {
   "cell_type": "code",
   "execution_count": 52,
   "metadata": {},
   "outputs": [],
   "source": [
    "def AES_CBC_Encrypt(plaintext, IV, key):\n",
    "    previous = IV\n",
    "    keysize = len(key)\n",
    "    ciphertext = b\"\"\n",
    "    xored = b\"\"\n",
    "    \n",
    "    for i in range(0, len(plaintext), keysize):\n",
    "        xor_list = [(b1 ^ b2).to_bytes(1, \"little\") for b1, b2 in zip(pkcs7_pad(plaintext[i:i+keysize], keysize), previous)]\n",
    "        xored = b\"\".join(xor_list)\n",
    "        cipher = AES_ECB_Encrypt(xored, key)\n",
    "        ciphertext += cipher\n",
    "        previous = cipher\n",
    "        \n",
    "    return ciphertext"
   ]
  },
  {
   "cell_type": "code",
   "execution_count": 53,
   "metadata": {},
   "outputs": [],
   "source": [
    "def AES_ECB_encrypt(plaintext, key):\n",
    "    cipher = AES.new(key, AES.MODE_ECB)\n",
    "    text = pkcs7_pad(plaintext, len(key))\n",
    "    return cipher.encrypt(pkcs7_pad(plaintext, len(key)))"
   ]
  },
  {
   "cell_type": "code",
   "execution_count": 54,
   "metadata": {},
   "outputs": [
    {
     "name": "stdout",
     "output_type": "stream",
     "text": [
      "Encrypting using AES CBC Encryption.\n",
      "Ciphertext is AES CBC encrypted.\n"
     ]
    }
   ],
   "source": [
    "key = os.urandom(16)\n",
    "\n",
    "# Enter a repeating text\n",
    "text = open('8.txt').read()\n",
    "    \n",
    "plaintext = os.urandom(random.randint(5,11))\n",
    "plaintext += text.encode()\n",
    "plaintext += os.urandom(random.randint(5,11))\n",
    "\n",
    "flag = random.randint(0,1)\n",
    "if flag == 1:\n",
    "    print(\"Encrypting using AES ECB Encryption.\")\n",
    "    ciphertext = AES_ECB_Encrypt(plaintext, key)\n",
    "else:\n",
    "    print(\"Encrypting using AES CBC Encryption.\")\n",
    "    ciphertext = AES_CBC_Encrypt(plaintext, os.urandom(AES.block_size), key)\n",
    "    \n",
    "if detectAES_ECB(ciphertext):\n",
    "    print(\"Ciphertext is AES ECB encrypted.\")\n",
    "else:\n",
    "    print(\"Ciphertext is AES CBC encrypted.\")"
   ]
  },
  {
   "cell_type": "markdown",
   "metadata": {},
   "source": [
    "### Challenge 12"
   ]
  },
  {
   "cell_type": "code",
   "execution_count": 55,
   "metadata": {},
   "outputs": [],
   "source": [
    "import random\n",
    "import os\n",
    "from base64 import b64decode\n",
    "from Crypto.Cipher import AES"
   ]
  },
  {
   "cell_type": "code",
   "execution_count": 56,
   "metadata": {},
   "outputs": [],
   "source": [
    "#pseudo random key, cell to be run only once\n",
    "random_key = os.urandom(16)"
   ]
  },
  {
   "cell_type": "code",
   "execution_count": 57,
   "metadata": {},
   "outputs": [],
   "source": [
    "def AES128(text):\n",
    "    b64_string = \"Um9sbGluJyBpbiBteSA1LjAKV2l0aCBteSByYWctdG9wIGRvd24gc28gbXkgaGFpciBjYW4gYmxvdwpUaGUgZ2lybGllcyBvbiBzdGFuZGJ5IHdhdmluZyBqdXN0IHRvIHNheSBoaQpEaWQgeW91IHN0b3A/IE5vLCBJIGp1c3QgZHJvdmUgYnkK\"\n",
    "    secret_string = b64decode(b64_string)\n",
    "    plaintext = text + secret_string\n",
    "    cipher = AES_ECB_Encrypt(plaintext, random_key)\n",
    "    return cipher"
   ]
  },
  {
   "cell_type": "code",
   "execution_count": 58,
   "metadata": {},
   "outputs": [],
   "source": [
    "def AES_ECB_KeySize(ciphertext):\n",
    "    text = \"A random key long enough to decode the key size used in the encryption\"\n",
    "#robust way checks repetition of blocks. could check increase in cipher length because of padding\n",
    "    for i in range(1, len(text)):\n",
    "        plaintext = text[:i] + text[:i]\n",
    "        cipher = AES128(plaintext.encode())\n",
    "        if cipher[:i] == cipher[i:2*i]:                          \n",
    "            print(\"Key size used for the given ciphertext is {}\".format(i))\n",
    "            return i\n",
    "        \n",
    "def AES_ECB_KeySize():\n",
    "    text = \"A random key long enough to decode the key size used in the encryption\"\n",
    "    plaintext = \"X\"\n",
    "    cipher = AES128(plaintext.encode())\n",
    "    initial_length = len(cipher)\n",
    "    for i in range(2, len(text)):\n",
    "        plaintext = text[:i]\n",
    "        cipher = AES128(plaintext.encode())\n",
    "        if len(cipher) > initial_length:\n",
    "            return len(cipher) - initial_length"
   ]
  },
  {
   "cell_type": "code",
   "execution_count": 59,
   "metadata": {},
   "outputs": [],
   "source": [
    "def breakAES_ECB(keysize, func):\n",
    "    deciphered = b\"\"\n",
    "    \n",
    "    # to get added string length since 0 len input is provided, all cipher is of added string\n",
    "    ciphertext = func(deciphered)\n",
    "    run = len(ciphertext)\n",
    "    \n",
    "    for i in range(1, run+1):\n",
    "        template = b'A'*(run - i)\n",
    "        cipher = func(template)\n",
    "        \n",
    "        for j in range(256):\n",
    "            text = template + deciphered + j.to_bytes(1, \"little\")\n",
    "            c = func(text)\n",
    "    # keysize used to refer to the block whose last character is made to be the appended string's 1st char\n",
    "            if c[run-keysize:run] == cipher[run-keysize:run]:\n",
    "                deciphered += chr(j).encode()\n",
    "                break\n",
    "    \n",
    "    return pkcs7_unpad(deciphered)"
   ]
  },
  {
   "cell_type": "code",
   "execution_count": 60,
   "metadata": {},
   "outputs": [
    {
     "name": "stdout",
     "output_type": "stream",
     "text": [
      "Given base64 encoded string was:\n",
      "\n",
      "Rollin' in my 5.0\n",
      "With my rag-top down so my hair can blow\n",
      "The girlies on standby waving just to say hi\n",
      "Did you stop? No, I just drove by\n"
     ]
    }
   ],
   "source": [
    "#get keysize to identify block size\n",
    "#plaintext = b\"Is it easier to stay is it easier to go\"\n",
    "#ciphertext = AES128(plaintext)\n",
    "keysize = AES_ECB_KeySize()\n",
    "\n",
    "# decipher appended input\n",
    "deciphered = breakAES_ECB(keysize, AES128)\n",
    "print(\"Given base64 encoded string was:\\n\\n{}\".format(deciphered.decode(\"utf-8\").strip('\\n')))"
   ]
  },
  {
   "cell_type": "markdown",
   "metadata": {},
   "source": [
    "### Challenge 13"
   ]
  },
  {
   "cell_type": "code",
   "execution_count": 61,
   "metadata": {},
   "outputs": [
    {
     "name": "stdout",
     "output_type": "stream",
     "text": [
      "{'foo': 'bar', 'baz': 'qux', 'zap': 'zazzle'}\n"
     ]
    }
   ],
   "source": [
    "string_set = \"foo=bar&baz=qux&zap=zazzle\"\n",
    "dictionary = {key:val for key, val in (element.split('=') for element in string_set.split('&'))}\n",
    "print(dictionary)"
   ]
  },
  {
   "cell_type": "code",
   "execution_count": 62,
   "metadata": {},
   "outputs": [],
   "source": [
    "def parser(user, encode):\n",
    "    if encode == True:\n",
    "        parsed_string =  \"&\".join(key.strip(\":\")+\"=\"+val for key, val in zip(user.keys(), user.values()))\n",
    "        return parsed_string.encode()\n",
    "    else:\n",
    "        return {key:val for key, val in (element.split('=') for element in user.split('&'))}"
   ]
  },
  {
   "cell_type": "code",
   "execution_count": 63,
   "metadata": {},
   "outputs": [],
   "source": [
    "def profile_for(val):\n",
    "    val = val.decode(\"utf-8\")\n",
    "    user = {\"email:\": val, \"uid:\": \"10\", \"role\": \"user\"}\n",
    "    return parser(user, True)"
   ]
  },
  {
   "cell_type": "code",
   "execution_count": 64,
   "metadata": {},
   "outputs": [],
   "source": []
  },
  {
   "cell_type": "code",
   "execution_count": 65,
   "metadata": {},
   "outputs": [],
   "source": [
    "def oracle(email):\n",
    "    encoded_profile = AES_ECB_Encrypt(profile_for(email), random_key)\n",
    "    return encoded_profile"
   ]
  },
  {
   "cell_type": "code",
   "execution_count": 66,
   "metadata": {},
   "outputs": [
    {
     "name": "stdout",
     "output_type": "stream",
     "text": [
      "email=lol@gmail.com&uid=10&role=user\n"
     ]
    }
   ],
   "source": [
    "email = b\"lol@gmail.com\"\n",
    "decoded_profile = AES_ECB_Decrypt(oracle(email), random_key)\n",
    "profile = parser(decoded_profile.decode(\"utf-8\"), False)\n",
    "print(decoded_profile.decode(\"utf-8\"))"
   ]
  },
  {
   "cell_type": "code",
   "execution_count": 67,
   "metadata": {},
   "outputs": [
    {
     "name": "stdout",
     "output_type": "stream",
     "text": [
      "{'email': 'fffffffffffffffffff@gmail.com', 'uid': '10', 'role': 'admin'}\n"
     ]
    }
   ],
   "source": [
    "keysize = 16\n",
    "email = b\"f\"*(keysize-len(\"email=\")) + pkcs7_pad(b\"admin\", keysize)\n",
    "cipher = oracle(email)\n",
    "encoded_admin_bytes = cipher[keysize:keysize*2]\n",
    "\n",
    "num_blocks = int((len(\"&uid=10\") + len(\"email=\") + len(\"&role=\"))/keysize) + 1\n",
    "email = b\"f\"*(num_blocks*keysize - (len(\"&uid=10\") + len(\"email=\") + len(\"&role=\")-6))+b\"@gmail.com\"\n",
    "cipher = oracle(email)\n",
    "modified_cipher = cipher[:48] + encoded_admin_bytes\n",
    "\n",
    "cracked_cipher_plaintext = parser(AES_ECB_Decrypt(modified_cipher, random_key).decode(\"utf-8\"), False)\n",
    "print(cracked_cipher_plaintext)"
   ]
  },
  {
   "cell_type": "code",
   "execution_count": 68,
   "metadata": {},
   "outputs": [],
   "source": [
    "assert cracked_cipher_plaintext['role'] == 'admin'"
   ]
  },
  {
   "cell_type": "markdown",
   "metadata": {},
   "source": [
    "### Challenge 14"
   ]
  },
  {
   "cell_type": "code",
   "execution_count": 69,
   "metadata": {},
   "outputs": [],
   "source": [
    "from base64 import b64decode\n",
    "import random\n",
    "import math\n",
    "import os"
   ]
  },
  {
   "cell_type": "code",
   "execution_count": 70,
   "metadata": {},
   "outputs": [],
   "source": [
    "#pseudo random key and prefix string, cell to be run only once\n",
    "random_key = os.urandom(16)\n",
    "random_string = os.urandom(random.randint(0,255))"
   ]
  },
  {
   "cell_type": "code",
   "execution_count": 71,
   "metadata": {},
   "outputs": [],
   "source": [
    "def AES128_harder(text):\n",
    "    b64_string = \"Um9sbGluJyBpbiBteSA1LjAKV2l0aCBteSByYWctdG9wIGRvd24gc28gbXkgaGFpciBjYW4gYmxvdwpUaGUgZ2lybGllcyBvbiBzdGFuZGJ5IHdhdmluZyBqdXN0IHRvIHNheSBoaQpEaWQgeW91IHN0b3A/IE5vLCBJIGp1c3QgZHJvdmUgYnkK\"\n",
    "    secret_string = b64decode(b64_string)\n",
    "    plaintext = random_string + text + secret_string\n",
    "    cipher = AES_ECB_Encrypt(plaintext, random_key)\n",
    "    return cipher"
   ]
  },
  {
   "cell_type": "code",
   "execution_count": 72,
   "metadata": {},
   "outputs": [],
   "source": [
    "def breakAES_ECB_harder(keysize, func):\n",
    "    \n",
    "    # padding required to bridge gap between randomstringlength and block\n",
    "    padding = 0\n",
    "    random_blocks = 0\n",
    "    cipher_length = len(func(b''))\n",
    "    prefix_length = len(os.path.commonprefix([func(b'AAAA'), func(b'')]))\n",
    "    print(\"Prefix length: \", prefix_length)\n",
    "    \n",
    "    for i in range(int(cipher_length/keysize)):\n",
    "        if prefix_length < i*keysize:\n",
    "            random_blocks = i\n",
    "            break\n",
    "    print(\"Random blocks: \", random_blocks)\n",
    "    \n",
    "    base_cipher = func(b'')\n",
    "    for i in range(1, keysize):\n",
    "        new_cipher = func(b'A'*i)\n",
    "        new_prefix_length = len(os.path.commonprefix([base_cipher, new_cipher]))\n",
    "        if new_prefix_length > prefix_length:\n",
    "            padding = i - 1\n",
    "            break\n",
    "        base_cipher = new_cipher\n",
    "    print(\"Number of bytes of padding required: \", padding)\n",
    "    \n",
    "    # to get added string length since 0 len input is provided, all cipher is of added string\n",
    "    deciphered = b\"\"\n",
    "    ciphertext = func(deciphered)\n",
    "    # because of one block increase due to addition of padding\n",
    "    run = len(ciphertext) + keysize\n",
    "    \n",
    "    # should start after prefix random_blocks because till then it value will be same for original cipher and templated cipehr since same prepended string will be comapred\n",
    "    for i in range(157, run+1):\n",
    "        template = b'A'*(run - i + padding)\n",
    "        cipher = func(template)\n",
    "        for j in range(256):\n",
    "            #print(i, j)\n",
    "            text = template + deciphered + j.to_bytes(1, \"little\")\n",
    "            c = func(text)\n",
    "    # keysize used to refer to the block whose last character is made to be the appended string's 1st char\n",
    "            if c[run-keysize:run] == cipher[run-keysize:run]:\n",
    "                deciphered += chr(j).encode()\n",
    "                break\n",
    "    return pkcs7_unpad(deciphered)"
   ]
  },
  {
   "cell_type": "code",
   "execution_count": 73,
   "metadata": {},
   "outputs": [
    {
     "name": "stdout",
     "output_type": "stream",
     "text": [
      "Prefix length:  32\n",
      "Random blocks:  3\n",
      "Number of bytes of padding required:  11\n"
     ]
    },
    {
     "ename": "IndexError",
     "evalue": "index out of range",
     "output_type": "error",
     "traceback": [
      "\u001b[0;31m---------------------------------------------------------------------------\u001b[0m",
      "\u001b[0;31mIndexError\u001b[0m                                Traceback (most recent call last)",
      "\u001b[0;32m<ipython-input-73-ce33c9bc5d88>\u001b[0m in \u001b[0;36m<module>\u001b[0;34m\u001b[0m\n\u001b[1;32m      1\u001b[0m \u001b[0mkeysize\u001b[0m \u001b[0;34m=\u001b[0m \u001b[0;36m16\u001b[0m\u001b[0;34m\u001b[0m\u001b[0;34m\u001b[0m\u001b[0m\n\u001b[0;32m----> 2\u001b[0;31m \u001b[0mbyte_text\u001b[0m \u001b[0;34m=\u001b[0m \u001b[0mbreakAES_ECB_harder\u001b[0m\u001b[0;34m(\u001b[0m\u001b[0mkeysize\u001b[0m\u001b[0;34m,\u001b[0m \u001b[0mAES128_harder\u001b[0m\u001b[0;34m)\u001b[0m\u001b[0;34m\u001b[0m\u001b[0;34m\u001b[0m\u001b[0m\n\u001b[0m\u001b[1;32m      3\u001b[0m \u001b[0mprint\u001b[0m\u001b[0;34m(\u001b[0m\u001b[0;34m\"\\nDeciphered string:\\n\"\u001b[0m\u001b[0;34m)\u001b[0m\u001b[0;34m\u001b[0m\u001b[0;34m\u001b[0m\u001b[0m\n\u001b[1;32m      4\u001b[0m \u001b[0mprint\u001b[0m\u001b[0;34m(\u001b[0m\u001b[0mbyte_text\u001b[0m\u001b[0;34m.\u001b[0m\u001b[0mdecode\u001b[0m\u001b[0;34m(\u001b[0m\u001b[0;34m\"utf-8\"\u001b[0m\u001b[0;34m)\u001b[0m\u001b[0;34m.\u001b[0m\u001b[0mstrip\u001b[0m\u001b[0;34m(\u001b[0m\u001b[0;34m)\u001b[0m\u001b[0;34m)\u001b[0m\u001b[0;34m\u001b[0m\u001b[0;34m\u001b[0m\u001b[0m\n",
      "\u001b[0;32m<ipython-input-72-231dacc10584>\u001b[0m in \u001b[0;36mbreakAES_ECB_harder\u001b[0;34m(keysize, func)\u001b[0m\n\u001b[1;32m     42\u001b[0m                 \u001b[0mdeciphered\u001b[0m \u001b[0;34m+=\u001b[0m \u001b[0mchr\u001b[0m\u001b[0;34m(\u001b[0m\u001b[0mj\u001b[0m\u001b[0;34m)\u001b[0m\u001b[0;34m.\u001b[0m\u001b[0mencode\u001b[0m\u001b[0;34m(\u001b[0m\u001b[0;34m)\u001b[0m\u001b[0;34m\u001b[0m\u001b[0;34m\u001b[0m\u001b[0m\n\u001b[1;32m     43\u001b[0m                 \u001b[0;32mbreak\u001b[0m\u001b[0;34m\u001b[0m\u001b[0;34m\u001b[0m\u001b[0m\n\u001b[0;32m---> 44\u001b[0;31m     \u001b[0;32mreturn\u001b[0m \u001b[0mpkcs7_unpad\u001b[0m\u001b[0;34m(\u001b[0m\u001b[0mdeciphered\u001b[0m\u001b[0;34m)\u001b[0m\u001b[0;34m\u001b[0m\u001b[0;34m\u001b[0m\u001b[0m\n\u001b[0m",
      "\u001b[0;32m<ipython-input-48-219ea43a33bb>\u001b[0m in \u001b[0;36mpkcs7_unpad\u001b[0;34m(paddedtext)\u001b[0m\n\u001b[1;32m      1\u001b[0m \u001b[0;32mdef\u001b[0m \u001b[0mpkcs7_unpad\u001b[0m\u001b[0;34m(\u001b[0m\u001b[0mpaddedtext\u001b[0m\u001b[0;34m)\u001b[0m\u001b[0;34m:\u001b[0m\u001b[0;34m\u001b[0m\u001b[0;34m\u001b[0m\u001b[0m\n\u001b[0;32m----> 2\u001b[0;31m     \u001b[0;32mif\u001b[0m \u001b[0mpkcs7_padded\u001b[0m\u001b[0;34m(\u001b[0m\u001b[0mpaddedtext\u001b[0m\u001b[0;34m)\u001b[0m\u001b[0;34m:\u001b[0m\u001b[0;34m\u001b[0m\u001b[0;34m\u001b[0m\u001b[0m\n\u001b[0m\u001b[1;32m      3\u001b[0m         \u001b[0mpad_Length\u001b[0m \u001b[0;34m=\u001b[0m \u001b[0mpaddedtext\u001b[0m\u001b[0;34m[\u001b[0m\u001b[0mlen\u001b[0m\u001b[0;34m(\u001b[0m\u001b[0mpaddedtext\u001b[0m\u001b[0;34m)\u001b[0m\u001b[0;34m-\u001b[0m\u001b[0;36m1\u001b[0m\u001b[0;34m]\u001b[0m\u001b[0;34m\u001b[0m\u001b[0;34m\u001b[0m\u001b[0m\n\u001b[1;32m      4\u001b[0m         \u001b[0;32mreturn\u001b[0m \u001b[0mpaddedtext\u001b[0m\u001b[0;34m[\u001b[0m\u001b[0;34m:\u001b[0m\u001b[0;34m-\u001b[0m\u001b[0mpad_Length\u001b[0m\u001b[0;34m]\u001b[0m\u001b[0;34m\u001b[0m\u001b[0;34m\u001b[0m\u001b[0m\n\u001b[1;32m      5\u001b[0m     \u001b[0;32melse\u001b[0m\u001b[0;34m:\u001b[0m\u001b[0;34m\u001b[0m\u001b[0;34m\u001b[0m\u001b[0m\n",
      "\u001b[0;32m<ipython-input-47-b01d3db01ae9>\u001b[0m in \u001b[0;36mpkcs7_padded\u001b[0;34m(text)\u001b[0m\n\u001b[1;32m      1\u001b[0m \u001b[0;32mdef\u001b[0m \u001b[0mpkcs7_padded\u001b[0m\u001b[0;34m(\u001b[0m\u001b[0mtext\u001b[0m\u001b[0;34m)\u001b[0m\u001b[0;34m:\u001b[0m\u001b[0;34m\u001b[0m\u001b[0;34m\u001b[0m\u001b[0m\n\u001b[0;32m----> 2\u001b[0;31m     \u001b[0mpadding\u001b[0m \u001b[0;34m=\u001b[0m \u001b[0mtext\u001b[0m\u001b[0;34m[\u001b[0m\u001b[0;34m-\u001b[0m\u001b[0mtext\u001b[0m\u001b[0;34m[\u001b[0m\u001b[0;34m-\u001b[0m\u001b[0;36m1\u001b[0m\u001b[0;34m]\u001b[0m\u001b[0;34m:\u001b[0m\u001b[0;34m]\u001b[0m\u001b[0;34m\u001b[0m\u001b[0;34m\u001b[0m\u001b[0m\n\u001b[0m\u001b[1;32m      3\u001b[0m     \u001b[0;31m# Check that all the bytes in the range indicated by the padding are equal to the padding value itself\u001b[0m\u001b[0;34m\u001b[0m\u001b[0;34m\u001b[0m\u001b[0;34m\u001b[0m\u001b[0m\n\u001b[1;32m      4\u001b[0m     \u001b[0;32mreturn\u001b[0m \u001b[0mall\u001b[0m\u001b[0;34m(\u001b[0m\u001b[0mpadding\u001b[0m\u001b[0;34m[\u001b[0m\u001b[0mb\u001b[0m\u001b[0;34m]\u001b[0m \u001b[0;34m==\u001b[0m \u001b[0mlen\u001b[0m\u001b[0;34m(\u001b[0m\u001b[0mpadding\u001b[0m\u001b[0;34m)\u001b[0m \u001b[0;32mfor\u001b[0m \u001b[0mb\u001b[0m \u001b[0;32min\u001b[0m \u001b[0mrange\u001b[0m\u001b[0;34m(\u001b[0m\u001b[0;36m0\u001b[0m\u001b[0;34m,\u001b[0m \u001b[0mlen\u001b[0m\u001b[0;34m(\u001b[0m\u001b[0mpadding\u001b[0m\u001b[0;34m)\u001b[0m\u001b[0;34m)\u001b[0m\u001b[0;34m)\u001b[0m\u001b[0;34m\u001b[0m\u001b[0;34m\u001b[0m\u001b[0m\n",
      "\u001b[0;31mIndexError\u001b[0m: index out of range"
     ]
    }
   ],
   "source": [
    "keysize = 16\n",
    "byte_text = breakAES_ECB_harder(keysize, AES128_harder)\n",
    "print(\"\\nDeciphered string:\\n\")\n",
    "print(byte_text.decode(\"utf-8\").strip())"
   ]
  },
  {
   "cell_type": "markdown",
   "metadata": {},
   "source": [
    "### Challenge 15"
   ]
  },
  {
   "cell_type": "code",
   "execution_count": null,
   "metadata": {},
   "outputs": [],
   "source": [
    "given_string = \"ICE ICE BABY\\x04\\x04\\x04\\x04\"\n",
    "target_string = \"ICE ICE BABY\""
   ]
  },
  {
   "cell_type": "code",
   "execution_count": null,
   "metadata": {},
   "outputs": [],
   "source": [
    "assert target_string.encode() == pkcs7_unpad(given_string.encode())"
   ]
  },
  {
   "cell_type": "markdown",
   "metadata": {},
   "source": [
    "### Challenge 16"
   ]
  },
  {
   "cell_type": "code",
   "execution_count": null,
   "metadata": {},
   "outputs": [],
   "source": [
    "random_key = os.urandom(16)\n",
    "IV = os.urandom(random.randint(0,255))\n",
    "keysize = 16\n",
    "prepend_string = \"comment1=cooking%20MCs;userdata=\"\n",
    "append_string = \";comment2=%20like%20a%20pound%20of%20bacon\""
   ]
  },
  {
   "cell_type": "code",
   "execution_count": null,
   "metadata": {},
   "outputs": [],
   "source": [
    "def encryptor(text, IV, key):\n",
    "    plaintext =  (prepend_string.encode() + text + append_string.encode()).replace(b';', b'\";\"').replace(b'=', b'\"=\"')\n",
    "    ciphertext = AES_CBC_Encrypt(pkcs7_pad(plaintext, len(key)), IV, key)\n",
    "    return ciphertext"
   ]
  },
  {
   "cell_type": "code",
   "execution_count": null,
   "metadata": {},
   "outputs": [],
   "source": [
    "def decryptor(byte_string, IV, key) -> bool:\n",
    "    decrypted_string = pkcs7_unpad(AES_CBC_Decrypt(byte_string, IV, key))\n",
    "    if b';admin=true;' in decrypted_string:\n",
    "        return True\n",
    "    else:\n",
    "        return False"
   ]
  },
  {
   "cell_type": "code",
   "execution_count": null,
   "metadata": {},
   "outputs": [],
   "source": [
    "# padding required to bridge gap between randomstringlength and block\n",
    "padding = 0\n",
    "random_blocks = 0\n",
    "\n",
    "cipher_length = len(encryptor(b'', IV, random_key))\n",
    "prefix_length = len(os.path.commonprefix([encryptor(b'AAAA', IV, random_key), encryptor(b'', IV, random_key)]))\n",
    "print(\"Prefix length: \", prefix_length)\n",
    "\n",
    "for i in range(int(cipher_length/keysize)):\n",
    "    if prefix_length < i*keysize:\n",
    "        random_blocks = i\n",
    "        break\n",
    "print(\"Random blocks: \", random_blocks)\n",
    "\n",
    "base_cipher = encryptor(b'', IV, random_key)\n",
    "for i in range(1, keysize):\n",
    "    new_cipher = encryptor(b'A'*i, IV, random_key)\n",
    "    new_prefix_length = len(os.path.commonprefix([base_cipher, new_cipher]))\n",
    "    if new_prefix_length > prefix_length:\n",
    "        padding = i - 1\n",
    "        break\n",
    "    base_cipher = new_cipher\n",
    "print(\"Number of bytes of padding required: \", padding)\n",
    "\n",
    "input_text = b'A'*padding + b'heytheremama'\n",
    "string = b\";admin=true;\"\n",
    "modified_string = b\"\"\n",
    "ciphertext = encryptor(input_text, IV, random_key)\n",
    "for i in range(len(string)):\n",
    "    modified_string += (ciphertext[i+(random_blocks-1)*keysize]^(input_text[i+padding]^string[i])).to_bytes(1, \"little\")\n",
    "    \n",
    "modified_ciphertext = ciphertext[:(random_blocks-1)*keysize] + modified_string + ciphertext[(random_blocks-1)*keysize + len(modified_string):]"
   ]
  },
  {
   "cell_type": "code",
   "execution_count": null,
   "metadata": {},
   "outputs": [],
   "source": [
    "AES_CBC_Decrypt(modified_ciphertext, IV, random_key)"
   ]
  },
  {
   "cell_type": "code",
   "execution_count": null,
   "metadata": {},
   "outputs": [],
   "source": [
    "assert decryptor(modified_ciphertext, IV, random_key) == True"
   ]
  },
  {
   "cell_type": "markdown",
   "metadata": {},
   "source": [
    "# Set 3"
   ]
  },
  {
   "cell_type": "markdown",
   "metadata": {},
   "source": [
    "### Challenge 17"
   ]
  },
  {
   "cell_type": "code",
   "execution_count": null,
   "metadata": {},
   "outputs": [],
   "source": [
    "import random\n",
    "from base64 import b64decode\n",
    "from Crypto.Cipher import AES"
   ]
  },
  {
   "cell_type": "code",
   "execution_count": null,
   "metadata": {},
   "outputs": [],
   "source": [
    "b64_strings = [\n",
    "    b'MDAwMDAwTm93IHRoYXQgdGhlIHBhcnR5IGlzIGp1bXBpbmc=',\n",
    "    b'MDAwMDAxV2l0aCB0aGUgYmFzcyBraWNrZWQgaW4gYW5kIHRoZSBWZWdhJ3MgYXJlIHB1bXBpbic=',\n",
    "    b'MDAwMDAyUXVpY2sgdG8gdGhlIHBvaW50LCB0byB0aGUgcG9pbnQsIG5vIGZha2luZw==',\n",
    "    b'MDAwMDAzQ29va2luZyBNQydzIGxpa2UgYSBwb3VuZCBvZiBiYWNvbg==',\n",
    "    b'MDAwMDA0QnVybmluZyAnZW0sIGlmIHlvdSBhaW4ndCBxdWljayBhbmQgbmltYmxl',\n",
    "    b'MDAwMDA1SSBnbyBjcmF6eSB3aGVuIEkgaGVhciBhIGN5bWJhbA==',\n",
    "    b'MDAwMDA2QW5kIGEgaGlnaCBoYXQgd2l0aCBhIHNvdXBlZCB1cCB0ZW1wbw==',\n",
    "    b'MDAwMDA3SSdtIG9uIGEgcm9sbCwgaXQncyB0aW1lIHRvIGdvIHNvbG8=',\n",
    "    b'MDAwMDA4b2xsaW4nIGluIG15IGZpdmUgcG9pbnQgb2g=',\n",
    "    b'MDAwMDA5aXRoIG15IHJhZy10b3AgZG93biBzbyBteSBoYWlyIGNhbiBibG93',\n",
    "]\n",
    "\n",
    "random_key = os.urandom(16)\n",
    "IV = os.urandom(16)\n",
    "keysize = AES.block_size\n",
    "block_size =keysize"
   ]
  },
  {
   "cell_type": "code",
   "execution_count": null,
   "metadata": {},
   "outputs": [],
   "source": [
    "def encryptor():\n",
    "    index = random.randint(0, len(b64_strings)-1)\n",
    "    selected_string = b64_strings[index]\n",
    "    ciphertext = AES_CBC_Encrypt(selected_string, IV, random_key)\n",
    "    return selected_string, ciphertext"
   ]
  },
  {
   "cell_type": "code",
   "execution_count": null,
   "metadata": {},
   "outputs": [],
   "source": [
    "def pkcs7_padding_validation(byte_string):\n",
    "    last_byte = byte_string[-1]\n",
    "    if last_byte > len(byte_string):\n",
    "        return False\n",
    "    for i in range(last_byte, 0, -1):\n",
    "        if byte_string[-i] != last_byte:\n",
    "            return False\n",
    "    return True"
   ]
  },
  {
   "cell_type": "code",
   "execution_count": null,
   "metadata": {},
   "outputs": [],
   "source": [
    "def decryptor(ciphertext, IV):\n",
    "    plaintext = AES_CBC_Decrypt(ciphertext, IV, random_key)\n",
    "    if pkcs7_padding_validation(plaintext):\n",
    "        return True\n",
    "    else:\n",
    "        return False"
   ]
  },
  {
   "cell_type": "code",
   "execution_count": null,
   "metadata": {},
   "outputs": [],
   "source": [
    "def modify_block(iv, guessed_byte, padding_len, found_plaintext):\n",
    "    \"\"\"Creates a forced block of the ciphertext, ideally to be given as IV to decrypt the following block.\n",
    "    The forced IV will be used for the attack on the padding oracle CBC encryption.\n",
    "    \"\"\"\n",
    "\n",
    "    # Get the index of the first character of the padding\n",
    "    index_of_forced_char = len(iv) - padding_len\n",
    "\n",
    "    # Using the guessed byte given as input, try to force the first character of the\n",
    "    # padding to be equal to the length of the padding itself\n",
    "    forced_character = iv[index_of_forced_char] ^ guessed_byte ^ padding_len\n",
    "\n",
    "    # Form the forced ciphertext by adding to it the forced character...\n",
    "    output = iv[:index_of_forced_char] + bytes([forced_character])\n",
    "\n",
    "    # ...and the characters that were forced before (for which we already know the plaintext)\n",
    "    m = 0\n",
    "    for k in range(block_size - padding_len + 1, block_size):\n",
    "\n",
    "        # Force each of the following characters of the IV so that the matching characters in\n",
    "        # the following block will be decrypted to \"padding_len\"\n",
    "        forced_character = iv[k] ^ ord(found_plaintext[m]) ^ padding_len\n",
    "        output += bytes([forced_character])\n",
    "        m += 1\n",
    "\n",
    "    return output"
   ]
  },
  {
   "cell_type": "code",
   "execution_count": null,
   "metadata": {},
   "outputs": [],
   "source": [
    "def cbc_padding_attack(ciphertext, IV, func):\n",
    "\n",
    "    plaintext = \"\"\n",
    "    num_blocks = len(ciphertext)//keysize\n",
    "    ciphertext_blocks = [IV] + [ciphertext[i:i+keysize] for i in range(0, len(ciphertext), keysize)]\n",
    "    \n",
    "    for i in range(1, num_blocks+1):\n",
    "        plain_block = \"\"\n",
    "        base_block = ciphertext_blocks[i-1] \n",
    "        target_block = ciphertext_blocks[i]\n",
    "                \n",
    "        for j in range(1, keysize+1):\n",
    "            possible_last_bytes = []\n",
    "            for k in range(256):\n",
    "                \n",
    "                mod_block = modify_block(base_block, k, j, plain_block)                \n",
    "                check = decryptor(target_block, mod_block)\n",
    "                if check == True:\n",
    "                    possible_last_bytes += bytes([k])\n",
    "             \n",
    "            if len(possible_last_bytes) != 1:\n",
    "                for byte in possible_last_bytes:\n",
    "                    for k in range(256):\n",
    "                        \n",
    "                        mod_block = modify_block(base_block, k, j+1, chr(byte)+plain_block)                \n",
    "                        \n",
    "                        check = decryptor(target_block, mod_block)\n",
    "                        if check == True:\n",
    "                            possible_last_bytes = [byte]\n",
    "                            break\n",
    "                            \n",
    "            plain_block = chr(possible_last_bytes[0]) + plain_block\n",
    "        plaintext += plain_block\n",
    "    \n",
    "    return pkcs7_unpad(plaintext.encode())"
   ]
  },
  {
   "cell_type": "code",
   "execution_count": null,
   "metadata": {},
   "outputs": [],
   "source": [
    "selected_string, ciphertext = encryptor()\n",
    "plaintext = cbc_padding_attack(ciphertext, IV, encryptor)\n",
    "print(selected_string, plaintext)\n",
    "assert selected_string == plaintext\n",
    "b64decode(plaintext).decode(\"utf-8\")"
   ]
  },
  {
   "cell_type": "markdown",
   "metadata": {},
   "source": [
    "### Challenge 18"
   ]
  },
  {
   "cell_type": "code",
   "execution_count": null,
   "metadata": {},
   "outputs": [],
   "source": [
    "from base64 import b64decode"
   ]
  },
  {
   "cell_type": "code",
   "execution_count": null,
   "metadata": {},
   "outputs": [],
   "source": [
    "b64_string = \"L77na/nrFsKvynd6HzOoG7GHTLXsTVu9qvY/2syLXzhPweyyMTJULu/6/kXX0KSvoOLSFQ==\"\n",
    "decoded_string = b64decode(b64_string)\n",
    "key = \"YELLOW SUBMARINE\"\n",
    "\n",
    "nonce = 0\n",
    "# format=64 bit unsigned little endian nonce,\n",
    "#        64 bit little endian block count (byte count / 16)"
   ]
  },
  {
   "cell_type": "code",
   "execution_count": null,
   "metadata": {},
   "outputs": [],
   "source": [
    "def CTR_Keystream(key, nonce):\n",
    "    counter = 0\n",
    "    # 8 byte because format says 64bit\n",
    "    nonce_bytes = nonce.to_bytes(8, \"little\")\n",
    "    \n",
    "    while True:\n",
    "        counter_bytes = counter.to_bytes(8, \"little\")\n",
    "        # keep getting 16byte block from the encryption function\n",
    "        keystream_block = AES_ECB_Encrypt(nonce_bytes + counter_bytes, key)\n",
    "        yield from keystream_block\n",
    "        counter += 1"
   ]
  },
  {
   "cell_type": "code",
   "execution_count": null,
   "metadata": {},
   "outputs": [],
   "source": [
    "def CTR(string, key, nonce):\n",
    "    keystream = CTR_Keystream(key, nonce)\n",
    "    if len(string) == 0:\n",
    "        return b\"\"\n",
    "    else:\n",
    "        return xor_bytes(string, keystream)"
   ]
  },
  {
   "cell_type": "code",
   "execution_count": null,
   "metadata": {},
   "outputs": [],
   "source": [
    "byte_text = CTR(decoded_string, key.encode(), 0)\n",
    "print(byte_text.decode(\"utf-8\"))"
   ]
  },
  {
   "cell_type": "markdown",
   "metadata": {},
   "source": [
    "### Challenge 19 & 20"
   ]
  },
  {
   "cell_type": "code",
   "execution_count": null,
   "metadata": {},
   "outputs": [],
   "source": [
    "import os\n",
    "from base64 import b64decode"
   ]
  },
  {
   "cell_type": "code",
   "execution_count": null,
   "metadata": {},
   "outputs": [],
   "source": [
    "random_key = os.urandom(16)\n",
    "decoded_strings = [b64decode(line.strip()) for line in open('20.txt')]\n",
    "ciphertext_list = [CTR(string, random_key, nonce) for string in decoded_strings]\n",
    "min_ciphertext_length = min(map(len, ciphertext_list))"
   ]
  },
  {
   "cell_type": "code",
   "execution_count": null,
   "metadata": {},
   "outputs": [],
   "source": [
    "columns = []\n",
    "for i in range(min_ciphertext_length):\n",
    "    line = b\"\"\n",
    "    for cipher in ciphertext_list:\n",
    "        line += cipher[i].to_bytes(1, \"little\")\n",
    "    result = single_byte_xor_letters(line)\n",
    "    columns.append(result['message'])\n",
    "\n",
    "message = \"\"\n",
    "for i in range(min_ciphertext_length):\n",
    "    for c in columns:\n",
    "        message += chr(c[i])\n",
    "print(message)\n",
    "\n",
    "# single_byte_xor_score gives a less accurate result"
   ]
  },
  {
   "cell_type": "markdown",
   "metadata": {},
   "source": [
    "### Challenge 21"
   ]
  },
  {
   "cell_type": "code",
   "execution_count": null,
   "metadata": {},
   "outputs": [],
   "source": [
    "import time"
   ]
  },
  {
   "cell_type": "code",
   "execution_count": null,
   "metadata": {},
   "outputs": [],
   "source": [
    "def get_lowest_bits(n, number_of_bits):\n",
    "    \"\"\"Returns the lowest \"number_of_bits\" bits of n.\"\"\"\n",
    "    mask = (1 << number_of_bits) - 1\n",
    "    return n & mask\n",
    "\n",
    "class MT19937:\n",
    "    \"\"\"This implementation resembles the one of the Wikipedia pseudo-code.\"\"\"\n",
    "    W, N, M, R = 32, 624, 397, 31\n",
    "    A = 0x9908B0DF\n",
    "    U, D = 11, 0xFFFFFFFF\n",
    "    S, B = 7, 0x9D2C5680\n",
    "    T, C = 15, 0xEFC60000\n",
    "    L = 18\n",
    "    F = 1812433253\n",
    "    LOWER_MASK = (1 << R) - 1\n",
    "    UPPER_MASK = get_lowest_bits(not LOWER_MASK, W)\n",
    "    \n",
    "    def __init__(self, seed):\n",
    "        self.mt = []\n",
    "\n",
    "        self.index = self.N\n",
    "        self.mt.append(seed)\n",
    "        for i in range(1, self.index):\n",
    "            self.mt.append(get_lowest_bits(self.F * (self.mt[i - 1] ^ (self.mt[i - 1] >> (self.W - 2))) + i, self.W))\n",
    "            \n",
    "    def extract_number(self):\n",
    "        if self.index >= self.N:\n",
    "            self.twist()\n",
    "\n",
    "        y = self.mt[self.index]\n",
    "        y ^= (y >> self.U) & self.D\n",
    "        y ^= (y << self.S) & self.B\n",
    "        y ^= (y << self.T) & self.C\n",
    "        y ^= (y >> self.L)\n",
    "\n",
    "        self.index += 1\n",
    "        return get_lowest_bits(y, self.W)\n",
    "\n",
    "    def twist(self):\n",
    "        for i in range(self.N):\n",
    "            x = (self.mt[i] & self.UPPER_MASK) + (self.mt[(i + 1) % self.N] & self.LOWER_MASK)\n",
    "            x_a = x >> 1\n",
    "            if x % 2 != 0:\n",
    "                x_a ^= self.A\n",
    "\n",
    "            self.mt[i] = self.mt[(i + self.M) % self.N] ^ x_a\n",
    "\n",
    "        self.index = 0"
   ]
  },
  {
   "cell_type": "code",
   "execution_count": null,
   "metadata": {},
   "outputs": [],
   "source": [
    "# Check if the numbers look random\n",
    "for i in range(10):\n",
    "    print(MT19937(i).extract_number())"
   ]
  },
  {
   "cell_type": "markdown",
   "metadata": {},
   "source": [
    "### Challenge 22"
   ]
  },
  {
   "cell_type": "code",
   "execution_count": null,
   "metadata": {},
   "outputs": [],
   "source": [
    "import time"
   ]
  },
  {
   "cell_type": "code",
   "execution_count": null,
   "metadata": {},
   "outputs": [],
   "source": [
    "def MT19937_timestamp_seed():\n",
    "    time.sleep(random.randint(40, 100))\n",
    "    seed = int(time.time())\n",
    "    mt_rng = MT19937(seed)\n",
    "    time.sleep(random.randint(40, 100))\n",
    "    return mt_rng.extract_number(), seed"
   ]
  },
  {
   "cell_type": "code",
   "execution_count": null,
   "metadata": {},
   "outputs": [],
   "source": [
    "def break_MT19937_seed(rng_function):\n",
    "    random_number, real_seed = rng_function()\n",
    "    now = int(time.time())\n",
    "    # Assuming nobody waits more than 220 seconds to get a random number\n",
    "    before = now - 220\n",
    "    for seed in range(before, now):\n",
    "        rng = MT19937(seed)\n",
    "        number = rng.extract_number()\n",
    "        if number == random_number:\n",
    "            return seed"
   ]
  },
  {
   "cell_type": "code",
   "execution_count": null,
   "metadata": {},
   "outputs": [],
   "source": [
    "break_MT19937_seed(MT19937_timestamp_seed)"
   ]
  },
  {
   "cell_type": "markdown",
   "metadata": {},
   "source": [
    "### Challenge 23"
   ]
  },
  {
   "cell_type": "code",
   "execution_count": null,
   "metadata": {},
   "outputs": [],
   "source": [
    "import time\n",
    "import random"
   ]
  },
  {
   "cell_type": "code",
   "execution_count": null,
   "metadata": {},
   "outputs": [],
   "source": [
    "def int_to_bit_list(x):\n",
    "    return [int(b) for b in '{:032b}'.format(x)]\n",
    "\n",
    "def bit_list_to_int(l):\n",
    "    return int(''.join(str(x) for x in l), base=2)\n",
    "\n",
    "def invert_shift_mask_xor(y, direction, shift, mask=0xFFFFFFFF):\n",
    "    y = int_to_bit_list(y)\n",
    "    mask = int_to_bit_list(mask)\n",
    "\n",
    "    if direction == 'left':\n",
    "        y.reverse()\n",
    "        mask.reverse()\n",
    "    else:\n",
    "        assert direction == 'right'\n",
    "\n",
    "    x = [None]*32\n",
    "    for n in range(32):\n",
    "        if n < shift:\n",
    "            x[n] = y[n]\n",
    "        else:\n",
    "            x[n] = y[n] ^ (mask[n] & x[n-shift])\n",
    "\n",
    "    if direction == 'left':\n",
    "        x.reverse()\n",
    "\n",
    "    return bit_list_to_int(x)\n",
    "\n",
    "def untemper(y):\n",
    "    (w, n, m, r) = (32, 624, 397, 31)\n",
    "    a = 0x9908B0DF\n",
    "    (u, d) = (11, 0xFFFFFFFF)\n",
    "    (s, b) = (7, 0x9D2C5680)\n",
    "    (t, c) = (15, 0xEFC60000)\n",
    "    l = 18\n",
    "    f = 1812433253\n",
    "\n",
    "    xx = y\n",
    "    xx = invert_shift_mask_xor(xx, direction='right', shift=l)\n",
    "    xx = invert_shift_mask_xor(xx, direction='left', shift=t, mask=c)\n",
    "    xx = invert_shift_mask_xor(xx, direction='left', shift=s, mask=b)\n",
    "    xx = invert_shift_mask_xor(xx, direction='right', shift=u, mask=d)\n",
    "\n",
    "    return xx"
   ]
  },
  {
   "cell_type": "code",
   "execution_count": null,
   "metadata": {},
   "outputs": [],
   "source": [
    "def get_cloned_rng(original_rng):\n",
    "    \"\"\"Taps the given rng for 624 outputs, untempers each of them to recreate the state of the generator,\n",
    "    and splices that state into a new \"cloned\" instance of the MT19937 generator.\n",
    "    \"\"\"\n",
    "    mt = []\n",
    "\n",
    "    # Recreate the state mt of original_rng\n",
    "    for i in range(MT19937.N):\n",
    "        mt.append(untemper(original_rng.extract_number()))\n",
    "\n",
    "    # Create a new generator and set it to have the same state\n",
    "    cloned_rng = MT19937(0)\n",
    "    cloned_rng.mt = mt\n",
    "\n",
    "    return cloned_rng"
   ]
  },
  {
   "cell_type": "code",
   "execution_count": null,
   "metadata": {},
   "outputs": [],
   "source": [
    "seed = random.randint(0, 2**32 - 1)\n",
    "rng = MT19937(seed)\n",
    "cloned_rng = get_cloned_rng(rng)\n",
    "\n",
    "# Check that the two PRNGs produce the same output now\n",
    "for i in range(100):\n",
    "    assert rng.extract_number() == cloned_rng.extract_number()"
   ]
  },
  {
   "cell_type": "markdown",
   "metadata": {},
   "source": [
    "### Challenge 24"
   ]
  },
  {
   "cell_type": "code",
   "execution_count": null,
   "metadata": {},
   "outputs": [],
   "source": [
    "import os\n",
    "import time\n",
    "import math\n",
    "import random"
   ]
  },
  {
   "cell_type": "code",
   "execution_count": null,
   "metadata": {},
   "outputs": [],
   "source": [
    "def MT19937_keystream_generator(seed):\n",
    "    assert math.log2(seed) <= 16\n",
    "    prng = MT19937(seed)\n",
    "    while True:\n",
    "        number = prng.extract_number()\n",
    "        yield from number.to_bytes(4, \"little\")"
   ]
  },
  {
   "cell_type": "code",
   "execution_count": null,
   "metadata": {},
   "outputs": [],
   "source": [
    "def MT19937_CTR(string, seed):\n",
    "    assert isinstance(seed, int)\n",
    "    \n",
    "    keystream = MT19937_keystream_generator(seed)\n",
    "    if len(string) == 0:\n",
    "        return b\"\"\n",
    "    else:\n",
    "        return bytes([(b1 ^ b2) for b1, b2 in zip(string, keystream)])"
   ]
  },
  {
   "cell_type": "code",
   "execution_count": null,
   "metadata": {},
   "outputs": [],
   "source": [
    "plaintext = \"Hello World!\"\n",
    "\n",
    "# append random characters before plainttext\n",
    "string = b\"\"\n",
    "for _ in range(random.randint(0, 10)):\n",
    "    i = random.randint(33, 126)\n",
    "    string += chr(i).encode()\n",
    "string += plaintext.encode()\n",
    "\n",
    "seed = random.randint(1, 2**16)\n",
    "print(\"> Seed value coded to be\", seed)\n",
    "cipher_bytes = MT19937_CTR(string, seed)\n",
    "deciphered_bytes = MT19937_CTR(cipher_bytes, seed)\n",
    "\n",
    "# verify if it can be decrypted\n",
    "assert string == deciphered_bytes\n",
    "\n",
    "#The number of possible keys is super small so you can just try them all. They even insist on it in the instructions: the cipher is using a 16-bits seed. It's kind of weird actually because from the specifications of MT19937 the seed seems to be 32 bits. Well even 32 bits should be small enough to crack, it would just take longer.\n",
    "for seed in range(1, 2**16):\n",
    "    deciphered_bytes = MT19937_CTR(cipher_bytes, seed)\n",
    "    try:\n",
    "        assert string == deciphered_bytes\n",
    "        print(\"> Brute force successful.\\nSeed:\", seed)\n",
    "        break\n",
    "    except AssertionError:\n",
    "        continue"
   ]
  },
  {
   "cell_type": "markdown",
   "metadata": {},
   "source": [
    "# Set 4"
   ]
  },
  {
   "cell_type": "markdown",
   "metadata": {},
   "source": [
    "### Challenge 25"
   ]
  },
  {
   "cell_type": "code",
   "execution_count": null,
   "metadata": {},
   "outputs": [],
   "source": [
    "import os\n",
    "import itertools"
   ]
  },
  {
   "cell_type": "code",
   "execution_count": null,
   "metadata": {},
   "outputs": [],
   "source": [
    "def edit(ciphertext, key, offset, newtext):\n",
    "    keystream = b\"\"\n",
    "    stream = CTR_Keystream(key, nonce)\n",
    "    for i in itertools.islice(stream, offset, offset+len(newtext)):\n",
    "        keystream += i.to_bytes(1, \"little\")\n",
    "    append_cipher = xor_bytes(newtext, keystream)\n",
    "    result = ciphertext[:offset] + append_cipher\n",
    "    if len(result) < len(ciphertext):\n",
    "        return result + ciphertext[len(result):]\n",
    "    return result"
   ]
  },
  {
   "cell_type": "code",
   "execution_count": null,
   "metadata": {},
   "outputs": [],
   "source": [
    "random_key = os.urandom(16)\n",
    "nonce = 0"
   ]
  },
  {
   "cell_type": "code",
   "execution_count": null,
   "metadata": {},
   "outputs": [],
   "source": [
    "# Testing the edit function\n",
    "plaintext = b\"hello there\"\n",
    "cipher = CTR(plaintext, random_key, nonce)\n",
    "print(\"Original text:\", CTR(cipher, random_key, nonce).decode(\"utf-8\"))\n",
    "edited_cipher = edit(cipher, random_key, 4, b\"####\")\n",
    "print(\"Edited text:\", CTR(edited_cipher, random_key, nonce).decode(\"utf-8\"))"
   ]
  },
  {
   "cell_type": "code",
   "execution_count": null,
   "metadata": {},
   "outputs": [],
   "source": [
    "# if you give text as \\x00 it gives out keystream, \n",
    "# xors keystream with 0 and thus can decode keystream \n",
    "# by using offset as 0\n",
    "with open('25.txt') as f:\n",
    "    recovered_bytes = b64decode(f.read())\n",
    "    \n",
    "ciphertext = CTR(recovered_bytes, random_key, nonce)\n",
    "recovered_keystream = edit(ciphertext, random_key, 0, b'\\x00'*len(ciphertext))\n",
    "deciphered_bytes = xor_bytes(ciphertext, recovered_keystream)"
   ]
  },
  {
   "cell_type": "code",
   "execution_count": null,
   "metadata": {},
   "outputs": [],
   "source": [
    "assert deciphered_bytes == recovered_bytes"
   ]
  },
  {
   "cell_type": "markdown",
   "metadata": {},
   "source": [
    "### Challenge 26"
   ]
  },
  {
   "cell_type": "code",
   "execution_count": null,
   "metadata": {},
   "outputs": [],
   "source": [
    "import os"
   ]
  },
  {
   "cell_type": "code",
   "execution_count": null,
   "metadata": {},
   "outputs": [],
   "source": [
    "random_key = os.urandom(16)\n",
    "nonce = 0\n",
    "prepend_string = \"comment1=cooking%20MCs;userdata=\"\n",
    "append_string = \";comment2=%20like%20a%20pound%20of%20bacon\""
   ]
  },
  {
   "cell_type": "code",
   "execution_count": null,
   "metadata": {},
   "outputs": [],
   "source": [
    "def encryptor(text, key, nonce):\n",
    "    plaintext =  (prepend_string.encode() + text + append_string.encode()).replace(b';', b'\";\"').replace(b'=', b'\"=\"')\n",
    "    ciphertext = CTR(plaintext, key, nonce)\n",
    "    return ciphertext"
   ]
  },
  {
   "cell_type": "code",
   "execution_count": null,
   "metadata": {},
   "outputs": [],
   "source": [
    "def admin_parser(byte_string, random_key, nonce) -> bool:\n",
    "    decrypted_string = CTR(byte_string, random_key, nonce)\n",
    "    if b';admin=true;' in decrypted_string:\n",
    "        return True\n",
    "    else:\n",
    "        return False"
   ]
  },
  {
   "cell_type": "code",
   "execution_count": null,
   "metadata": {},
   "outputs": [],
   "source": [
    "target_bytes = b\";admin=true;\"\n",
    "modified_string = b\"\"\n",
    "\n",
    "# we take out prefix length and then combine the recovered\n",
    "# keystream from that offset onwards with inut text to produce\n",
    "# the required string\n",
    "prefix_length = len(os.path.commonprefix([encryptor(b'AAAA', random_key, nonce), encryptor(b'', random_key, nonce)]))\n",
    "print(\"Prefix length: \", prefix_length)\n",
    "\n",
    "dummy_input = b\"heytheremama\"\n",
    "ciphertext = encryptor(dummy_input, random_key, nonce)\n",
    "null_cipher = encryptor(b'\\x00'*len(ciphertext), random_key, nonce)\n",
    "recovered_keystream = null_cipher[prefix_length:len(ciphertext)]\n",
    "\n",
    "injected_bytes = b\"\"\n",
    "for i in range(len(target_bytes)):\n",
    "    injected_bytes += (target_bytes[i] ^ recovered_keystream[i]).to_bytes(1, \"little\")\n",
    "\n",
    "modified_ciphertext = ciphertext[:prefix_length] + injected_bytes + ciphertext[prefix_length + len(injected_bytes):]"
   ]
  },
  {
   "cell_type": "code",
   "execution_count": null,
   "metadata": {},
   "outputs": [],
   "source": [
    "assert admin_parser(modified_ciphertext, random_key, nonce) == True"
   ]
  },
  {
   "cell_type": "markdown",
   "metadata": {},
   "source": [
    "### Challenge 27"
   ]
  },
  {
   "cell_type": "code",
   "execution_count": null,
   "metadata": {},
   "outputs": [],
   "source": [
    "import os"
   ]
  },
  {
   "cell_type": "code",
   "execution_count": null,
   "metadata": {},
   "outputs": [],
   "source": [
    "random_key = os.urandom(16)\n",
    "IV = random_key\n",
    "keysize = 16\n",
    "prepend_string = \"comment1=cooking%20MCs;userdata=\"\n",
    "append_string = \";comment2=%20like%20a%20pound%20of%20bacon\""
   ]
  },
  {
   "cell_type": "code",
   "execution_count": null,
   "metadata": {},
   "outputs": [],
   "source": [
    "def check_ascii_compliance(plaintext):\n",
    "    \"\"\"Returns true if all the characters of plaintext are ASCII compliant (ie are in the ASCII table).\"\"\"\n",
    "    return all(c < 128 for c in plaintext)"
   ]
  },
  {
   "cell_type": "code",
   "execution_count": null,
   "metadata": {},
   "outputs": [],
   "source": [
    "def encryptor(text, IV, key):\n",
    "    plaintext = text.replace(b';', b'\";\"').replace(b'=', b'\"=\"')\n",
    "    ciphertext = AES_CBC_Encrypt(pkcs7_pad(plaintext, len(key)), IV, key)\n",
    "    return ciphertext"
   ]
  },
  {
   "cell_type": "code",
   "execution_count": null,
   "metadata": {},
   "outputs": [],
   "source": [
    "def decryptor(byte_string, IV, key) -> bool:\n",
    "    decrypted_string = AES_CBC_Decrypt(byte_string, IV, key)\n",
    "    print(len(decrypted_string), decrypted_string)\n",
    "    if not check_ascii_compliance(decrypted_string):\n",
    "        raise Exception(decrypted_string)"
   ]
  },
  {
   "cell_type": "code",
   "execution_count": null,
   "metadata": {},
   "outputs": [],
   "source": [
    "plaintext = b\"lorem=ipsum;test=fun;padding=dull\"\n",
    "ciphertext = encryptor(plaintext, IV, random_key)\n",
    "c1 = ciphertext[:keysize]\n",
    "c2 = ciphertext[keysize:2*keysize]\n",
    "c3 = ciphertext[2*keysize:]\n",
    "\n",
    "try:\n",
    "    decryptor(c1 + b'\\x00'*16 + c1, IV, random_key)\n",
    "except Exception as e:\n",
    "    decrypted_string = str(e).encode()\n",
    "    p1 = decrypted_string[:keysize]\n",
    "    p3 = decrypted_string[2*keysize:]\n",
    "    decrypted_key = xor_bytes(p1, p3)\n",
    "    print(\"> Key found to be:\", decrypted_key)"
   ]
  },
  {
   "cell_type": "markdown",
   "metadata": {},
   "source": [
    "### Challenge 28"
   ]
  },
  {
   "cell_type": "code",
   "execution_count": null,
   "metadata": {},
   "outputs": [],
   "source": [
    "import os\n",
    "import struct\n",
    "import hashlib"
   ]
  },
  {
   "cell_type": "code",
   "execution_count": null,
   "metadata": {},
   "outputs": [],
   "source": [
    "def left_rotate(value, shift):\n",
    "    \"\"\"Returns value left-rotated by shift bits. In other words, performs a circular shift to the left.\"\"\"\n",
    "    return ((value << shift) & 0xffffffff) | (value >> (32 - shift))\n",
    "\n",
    "\n",
    "def sha1(message, ml=None, h0=0x67452301, h1=0xEFCDAB89, h2=0x98BADCFE, h3=0x10325476, h4=0xC3D2E1F0):\n",
    "    \"\"\"Returns a string containing the SHA1 hash of the input message. This is a pure python 3 SHA1\n",
    "    implementation, written starting from the SHA1 pseudo-code on Wikipedia.\n",
    "\n",
    "    The parameters ml, h0, ..., h5 are for the next challenge.\n",
    "    \"\"\"\n",
    "    # Pre-processing:\n",
    "    if ml is None:\n",
    "        ml = len(message) * 8\n",
    "\n",
    "    message += b'\\x80'\n",
    "    while (len(message) * 8) % 512 != 448:\n",
    "        message += b'\\x00'\n",
    "\n",
    "    message += struct.pack('>Q', ml)\n",
    "\n",
    "    # Process the message in successive 512-bit chunks:\n",
    "    for i in range(0, len(message), 64):\n",
    "\n",
    "        # Break chunk into sixteen 32-bit big-endian integers w[i]\n",
    "        w = [0] * 80\n",
    "        for j in range(16):\n",
    "            w[j] = struct.unpack('>I', message[i + j * 4:i + j * 4 + 4])[0]\n",
    "\n",
    "        # Extend the sixteen 32-bit integers into eighty 32-bit integers:\n",
    "        for j in range(16, 80):\n",
    "            w[j] = left_rotate(w[j - 3] ^ w[j - 8] ^ w[j - 14] ^ w[j - 16], 1)\n",
    "\n",
    "        # Initialize hash value for this chunk:\n",
    "        a = h0\n",
    "        b = h1\n",
    "        c = h2\n",
    "        d = h3\n",
    "        e = h4\n",
    "\n",
    "        # Main loop\n",
    "        for j in range(80):\n",
    "            if j <= 19:\n",
    "                f = d ^ (b & (c ^ d))\n",
    "                k = 0x5A827999\n",
    "            elif 20 <= j <= 39:\n",
    "                f = b ^ c ^ d\n",
    "                k = 0x6ED9EBA1\n",
    "            elif 40 <= j <= 59:\n",
    "                f = (b & c) | (d & (b | c))\n",
    "                k = 0x8F1BBCDC\n",
    "            else:\n",
    "                f = b ^ c ^ d\n",
    "                k = 0xCA62C1D6\n",
    "\n",
    "            temp = left_rotate(a, 5) + f + e + k + w[j] & 0xffffffff\n",
    "            e = d\n",
    "            d = c\n",
    "            c = left_rotate(b, 30)\n",
    "            b = a\n",
    "            a = temp\n",
    "\n",
    "        # Add this chunk's hash to result so far:\n",
    "        h0 = (h0 + a) & 0xffffffff\n",
    "        h1 = (h1 + b) & 0xffffffff\n",
    "        h2 = (h2 + c) & 0xffffffff\n",
    "        h3 = (h3 + d) & 0xffffffff\n",
    "        h4 = (h4 + e) & 0xffffffff\n",
    "\n",
    "    # Produce the final hash value (big-endian) as a 160 bit number, hex formatted:\n",
    "    return '%08x%08x%08x%08x%08x' % (h0, h1, h2, h3, h4)\n",
    "\n",
    "def sha1_mac(key, message):\n",
    "    return sha1(key + message)"
   ]
  },
  {
   "cell_type": "code",
   "execution_count": null,
   "metadata": {},
   "outputs": [],
   "source": [
    "key = os.urandom(16)\n",
    "message = b'This is a message to test that our implementation of the SHA1 MAC works properly.'\n",
    "\n",
    "hashed = sha1_mac(key, message)\n",
    "\n",
    "# Verify that I implemented SHA1 correctly\n",
    "h = hashlib.sha1(key + message)"
   ]
  },
  {
   "cell_type": "code",
   "execution_count": null,
   "metadata": {},
   "outputs": [],
   "source": [
    "assert (hashed == h.hexdigest())"
   ]
  },
  {
   "cell_type": "markdown",
   "metadata": {},
   "source": [
    "### Challenge 29"
   ]
  },
  {
   "cell_type": "code",
   "execution_count": null,
   "metadata": {},
   "outputs": [],
   "source": [
    "import os\n",
    "import struct"
   ]
  },
  {
   "cell_type": "code",
   "execution_count": null,
   "metadata": {},
   "outputs": [],
   "source": [
    "message = \"comment1=cooking%20MCs;userdata=foo;comment2=%20like%20a%20pound%20of%20bacon\"\n",
    "key = os.urandom(16)\n",
    "payload = b\";admin=true\""
   ]
  },
  {
   "cell_type": "code",
   "execution_count": null,
   "metadata": {},
   "outputs": [],
   "source": [
    "def md_pad(message):\n",
    "    ml = len(message) * 8\n",
    "    message += b'\\x80'\n",
    "    while (len(message) * 8) % 512 != 448:\n",
    "        message += b'\\x00'\n",
    "\n",
    "    message += struct.pack('>Q', ml)\n",
    "    return message\n",
    "    \n",
    "def validate(modified_message, new_md):\n",
    "    if sha1_mac(key, modified_message) == new_md:\n",
    "        return True\n",
    "    return False\n",
    "    \n",
    "def sha1_length_extension_attack(message, original_md, payload):\n",
    "    \n",
    "    for key_length in range(20):\n",
    "        h = struct.unpack('>5I', bytes.fromhex(original_md))\n",
    "        modified_message = md_pad(b'A'*key_length + message)[key_length:] + payload\n",
    "        new_md = sha1(payload, (len(modified_message) + key_length)*8, h[0], h[1], h[2], h[3], h[4])\n",
    "        if validate(modified_message, new_md):\n",
    "            print(\"> Length extension attack successful.\")\n",
    "            return modified_message, new_md\n",
    "            break"
   ]
  },
  {
   "cell_type": "code",
   "execution_count": null,
   "metadata": {},
   "outputs": [],
   "source": [
    "original_md = sha1_mac(key, message.encode())\n",
    "modified_message, new_md = sha1_length_extension_attack(message.encode(), original_md, payload)"
   ]
  },
  {
   "cell_type": "code",
   "execution_count": null,
   "metadata": {},
   "outputs": [],
   "source": [
    "assert payload in modified_message"
   ]
  },
  {
   "cell_type": "markdown",
   "metadata": {},
   "source": [
    "### Challenge 30"
   ]
  },
  {
   "cell_type": "code",
   "execution_count": null,
   "metadata": {},
   "outputs": [],
   "source": [
    "import struct\n",
    "from binascii import hexlify"
   ]
  },
  {
   "cell_type": "code",
   "execution_count": null,
   "metadata": {},
   "outputs": [],
   "source": [
    "message = \"comment1=cooking%20MCs;userdata=foo;comment2=%20like%20a%20pound%20of%20bacon\"\n",
    "key = os.urandom(16)\n",
    "payload = b\";admin=true\""
   ]
  },
  {
   "cell_type": "code",
   "execution_count": null,
   "metadata": {},
   "outputs": [],
   "source": [
    "def md_pad(message):\n",
    "    \"\"\"Pads the given message the same way the pre-processing of the MD4 algorithm does.\"\"\"\n",
    "    ml = len(message) * 8\n",
    "\n",
    "    message += b'\\x80'\n",
    "    message += bytes((56 - len(message) % 64) % 64)\n",
    "    message += struct.pack('<Q', ml)\n",
    "\n",
    "    return message\n",
    "    \n",
    "def validate(modified_message, new_md):\n",
    "    if MD4(modified_message).hex_digest() == new_md:\n",
    "        return True\n",
    "    return False"
   ]
  },
  {
   "cell_type": "code",
   "execution_count": null,
   "metadata": {},
   "outputs": [],
   "source": [
    "class MD4:\n",
    "    buf = [0x00] * 64\n",
    "\n",
    "    _F = lambda self, x, y, z: ((x & y) | (~x & z))\n",
    "    _G = lambda self, x, y, z: ((x & y) | (x & z) | (y & z))\n",
    "    _H = lambda self, x, y, z: (x ^ y ^ z)\n",
    "\n",
    "    def __init__(self, message, ml=None, A=0x67452301, B=0xefcdab89, C=0x98badcfe, D=0x10325476):\n",
    "        self.A, self.B, self.C, self.D = A, B, C, D\n",
    "\n",
    "        if ml is None:\n",
    "            ml = len(message) * 8\n",
    "        length = struct.pack('<Q', ml)\n",
    "\n",
    "        while len(message) > 64:\n",
    "            self._handle(message[:64])\n",
    "            message = message[64:]\n",
    "\n",
    "        message += b'\\x80'\n",
    "        message += bytes((56 - len(message) % 64) % 64)\n",
    "        message += length\n",
    "\n",
    "        while len(message):\n",
    "            self._handle(message[:64])\n",
    "            message = message[64:]\n",
    "\n",
    "    def _handle(self, chunk):\n",
    "        X = list(struct.unpack('<' + 'I' * 16, chunk))\n",
    "        A, B, C, D = self.A, self.B, self.C, self.D\n",
    "\n",
    "        for i in range(16):\n",
    "            k = i\n",
    "            if i % 4 == 0:\n",
    "                A = left_rotate((A + self._F(B, C, D) + X[k]) & 0xffffffff, 3)\n",
    "            elif i % 4 == 1:\n",
    "                D = left_rotate((D + self._F(A, B, C) + X[k]) & 0xffffffff, 7)\n",
    "            elif i % 4 == 2:\n",
    "                C = left_rotate((C + self._F(D, A, B) + X[k]) & 0xffffffff, 11)\n",
    "            elif i % 4 == 3:\n",
    "                B = left_rotate((B + self._F(C, D, A) + X[k]) & 0xffffffff, 19)\n",
    "\n",
    "        for i in range(16):\n",
    "            k = (i // 4) + (i % 4) * 4\n",
    "            if i % 4 == 0:\n",
    "                A = left_rotate((A + self._G(B, C, D) + X[k] + 0x5a827999) & 0xffffffff, 3)\n",
    "            elif i % 4 == 1:\n",
    "                D = left_rotate((D + self._G(A, B, C) + X[k] + 0x5a827999) & 0xffffffff, 5)\n",
    "            elif i % 4 == 2:\n",
    "                C = left_rotate((C + self._G(D, A, B) + X[k] + 0x5a827999) & 0xffffffff, 9)\n",
    "            elif i % 4 == 3:\n",
    "                B = left_rotate((B + self._G(C, D, A) + X[k] + 0x5a827999) & 0xffffffff, 13)\n",
    "\n",
    "        order = [0, 8, 4, 12, 2, 10, 6, 14, 1, 9, 5, 13, 3, 11, 7, 15]\n",
    "        for i in range(16):\n",
    "            k = order[i]\n",
    "            if i % 4 == 0:\n",
    "                A = left_rotate((A + self._H(B, C, D) + X[k] + 0x6ed9eba1) & 0xffffffff, 3)\n",
    "            elif i % 4 == 1:\n",
    "                D = left_rotate((D + self._H(A, B, C) + X[k] + 0x6ed9eba1) & 0xffffffff, 9)\n",
    "            elif i % 4 == 2:\n",
    "                C = left_rotate((C + self._H(D, A, B) + X[k] + 0x6ed9eba1) & 0xffffffff, 11)\n",
    "            elif i % 4 == 3:\n",
    "                B = left_rotate((B + self._H(C, D, A) + X[k] + 0x6ed9eba1) & 0xffffffff, 15)\n",
    "\n",
    "        self.A = (self.A + A) & 0xffffffff\n",
    "        self.B = (self.B + B) & 0xffffffff\n",
    "        self.C = (self.C + C) & 0xffffffff\n",
    "        self.D = (self.D + D) & 0xffffffff\n",
    "\n",
    "    def digest(self):\n",
    "        return struct.pack('<4I', self.A, self.B, self.C, self.D)\n",
    "\n",
    "    def hex_digest(self):\n",
    "        return hexlify(self.digest()).decode()\n",
    "    \n",
    "def md4_length_extension_attack(message, original_md, payload):\n",
    "    \n",
    "    for key_length in range(20):\n",
    "        h = struct.unpack('<4I', bytes.fromhex(original_md))\n",
    "        modified_message = md_pad(b'A'*key_length + message)[key_length:] + payload\n",
    "        new_md = MD4(payload, (len(modified_message) + key_length)*8, h[0], h[1], h[2], h[3]).hex_digest()\n",
    "        if validate(modified_message, new_md):\n",
    "            print(\"> Length extension attack successful.\")\n",
    "            return modified_message, new_md\n",
    "            break"
   ]
  },
  {
   "cell_type": "code",
   "execution_count": null,
   "metadata": {},
   "outputs": [],
   "source": [
    "original_md = MD4(message.encode()).hex_digest()\n",
    "modified_message, new_md = md4_length_extension_attack(message.encode(), original_md, payload)"
   ]
  },
  {
   "cell_type": "code",
   "execution_count": null,
   "metadata": {},
   "outputs": [],
   "source": [
    "assert payload in modified_message"
   ]
  },
  {
   "cell_type": "markdown",
   "metadata": {},
   "source": [
    "### Challenge 31"
   ]
  },
  {
   "cell_type": "code",
   "execution_count": null,
   "metadata": {},
   "outputs": [],
   "source": [
    "class HMAC:\n",
    "    \n",
    "    def __init__(self, random_key, hash_func):\n",
    "        self.hash_func = hash_func\n",
    "        self.block_size = hash_func().block_size\n",
    "\n",
    "        if len(random_key) > self.block_size:\n",
    "            self.key = hash_func(random_key).digest()\n",
    "        elif len(random_key) < self.block_size:\n",
    "            self.key = random_key + b'\\x00' * (self.block_size-len(random_key))\n",
    "\n",
    "    def compute(self, message):\n",
    "        o_key_pad = xor_bytes(self.key, b'\\x5c' * self.block_size)\n",
    "        i_key_pad = xor_bytes(self.key, b'\\x36' * self.block_size)\n",
    "        \n",
    "        inner_hash = self.hash_func(i_key_pad + message).digest()\n",
    "        \n",
    "        return self.hash_func(o_key_pad + inner_hash).hexdigest()"
   ]
  },
  {
   "cell_type": "code",
   "execution_count": null,
   "metadata": {},
   "outputs": [],
   "source": [
    "import os\n",
    "import web\n",
    "import json\n",
    "import time\n",
    "import hashlib\n",
    "\n",
    "urls = (\n",
    "    '/hello', 'Hello',\n",
    "    '/test', 'Hash'\n",
    ")\n",
    "\n",
    "app = web.application(urls, globals())\n",
    "\n",
    "HMAC_obj = HMAC(b\"YELLOW_SUBMARINE\", hashlib.sha1)\n",
    "\n",
    "class Hello:        \n",
    "    \n",
    "    def GET(self):\n",
    "        params = web.input()\n",
    "        name = params.name\n",
    "        if not name:\n",
    "            name = 'World'\n",
    "            \n",
    "        string = \"Hello, \" + name + \"!\"\n",
    "        return {\"name\" : string}\n",
    "\n",
    "class Hash:\n",
    "    \n",
    "    def _insecure_compare(self, hash1, hash2, delay):\n",
    "        for b1, b2 in zip(hash1, hash2):\n",
    "            if b1 != b2:\n",
    "                return False\n",
    "            time.sleep(delay)\n",
    "        return True\n",
    "    \n",
    "    def GET(self):\n",
    "        global HMAC_obj\n",
    "        params = web.input()\n",
    "        file = params.file\n",
    "        signature = params.signature\n",
    "        delay = params.delay\n",
    "        \n",
    "        hmac = HMAC_obj.compute(file.encode())\n",
    "        if self._insecure_compare(hmac.encode(), signature.encode(), float(delay)):\n",
    "            return web.HTTPError(200)\n",
    "        else:\n",
    "            return web.HTTPError(500)"
   ]
  },
  {
   "cell_type": "code",
   "execution_count": null,
   "metadata": {},
   "outputs": [],
   "source": [
    "response1 = app.request(\"/hello?name=\")\n",
    "print(response1.data)\n",
    "\n",
    "response2 = app.request(\"/hello?name=hexterisk\")\n",
    "print(json.loads(response2.data.decode(\"utf-8\").replace(\"'\",'\"')))\n",
    "\n",
    "file = \"foo\"\n",
    "signature = \"274b7c4d98605fcf739a0bf9237551623f415fb8\"\n",
    "response = app.request(\"/test?delay=\" + str(delay) + \"&file=\" + file + \"&signature=\" + signature)\n",
    "print(response)\n",
    "\n",
    "signature = \"8c80a95a8e72b3e822a13924553351a433e267d8\"\n",
    "response = app.request(\"/test?delay=\" + str(delay) + \"&file=\" + file + \"&signature=\" + signature)\n",
    "print(response)"
   ]
  },
  {
   "cell_type": "code",
   "execution_count": null,
   "metadata": {},
   "outputs": [],
   "source": [
    "file = \"foo\"\n",
    "delay = 0.05"
   ]
  },
  {
   "cell_type": "code",
   "execution_count": null,
   "metadata": {},
   "outputs": [],
   "source": [
    "signature = \"\"\n",
    "for _ in range(hashlib.sha1().digest_size * 2):\n",
    "    \"\"\"produces a 160-bit (20-byte) hash value known as a message digest,\n",
    "    typically rendered as a hexadecimal number, 40 digits long.\"\"\"\n",
    "    \n",
    "    times = []\n",
    "    for i in range(16):\n",
    "        start = time.time()\n",
    "        response = app.request(\"/test?delay=\" + str(delay) + \"&file=\" + file + \"&signature=\" + signature + hex(i)[-1])\n",
    "        finish = time.time()\n",
    "        times.append(finish - start)\n",
    "    signature += hex(times.index(max(times)))[-1]\n",
    "    print(\"> Discovered signature:\", signature)\n",
    "\n",
    "response = app.request(\"/test?delay=\" + str(delay) + \"&file=\" + file + \"&signature=\" + signature + hex(i)[-1])\n",
    "if response.status == 200:\n",
    "    print(\"> Brute force successful.\\n> Signature:\", signature)\n",
    "else:\n",
    "    print(\"Brute force failed.\")"
   ]
  },
  {
   "cell_type": "markdown",
   "metadata": {},
   "source": [
    "### Challenge 32"
   ]
  },
  {
   "cell_type": "code",
   "execution_count": null,
   "metadata": {},
   "outputs": [],
   "source": [
    "HMAC_obj = HMAC(b\"YELLOW_SUBMARINE\", hashlib.sha1)\n",
    "\n",
    "file = \"foo\"\n",
    "delay = 0.005"
   ]
  },
  {
   "cell_type": "code",
   "execution_count": null,
   "metadata": {},
   "outputs": [],
   "source": [
    "signature = \"\"\n",
    "for _ in range(hashlib.sha1().digest_size * 2):\n",
    "    \"\"\"produces a 160-bit (20-byte) hash value known as a message digest,\n",
    "    typically rendered as a hexadecimal number, 40 digits long.\"\"\"\n",
    "    \n",
    "    times = []\n",
    "    for i in range(16):\n",
    "        runtime = 0\n",
    "        # introduced more rounds so the difference is prominent\n",
    "        for _ in range(20):\n",
    "            start = time.time()\n",
    "            response = app.request(\"/test?delay=\" + str(delay) + \"&file=\" + file + \"&signature=\" + signature + hex(i)[-1])\n",
    "            finish = time.time()\n",
    "            runtime += finish - start\n",
    "        times.append(runtime)\n",
    "    signature += hex(times.index(max(times)))[-1]\n",
    "    print(\"> Discovered signature:\", signature)\n",
    "\n",
    "response = app.request(\"/test?delay=\" + str(delay) + \"&file=\" + file + \"&signature=\" + signature + hex(i)[-1])\n",
    "if response.status == 200:\n",
    "    print(\"> Brute force successful.\\n> Signature:\", signature)\n",
    "else:\n",
    "    print(\"Brute force failed.\")"
   ]
  },
  {
   "cell_type": "markdown",
   "metadata": {},
   "source": [
    "# Set 5"
   ]
  },
  {
   "cell_type": "markdown",
   "metadata": {},
   "source": [
    "### Challenge 33"
   ]
  },
  {
   "cell_type": "code",
   "execution_count": null,
   "metadata": {},
   "outputs": [],
   "source": [
    "import random\n",
    "import hashlib"
   ]
  },
  {
   "cell_type": "code",
   "execution_count": null,
   "metadata": {},
   "outputs": [],
   "source": [
    "p = 37\n",
    "g = 5"
   ]
  },
  {
   "cell_type": "code",
   "execution_count": null,
   "metadata": {},
   "outputs": [],
   "source": [
    "# Alice\n",
    "a = random.randint(0, 100)\n",
    "A = (g**a) % p"
   ]
  },
  {
   "cell_type": "code",
   "execution_count": null,
   "metadata": {},
   "outputs": [],
   "source": [
    "# Bob\n",
    "b = random.randint(0, 100)\n",
    "B = (g**b) % p"
   ]
  },
  {
   "cell_type": "code",
   "execution_count": null,
   "metadata": {},
   "outputs": [],
   "source": [
    "session_key_Alice = (B**a) % p\n",
    "session_key_Bob = (A**b) % p\n",
    "assert session_key_Alice == session_key_Bob"
   ]
  },
  {
   "cell_type": "code",
   "execution_count": null,
   "metadata": {},
   "outputs": [],
   "source": [
    "key = hashlib.sha256(str(session_key_Alice).encode()).hexdigest()"
   ]
  },
  {
   "cell_type": "code",
   "execution_count": null,
   "metadata": {},
   "outputs": [],
   "source": [
    "print(\"> Key:\", key)"
   ]
  },
  {
   "cell_type": "code",
   "execution_count": null,
   "metadata": {},
   "outputs": [],
   "source": [
    "class DiffieHellman():\n",
    "    \"\"\"Implements the Diffie-Helman key exchange. Each class is a party, which has his secret key (usually\n",
    "    referred to as lowercase a or b) shares the public key (usually referred to as uppercase A or B) and can\n",
    "    compute the shared secret key between itself and another party, given their public key, assuming that\n",
    "    they are agreeing on the same p and g.\n",
    "    \"\"\"\n",
    "\n",
    "    DEFAULT_G = 2\n",
    "    DEFAULT_P = int('ffffffffffffffffc90fdaa22168c234c4c6628b80dc1cd129024e088a67cc74020bbea63b139b225'\n",
    "                    '14a08798e3404ddef9519b3cd3a431b302b0a6df25f14374fe1356d6d51c245e485b576625e7ec6f4'\n",
    "                    '4c42e9a637ed6b0bff5cb6f406b7edee386bfb5a899fa5ae9f24117c4b1fe649286651ece45b3dc20'\n",
    "                    '07cb8a163bf0598da48361c55d39a69163fa8fd24cf5f83655d23dca3ad961c62f356208552bb9ed5'\n",
    "                    '29077096966d670c354e4abc9804f1746c08ca237327ffffffffffffffff', 16)\n",
    "\n",
    "    def __init__(self, g=DEFAULT_G, p=DEFAULT_P):\n",
    "        self.g = g\n",
    "        self.p = p\n",
    "        self._secret_key = random.randint(0, p - 1)\n",
    "        self.shared_key = None\n",
    "\n",
    "    def gen_public_key(self):\n",
    "        return pow(self.g, self._secret_key, self.p)\n",
    "\n",
    "    def gen_shared_secret_key(self, other_party_public_key):\n",
    "        if self.shared_key is None:\n",
    "            self.shared_key = pow(other_party_public_key, self._secret_key, self.p)\n",
    "        return self.shared_key"
   ]
  },
  {
   "cell_type": "code",
   "execution_count": null,
   "metadata": {},
   "outputs": [],
   "source": [
    "client1 = DiffieHellman()\n",
    "client2 = DiffieHellman()\n",
    "\n",
    "# Check that our DiffieHellman implementation works and two parties will agree on the same key\n",
    "assert client1.gen_shared_secret_key(client2.gen_public_key()) == client2.gen_shared_secret_key(client1.gen_public_key())"
   ]
  },
  {
   "cell_type": "markdown",
   "metadata": {},
   "source": [
    "### Challenge 34"
   ]
  },
  {
   "cell_type": "code",
   "execution_count": null,
   "metadata": {},
   "outputs": [],
   "source": [
    "import os\n",
    "from Crypto.Cipher import AES\n",
    "import hashlib"
   ]
  },
  {
   "cell_type": "code",
   "execution_count": null,
   "metadata": {},
   "outputs": [],
   "source": [
    "p = 37\n",
    "g = 5"
   ]
  },
  {
   "cell_type": "code",
   "execution_count": null,
   "metadata": {},
   "outputs": [],
   "source": [
    "def parameter_injection_attack(alice, bob):\n",
    "    block_size = AES.block_size\n",
    "    # A -> M\n",
    "    A = alice.gen_public_key()\n",
    "    # M -> B\n",
    "    A = alice.p\n",
    "    # B -> M\n",
    "    B = bob.gen_public_key()\n",
    "    # M -> A\n",
    "    B = bob.p\n",
    "    \n",
    "    # A -> M\n",
    "    msg = b\"Hello there!\"\n",
    "    s_a = hashlib.sha1(str(alice.gen_shared_secret_key(B)).encode()).digest()[:AES.block_size]\n",
    "    iv = os.urandom(16)\n",
    "    cipher_a = AES_CBC_Encrypt(msg, iv, s_a) + iv\n",
    "    \n",
    "    # M -> B\n",
    "    \n",
    "    # B -> M\n",
    "    s_b = hashlib.sha1(str(bob.gen_shared_secret_key(A)).encode()).digest()[:16]\n",
    "    a_iv = cipher[-AES.block_size:]\n",
    "    a_msg = AES_CBC_Decrypt(cipher_a[:-AES.block_size], iv, s_b)\n",
    "    print(\"A sent:\", pkcs7_unpad(a_msg))\n",
    "    iv = os.urandom(16)\n",
    "    cipher_b = AES_CBC_Encrypt(a_msg, iv, s_b) + iv\n",
    "    \n",
    "    # M -> A\n",
    "    \n",
    "    # Finding the key after replacing A and B with p is, in fact, very easy.\n",
    "    # Instead of (B^a % p) or (A^b % p), the shared secret key of the exercise became (p^a % p)\n",
    "    # and (p^b % p), both equal to zero!\n",
    "    mitm_key = hashlib.sha1(b'0').digest()[:AES.block_size]\n",
    "    \n",
    "    mitm_iv_a = cipher_a[-block_size:]\n",
    "    mitm_msg_a_read = AES_CBC_Decrypt(cipher_a[:-block_size], mitm_iv_a, mitm_key)\n",
    "    print(\"MITM MSG A:\", pkcs7_unpad(mitm_msg_a_read))\n",
    "    \n",
    "    mitm_iv_b = cipher_b[-block_size:]\n",
    "    mitm_msg_b_read = AES_CBC_Decrypt(cipher_b[:-block_size], mitm_iv_b, mitm_key)\n",
    "    print(\"MITM MSG B:\", pkcs7_unpad(mitm_msg_b_read))\n",
    "    "
   ]
  },
  {
   "cell_type": "code",
   "execution_count": null,
   "metadata": {},
   "outputs": [],
   "source": [
    "alice = DiffieHellman(g, p)\n",
    "bob = DiffieHellman(g, p)\n",
    "\n",
    "parameter_injection_attack(alice, bob)"
   ]
  },
  {
   "cell_type": "markdown",
   "metadata": {},
   "source": [
    "### Challenge 35"
   ]
  },
  {
   "cell_type": "code",
   "execution_count": null,
   "metadata": {},
   "outputs": [],
   "source": [
    "import os\n",
    "from Crypto.Cipher import AES\n",
    "import hashlib"
   ]
  },
  {
   "cell_type": "code",
   "execution_count": null,
   "metadata": {},
   "outputs": [],
   "source": [
    "def malicious_g_attack():\n",
    "    \"\"\"Simulates the break of Diffie-Hellman with negotiated groups by using malicious 'g' parameters.\"\"\"\n",
    "    p = DiffieHellman.DEFAULT_P\n",
    "\n",
    "    for g in [1, p, p - 1]:\n",
    "\n",
    "        # Step 1: the MITM changes the default g sent by Alice to Bob with a forced value\n",
    "        alice = DiffieHellman()\n",
    "        bob = DiffieHellman(g=g)\n",
    "\n",
    "        # Step 2: Bob receives this forced g and sends an ACK to Alice\n",
    "\n",
    "        # Step 3: Alice computes A and sends it to the MITM (thinking of Bob)\n",
    "        A = alice.gen_public_key()\n",
    "\n",
    "        # Step 4: Bob computes B and sends it to the MITM (thinking of Alice)\n",
    "        B = bob.gen_public_key()\n",
    "\n",
    "        # Step 5: Alice sends her encrypted message to Bob (without knowledge of MITM)\n",
    "        _msg = b'Hello, how are you?'\n",
    "        _a_key = hashlib.sha1(str(alice.gen_shared_secret_key(B)).encode()).digest()[:16]\n",
    "        _a_iv = os.urandom(AES.block_size)\n",
    "        a_question = AES_CBC_Encrypt(_msg, _a_iv, _a_key) + _a_iv\n",
    "\n",
    "        # Step 6: Bob receives the message sent by Alice (without knowing of the attack)\n",
    "        # However, this time Bob will not be able to decrypt it, because (if I understood the\n",
    "        # challenge task correctly) Alice and Bob now use different values of g.\n",
    "\n",
    "        # Step 7: the MITM decrypts the Alice's question\n",
    "        mitm_a_iv = a_question[-AES.block_size:]\n",
    "\n",
    "        # When g is 1, the secret key is also 1\n",
    "        if g == 1:\n",
    "            mitm_hacked_key = hashlib.sha1(b'1').digest()[:16]\n",
    "            mitm_hacked_message = AES_CBC_Decrypt(a_question[:-AES.block_size], mitm_a_iv, mitm_hacked_key)\n",
    "\n",
    "        # When g is equal to p, it works the same as in the S5C34 attack (the secret key is 0)\n",
    "        elif g == p:\n",
    "            mitm_hacked_key = hashlib.sha1(b'0').digest()[:16]\n",
    "            mitm_hacked_message = AES_CBC_Decrypt(a_question[:-AES.block_size], mitm_a_iv, mitm_hacked_key)\n",
    "\n",
    "        # When g is equal to p - 1, the secret key is (-1)^(ab), which is either (+1 % p) or (-1 % p).\n",
    "        # We can try both and later check the padding to see which one is correct.\n",
    "        else:\n",
    "\n",
    "            for candidate in [str(1).encode(), str(p - 1).encode()]:\n",
    "                mitm_hacked_key = hashlib.sha1(candidate).digest()[:16]\n",
    "                mitm_hacked_message = AES_CBC_Decrypt(a_question[:-AES.block_size], mitm_a_iv, mitm_hacked_key)\n",
    "\n",
    "                if pkcs7_padded(mitm_hacked_message):\n",
    "                    mitm_hacked_message = pkcs7_unpad(mitm_hacked_message)\n",
    "                    break\n",
    "        print(mitm_hacked_message)\n",
    "        # Check if the attack worked\n",
    "        #assert _msg == mitm_hacked_message\n"
   ]
  },
  {
   "cell_type": "code",
   "execution_count": null,
   "metadata": {},
   "outputs": [],
   "source": [
    "malicious_g_attack()"
   ]
  },
  {
   "cell_type": "markdown",
   "metadata": {},
   "source": [
    "### Challenge 36"
   ]
  },
  {
   "cell_type": "code",
   "execution_count": null,
   "metadata": {},
   "outputs": [],
   "source": [
    "import random\n",
    "import hashlib"
   ]
  },
  {
   "cell_type": "code",
   "execution_count": null,
   "metadata": {},
   "outputs": [],
   "source": [
    "# Client and server agree on these values beforehand\n",
    "\n",
    "# Generated using \"openssl dhparam -text 1024\".\n",
    "N = int(\"008c5f8a80af99a7db03599f8dae8fb2f75b52501ef54a827b8a1a586f14dfb20d6b5e2ff878b9ad6bca0bb9\"\n",
    "        \"18d30431fca1770760aa48be455cf5b949f3b86aa85a2573769e6c598f8d902cc1a0971a92e55b6e04c4d07e\"\n",
    "        \"01ac1fa9bdefd1f04f95f197b000486c43917568ff58fafbffe12bde0c7e8f019fa1cb2b8e1bcb1f33\", 16)\n",
    "g = 2\n",
    "k = 3\n",
    "I = \"hextersik@hexterisk.com\"\n",
    "P = \"hexterisk\""
   ]
  },
  {
   "cell_type": "code",
   "execution_count": null,
   "metadata": {},
   "outputs": [],
   "source": [
    "class HMAC:\n",
    "    \n",
    "    def __init__(self, random_key, hash_func):\n",
    "        self.hash_func = hash_func\n",
    "        self.block_size = hash_func().block_size\n",
    "\n",
    "        if len(random_key) > self.block_size:\n",
    "            self.key = hash_func(random_key).digest()\n",
    "        elif len(random_key) < self.block_size:\n",
    "            self.key = random_key + b'\\x00' * (self.block_size-len(random_key))\n",
    "\n",
    "    def compute(self, message):\n",
    "        o_key_pad = xor_bytes(self.key, b'\\x5c' * self.block_size)\n",
    "        i_key_pad = xor_bytes(self.key, b'\\x36' * self.block_size)\n",
    "        \n",
    "        inner_hash = self.hash_func(i_key_pad + message).digest()\n",
    "        \n",
    "        return self.hash_func(o_key_pad + inner_hash).hexdigest()"
   ]
  },
  {
   "cell_type": "code",
   "execution_count": null,
   "metadata": {},
   "outputs": [],
   "source": [
    "import os\n",
    "import web\n",
    "import json\n",
    "import time\n",
    "import random\n",
    "import hashlib\n",
    "\n",
    "urls = (\n",
    "    '/hello', 'Hello',\n",
    "    '/init', 'Initiate',\n",
    "    '/verify', 'Verify'\n",
    ")\n",
    "\n",
    "app = web.application(urls, globals())\n",
    "\n",
    "K = None\n",
    "salt = str(random.randint(0, 2**32 - 1))\n",
    "# since we can't save x, xH\n",
    "v = pow(g, int(hashlib.sha256(salt.encode()+P.encode()).hexdigest(), 16), N)\n",
    "\n",
    "class Hello:        \n",
    "    \n",
    "    def GET(self):\n",
    "        params = web.input()\n",
    "        name = params.name\n",
    "        if not name:\n",
    "            name = 'World'\n",
    "            \n",
    "        string = \"Hello, \" + name + \"!\"\n",
    "        return {\"name\" : string}\n",
    "    \n",
    "class Verify:\n",
    "\n",
    "    def GET(self):\n",
    "        \n",
    "        global K, salt\n",
    "        \n",
    "        params = web.input()\n",
    "        hmac_received = params.hmac\n",
    "        \n",
    "        HMAC_obj = HMAC(K, hashlib.sha256)\n",
    "        hmac = HMAC_obj.compute(salt.encode())\n",
    "        \n",
    "        if hmac == hmac_received:\n",
    "            return \"OK\"\n",
    "\n",
    "class Initiate:\n",
    "    \n",
    "    def GET(self):\n",
    "        \n",
    "        global K, salt\n",
    "        \n",
    "        params = web.input()\n",
    "        I = params.I\n",
    "        A = int(params.A)\n",
    "        \n",
    "        b = random.randint(0, N - 1)\n",
    "        B = k*v + pow(g, b, N)\n",
    "        \n",
    "        uH = hashlib.sha256(str(A).encode()+str(B).encode()).hexdigest()\n",
    "        u = int(uH, 16)\n",
    "        S = pow(A * pow(v, u, N), b, N)\n",
    "        K = hashlib.sha256(str(S).encode()).digest()\n",
    "        \n",
    "        return {\"salt\":salt, \"B\":B}"
   ]
  },
  {
   "cell_type": "code",
   "execution_count": null,
   "metadata": {},
   "outputs": [],
   "source": [
    "response1 = app.request(\"/hello?name=\")\n",
    "print(response1.data)\n",
    "\n",
    "response2 = app.request(\"/hello?name=hexterisk\")\n",
    "print(json.loads(response2.data.decode(\"utf-8\").replace(\"'\",'\"')))"
   ]
  },
  {
   "cell_type": "code",
   "execution_count": null,
   "metadata": {},
   "outputs": [],
   "source": [
    "def implement_SRP():\n",
    "    \n",
    "    a = random.randint(0, N - 1)\n",
    "    A = pow(g, a, N)\n",
    "    \n",
    "    response = app.request(\"/init?I=\" + I + \"&A=\" + str(A))\n",
    "    response_dict = json.loads(response.data.decode(\"utf-8\").replace(\"'\",'\"'))\n",
    "    salt = response_dict[\"salt\"]\n",
    "    B = int(response_dict[\"B\"])\n",
    "\n",
    "    uH = hashlib.sha256(str(A).encode()+str(B).encode()).hexdigest()\n",
    "    u = int(uH, 16)\n",
    "    \n",
    "    xH = hashlib.sha256(salt.encode()+P.encode()).hexdigest()\n",
    "    x = int(xH, 16)\n",
    "    \n",
    "    S = pow((B - k * pow(g, x, N)), (a + u * x), N)\n",
    "   \n",
    "    HMAC_obj = HMAC(K, hashlib.sha256)\n",
    "    hmac = HMAC_obj.compute(salt.encode())\n",
    "    \n",
    "    response = app.request(\"/verify?hmac=\" + hmac)\n",
    "    assert response.data.decode(\"utf-8\") == \"OK\"\n",
    "    print(\"> Verification successful.\")"
   ]
  },
  {
   "cell_type": "code",
   "execution_count": null,
   "metadata": {},
   "outputs": [],
   "source": [
    "implement_SRP()"
   ]
  },
  {
   "cell_type": "markdown",
   "metadata": {},
   "source": [
    "### Challenge 37"
   ]
  },
  {
   "cell_type": "code",
   "execution_count": null,
   "metadata": {},
   "outputs": [],
   "source": [
    "import random\n",
    "import hashlib"
   ]
  },
  {
   "cell_type": "code",
   "execution_count": null,
   "metadata": {},
   "outputs": [],
   "source": [
    "class HMAC:\n",
    "    \n",
    "    def __init__(self, random_key, hash_func):\n",
    "        self.hash_func = hash_func\n",
    "        self.block_size = hash_func().block_size\n",
    "\n",
    "        if len(random_key) > self.block_size:\n",
    "            self.key = hash_func(random_key).digest()\n",
    "        elif len(random_key) < self.block_size:\n",
    "            self.key = random_key + b'\\x00' * (self.block_size-len(random_key))\n",
    "\n",
    "    def compute(self, message):\n",
    "        o_key_pad = xor_bytes(self.key, b'\\x5c' * self.block_size)\n",
    "        i_key_pad = xor_bytes(self.key, b'\\x36' * self.block_size)\n",
    "        \n",
    "        inner_hash = self.hash_func(i_key_pad + message).digest()\n",
    "        \n",
    "        return self.hash_func(o_key_pad + inner_hash).hexdigest()"
   ]
  },
  {
   "cell_type": "code",
   "execution_count": null,
   "metadata": {},
   "outputs": [],
   "source": [
    "import os\n",
    "import web\n",
    "import json\n",
    "import time\n",
    "import random\n",
    "import hashlib\n",
    "\n",
    "urls = (\n",
    "    '/hello', 'Hello',\n",
    "    '/init', 'Initiate',\n",
    "    '/verify', 'Verify'\n",
    ")\n",
    "\n",
    "app = web.application(urls, globals())\n",
    "\n",
    "K = None\n",
    "salt = str(random.randint(0, 2**32 - 1))\n",
    "# since we can't save x, xH\n",
    "v = pow(g, int(hashlib.sha256(salt.encode()+P.encode()).hexdigest(), 16), N)\n",
    "\n",
    "class Hello:        \n",
    "    \n",
    "    def GET(self):\n",
    "        params = web.input()\n",
    "        name = params.name\n",
    "        if not name:\n",
    "            name = 'World'\n",
    "            \n",
    "        string = \"Hello, \" + name + \"!\"\n",
    "        return {\"name\" : string}\n",
    "    \n",
    "class Verify:\n",
    "\n",
    "    def GET(self):\n",
    "        \n",
    "        global K, salt\n",
    "        \n",
    "        params = web.input()\n",
    "        hmac_received = params.hmac\n",
    "        \n",
    "        HMAC_obj = HMAC(K, hashlib.sha256)\n",
    "        hmac = HMAC_obj.compute(salt.encode())\n",
    "        \n",
    "        if hmac == hmac_received:\n",
    "            return \"OK\"\n",
    "\n",
    "class Initiate:\n",
    "    \n",
    "    def GET(self):\n",
    "        \n",
    "        global K, salt\n",
    "        \n",
    "        params = web.input()\n",
    "        I = params.I\n",
    "        A = int(params.A)\n",
    "        \n",
    "        b = random.randint(0, N - 1)\n",
    "        B = k*v + pow(g, b, N)\n",
    "        \n",
    "        uH = hashlib.sha256(str(A).encode()+str(B).encode()).hexdigest()\n",
    "        u = int(uH, 16)\n",
    "        # S will be zero since modulo N will be zero for 0 and multiples of N\n",
    "        S = pow(A * pow(v, u, N), b, N)\n",
    "        K = hashlib.sha256(str(S).encode()).digest()\n",
    "        \n",
    "        return {\"salt\":salt, \"B\":B}"
   ]
  },
  {
   "cell_type": "code",
   "execution_count": null,
   "metadata": {},
   "outputs": [],
   "source": [
    "response1 = app.request(\"/hello?name=\")\n",
    "print(response1.data)\n",
    "\n",
    "response2 = app.request(\"/hello?name=hexterisk\")\n",
    "print(json.loads(response2.data.decode(\"utf-8\").replace(\"'\",'\"')))"
   ]
  },
  {
   "cell_type": "code",
   "execution_count": null,
   "metadata": {},
   "outputs": [],
   "source": [
    "def implement_SRP():\n",
    "    \n",
    "    for A in [0, N, N*2]:\n",
    "        a = random.randint(0, N - 1)\n",
    "\n",
    "        response = app.request(\"/init?I=\" + I + \"&A=\" + str(A))\n",
    "        response_dict = json.loads(response.data.decode(\"utf-8\").replace(\"'\",'\"'))\n",
    "        salt = response_dict[\"salt\"]\n",
    "        B = int(response_dict[\"B\"])\n",
    "\n",
    "        uH = hashlib.sha256(str(A).encode()+str(B).encode()).hexdigest()\n",
    "        u = int(uH, 16)\n",
    "\n",
    "        xH = hashlib.sha256(salt.encode()+P.encode()).hexdigest()\n",
    "        x = int(xH, 16)\n",
    "\n",
    "        # S = modular_pow((B - k * modular_pow(g, x, N)), (a + u * x), N)\n",
    "        # We put S=0 because we know it's going to be zero on the server side\n",
    "        S = 0\n",
    "        K = hashlib.sha256(str(S).encode()).digest()\n",
    "\n",
    "        HMAC_obj = HMAC(K, hashlib.sha256)\n",
    "        hmac = HMAC_obj.compute(salt.encode())\n",
    "\n",
    "        response = app.request(\"/verify?hmac=\" + hmac)\n",
    "        assert response.data.decode(\"utf-8\") == \"OK\"\n",
    "        print(\"> Verification successful.\")"
   ]
  },
  {
   "cell_type": "code",
   "execution_count": null,
   "metadata": {},
   "outputs": [],
   "source": [
    "implement_SRP()"
   ]
  },
  {
   "cell_type": "markdown",
   "metadata": {},
   "source": [
    "### Challenge 38"
   ]
  },
  {
   "cell_type": "code",
   "execution_count": null,
   "metadata": {},
   "outputs": [],
   "source": [
    "import random\n",
    "import hashlib"
   ]
  },
  {
   "cell_type": "code",
   "execution_count": null,
   "metadata": {},
   "outputs": [],
   "source": [
    "# Client and server agree on these values beforehand\n",
    "\n",
    "# Generated using \"openssl dhparam -text 1024\".\n",
    "N = int(\"008c5f8a80af99a7db03599f8dae8fb2f75b52501ef54a827b8a1a586f14dfb20d6b5e2ff878b9ad6bca0bb9\"\n",
    "        \"18d30431fca1770760aa48be455cf5b949f3b86aa85a2573769e6c598f8d902cc1a0971a92e55b6e04c4d07e\"\n",
    "        \"01ac1fa9bdefd1f04f95f197b000486c43917568ff58fafbffe12bde0c7e8f019fa1cb2b8e1bcb1f33\", 16)\n",
    "g = 2\n",
    "k = 3\n",
    "I = \"hextersik@hexterisk.com\"\n",
    "P = \"BackupU$r\""
   ]
  },
  {
   "cell_type": "code",
   "execution_count": null,
   "metadata": {},
   "outputs": [],
   "source": [
    "class HMAC:\n",
    "    \n",
    "    def __init__(self, random_key, hash_func):\n",
    "        self.hash_func = hash_func\n",
    "        self.block_size = hash_func().block_size\n",
    "\n",
    "        if len(random_key) > self.block_size:\n",
    "            self.key = hash_func(random_key).digest()\n",
    "        elif len(random_key) < self.block_size:\n",
    "            self.key = random_key + b'\\x00' * (self.block_size-len(random_key))\n",
    "\n",
    "    def compute(self, message):\n",
    "        o_key_pad = xor_bytes(self.key, b'\\x5c' * self.block_size)\n",
    "        i_key_pad = xor_bytes(self.key, b'\\x36' * self.block_size)\n",
    "        \n",
    "        inner_hash = self.hash_func(i_key_pad + message).digest()\n",
    "        \n",
    "        return self.hash_func(o_key_pad + inner_hash).hexdigest()"
   ]
  },
  {
   "cell_type": "code",
   "execution_count": null,
   "metadata": {},
   "outputs": [],
   "source": [
    "import os\n",
    "import web\n",
    "import json\n",
    "import time\n",
    "import random\n",
    "import hashlib\n",
    "\n",
    "urls = (\n",
    "    '/hello', 'Hello',\n",
    "    '/init', 'Initiate',\n",
    "    '/verify', 'Verify'\n",
    ")\n",
    "\n",
    "app = web.application(urls, globals())\n",
    "\n",
    "K = None\n",
    "salt = str(random.randint(0, 2**32 - 1))\n",
    "# since we can't save x, xH\n",
    "v = pow(g, int(hashlib.sha256(salt.encode()+P.encode()).hexdigest(), 16), N)\n",
    "\n",
    "class Hello:        \n",
    "    \n",
    "    def GET(self):\n",
    "        params = web.input()\n",
    "        name = params.name\n",
    "        if not name:\n",
    "            name = 'World'\n",
    "            \n",
    "        string = \"Hello, \" + name + \"!\"\n",
    "        return {\"name\" : string}\n",
    "    \n",
    "class Verify:\n",
    "\n",
    "    def GET(self):\n",
    "        \n",
    "        global K, salt\n",
    "        \n",
    "        params = web.input()\n",
    "        hmac_received = params.hmac\n",
    "        \n",
    "        HMAC_obj = HMAC(K, hashlib.sha256)\n",
    "        hmac = HMAC_obj.compute(salt.encode())\n",
    "        \n",
    "        if hmac == hmac_received:\n",
    "            return \"OK\"\n",
    "\n",
    "class Initiate:\n",
    "    \n",
    "    def GET(self):\n",
    "        \n",
    "        global K, salt\n",
    "        \n",
    "        params = web.input()\n",
    "        I = params.I\n",
    "        A = int(params.A)\n",
    "        \n",
    "        b = random.randint(0, N - 1)\n",
    "        B = pow(g, b, N)\n",
    "        \n",
    "        u = random.getrandbits(128)\n",
    "        S = pow(A * pow(v, u, N), b, N)\n",
    "        K = hashlib.sha256(str(S).encode()).digest()\n",
    "        \n",
    "        return {\"salt\":salt, \"B\":B, \"u\":u}"
   ]
  },
  {
   "cell_type": "code",
   "execution_count": null,
   "metadata": {},
   "outputs": [],
   "source": [
    "response1 = app.request(\"/hello?name=\")\n",
    "print(response1.data)\n",
    "\n",
    "response2 = app.request(\"/hello?name=hexterisk\")\n",
    "print(json.loads(response2.data.decode(\"utf-8\").replace(\"'\",'\"')))"
   ]
  },
  {
   "cell_type": "code",
   "execution_count": null,
   "metadata": {},
   "outputs": [],
   "source": [
    "def implement_SRP():\n",
    "    \n",
    "    a = random.randint(0, N - 1)\n",
    "    A = pow(g, a, N)\n",
    "    \n",
    "    response = app.request(\"/init?I=\" + I + \"&A=\" + str(A))\n",
    "    response_dict = json.loads(response.data.decode(\"utf-8\").replace(\"'\",'\"'))\n",
    "    salt = response_dict[\"salt\"]\n",
    "    B = int(response_dict[\"B\"])\n",
    "    u = int(response_dict[\"u\"])\n",
    "    \n",
    "    xH = hashlib.sha256(salt.encode()+P.encode()).hexdigest()\n",
    "    x = int(xH, 16)\n",
    "    \n",
    "    S = pow(B, (a + u * x), N)\n",
    "    K = hashlib.sha256(str(S).encode()).digest()\n",
    "    \n",
    "    HMAC_obj = HMAC(K, hashlib.sha256)\n",
    "    hmac = HMAC_obj.compute(salt.encode())\n",
    "    \n",
    "    response = app.request(\"/verify?hmac=\" + hmac)\n",
    "    assert response.data.decode(\"utf-8\") == \"OK\"\n",
    "    print(\"> Verification successful.\")"
   ]
  },
  {
   "cell_type": "code",
   "execution_count": null,
   "metadata": {},
   "outputs": [],
   "source": [
    "implement_SRP()"
   ]
  },
  {
   "cell_type": "code",
   "execution_count": null,
   "metadata": {},
   "outputs": [],
   "source": [
    "def MITM():\n",
    "    \n",
    "    a = random.randint(0, N - 1)\n",
    "    A = pow(g, a, N)\n",
    "    \n",
    "    response = app.request(\"/init?I=\" + I + \"&A=\" + str(A))\n",
    "    response_dict = json.loads(response.data.decode(\"utf-8\").replace(\"'\",'\"'))\n",
    "    salt = response_dict[\"salt\"]\n",
    "    B = int(response_dict[\"B\"])\n",
    "    u = int(response_dict[\"u\"])\n",
    "    \n",
    "    data = open('dictionary.txt', 'r').read()\n",
    "    passwords = data.split('\\n')\n",
    "    \n",
    "    for password in passwords:\n",
    "        xH = hashlib.sha256(salt.encode()+password.encode()).hexdigest()\n",
    "        x = int(xH, 16)\n",
    "\n",
    "        S = pow(B, (a + u * x), N)\n",
    "        K = hashlib.sha256(str(S).encode()).digest()\n",
    "\n",
    "        HMAC_obj = HMAC(K, hashlib.sha256)\n",
    "        hmac = HMAC_obj.compute(salt.encode())\n",
    "\n",
    "        response = app.request(\"/verify?hmac=\" + hmac)\n",
    "        \n",
    "        if response.data.decode(\"utf-8\") == \"OK\":\n",
    "            print(\"> Brute force successful.\")\n",
    "            print(\"> Password found to be:\", P)\n",
    "            break"
   ]
  },
  {
   "cell_type": "code",
   "execution_count": null,
   "metadata": {},
   "outputs": [],
   "source": [
    "MITM()"
   ]
  },
  {
   "cell_type": "markdown",
   "metadata": {},
   "source": [
    "### Challenge 39"
   ]
  },
  {
   "cell_type": "code",
   "execution_count": null,
   "metadata": {},
   "outputs": [],
   "source": [
    "import math\n",
    "import random\n",
    "from Crypto.Util.number import getPrime"
   ]
  },
  {
   "cell_type": "code",
   "execution_count": null,
   "metadata": {},
   "outputs": [],
   "source": [
    "def mod_inverse(a, n) : \n",
    "    \"\"\"Computes the multiplicative inverse of a modulo n using the extended Euclidean algorithm.\"\"\"\n",
    "    t, r = 0, n\n",
    "    new_t, new_r = 1, a\n",
    "\n",
    "    while new_r != 0:\n",
    "        quotient = r // new_r\n",
    "        t, new_t = new_t, t - quotient * new_t\n",
    "        r, new_r = new_r, r - quotient * new_r\n",
    "\n",
    "    if r > 1:\n",
    "        raise Exception(\"a is not invertible\")\n",
    "    if t < 0:\n",
    "        t = t + n\n",
    "\n",
    "    return t"
   ]
  },
  {
   "cell_type": "code",
   "execution_count": null,
   "metadata": {},
   "outputs": [],
   "source": [
    "class RSA:\n",
    "    \n",
    "    def __init__(self, keysize):\n",
    "        e = 3\n",
    "        et = 0\n",
    "        n = 0\n",
    "\n",
    "        while math.gcd(e, et) != 1:\n",
    "            p, q = getPrime(keysize // 2), getPrime(keysize // 2)\n",
    "            et = ((p - 1) * (q - 1)) // math.gcd(p - 1, q - 1)\n",
    "            n = p * q\n",
    "\n",
    "        d = mod_inverse(e, et)\n",
    "        \n",
    "        self.pub = (e, n)\n",
    "        self.pvt = (d, n)\n",
    "\n",
    "    def encrypt(self, message, byteorder=\"big\"):\n",
    "        (e, n) = self.pub\n",
    "        data = int.from_bytes(message, byteorder)\n",
    "        \n",
    "        if data < 0 or data >= n:\n",
    "            raise ValueError(str(data) + ' out of range')\n",
    "            \n",
    "        return pow(data, e, n)\n",
    "    \n",
    "    def encryptnum(self, m):\n",
    "        (e, n) = self.pub\n",
    "        if m < 0 or m >= n:\n",
    "            raise ValueError(str(m) + ' out of range')\n",
    "        return pow(m, e, n)\n",
    "    \n",
    "    def decrypt(self, ciphertext, byteorder=\"big\"):\n",
    "        (d, n) = self.pvt\n",
    "        \n",
    "        if ciphertext < 0 or ciphertext >= n:\n",
    "            raise ValueError(str(ciphertext) + ' out of range')\n",
    "        \n",
    "        numeric_plain = pow(ciphertext, d, n)\n",
    "        return numeric_plain.to_bytes((numeric_plain.bit_length() + 7) // 8, byteorder)\n",
    "    \n",
    "    def decryptnum(self, m):\n",
    "        (d, n) = self.pvt\n",
    "        if m < 0 or m >= n:\n",
    "            raise ValueError(str(m) + ' out of range')\n",
    "        return pow(m, d, n)"
   ]
  },
  {
   "cell_type": "code",
   "execution_count": null,
   "metadata": {},
   "outputs": [],
   "source": [
    "rsa = RSA(1024)\n",
    "message = \"Testing 1..2..3...\""
   ]
  },
  {
   "cell_type": "code",
   "execution_count": null,
   "metadata": {},
   "outputs": [],
   "source": [
    "ciphertext = rsa.encrypt(message.encode())\n",
    "assert rsa.decrypt(ciphertext).decode(\"utf-8\") == message"
   ]
  },
  {
   "cell_type": "markdown",
   "metadata": {},
   "source": [
    "### Challenge 40"
   ]
  },
  {
   "cell_type": "code",
   "execution_count": null,
   "metadata": {},
   "outputs": [],
   "source": [
    "import math"
   ]
  },
  {
   "cell_type": "code",
   "execution_count": null,
   "metadata": {},
   "outputs": [],
   "source": [
    "def floorRoot(n, s):\n",
    "    b = n.bit_length()\n",
    "    p = math.ceil(b/s)\n",
    "    x = 2**p\n",
    "    while x > 1:\n",
    "        y = (((s - 1) * x) + (n // (x**(s-1)))) // s\n",
    "        if y >= x:\n",
    "            return x\n",
    "        x = y\n",
    "    return 1\n",
    "\n",
    "def mod_inverse(a, n) : \n",
    "    \"\"\"Computes the multiplicative inverse of a modulo n using the extended Euclidean algorithm.\"\"\"\n",
    "    t, r = 0, n\n",
    "    new_t, new_r = 1, a\n",
    "\n",
    "    while new_r != 0:\n",
    "        quotient = r // new_r\n",
    "        t, new_t = new_t, t - quotient * new_t\n",
    "        r, new_r = new_r, r - quotient * new_r\n",
    "\n",
    "    if r > 1:\n",
    "        raise Exception(\"a is not invertible\")\n",
    "    if t < 0:\n",
    "        t = t + n\n",
    "\n",
    "    return t"
   ]
  },
  {
   "cell_type": "code",
   "execution_count": null,
   "metadata": {},
   "outputs": [],
   "source": [
    "def RSA_Broadcast_Attack(message, rsa0, rsa1, rsa2):\n",
    "    \"\"\"Uses the Chinese Remainder Theorem (CRT) to break e=3 RSA given three ciphertexts of the same plaintext.\n",
    "    This attack could be easily coded to work also when a different number of ciphertexts is provided.\n",
    "    Check here for reference: https://crypto.stanford.edu/pbc/notes/numbertheory/crt.html\n",
    "    \"\"\"\n",
    "    \n",
    "    rsa0 = RSA(256)\n",
    "    rsa1 = RSA(256)\n",
    "    rsa2 = RSA(256)\n",
    "\n",
    "    pub0 = rsa0.pub\n",
    "    pub1 = rsa1.pub\n",
    "    pub2 = rsa2.pub\n",
    "    \n",
    "    plainnum = int.from_bytes(message, \"big\")\n",
    "    c0 = rsa0.encryptnum(plainnum)\n",
    "    c1 = rsa1.encryptnum(plainnum)\n",
    "    c2 = rsa2.encryptnum(plainnum)\n",
    "    \n",
    "    n0 = rsa0.pub[1]\n",
    "    n1 = rsa1.pub[1]\n",
    "    n2 = rsa2.pub[1]\n",
    "    \n",
    "    # can't do N/n0 for ms0 instead because floating point operations arent accurate\n",
    "    N = n0 * n1 * n2\n",
    "    ms0 = n1 * n2\n",
    "    ms1 = n0 * n2\n",
    "    ms2 = n0 * n1\n",
    "    \n",
    "    r0 = (c0 * ms0 * mod_inverse(ms0, n0))\n",
    "    r1 = (c1 * ms1 * mod_inverse(ms1, n1))\n",
    "    r2 = (c2 * ms2 * mod_inverse(ms2, n2))\n",
    "    \n",
    "    R = (r0 + r1 + r2) % N\n",
    "    m = floorRoot(R, 3)\n",
    "    \n",
    "    return m.to_bytes((m.bit_length() + 7) // 8, \"big\")"
   ]
  },
  {
   "cell_type": "code",
   "execution_count": null,
   "metadata": {},
   "outputs": [],
   "source": [
    "message = \"This is RSA Broadcast Attack\"\n",
    "assert RSA_Broadcast_Attack(message.encode(), RSA(256), RSA(256), RSA(256)).decode(\"utf-8\") == message"
   ]
  },
  {
   "cell_type": "markdown",
   "metadata": {},
   "source": [
    "# Set 6"
   ]
  },
  {
   "cell_type": "markdown",
   "metadata": {},
   "source": [
    "### Challenge 41"
   ]
  },
  {
   "cell_type": "code",
   "execution_count": null,
   "metadata": {},
   "outputs": [],
   "source": [
    "import random"
   ]
  },
  {
   "cell_type": "code",
   "execution_count": null,
   "metadata": {},
   "outputs": [],
   "source": [
    "class RSA_server:\n",
    "    \n",
    "    def __init__(self, rsa):\n",
    "        self.rsa = rsa\n",
    "        self.decrypted = []\n",
    "    \n",
    "    def get_public_key(self):\n",
    "        return self.rsa.pub\n",
    "    \n",
    "    def decrypt(self, ciphertext):\n",
    "        if cipher in decrypted:\n",
    "            raise Exception(\"This ciphertext has already been deciphered before!\")\n",
    "        self.decrypted.append(ciphertext)\n",
    "        return rsa.decrypt(ciphertext)"
   ]
  },
  {
   "cell_type": "code",
   "execution_count": null,
   "metadata": {},
   "outputs": [],
   "source": [
    "def unpadded_message_recovery(ciphertext, rsa_server):\n",
    "    \n",
    "    (E, N) = rsa_server.get_public_key()\n",
    "    S = random.randint(1, N)\n",
    "    while True:\n",
    "        if S % N > 1:\n",
    "            break\n",
    "    \n",
    "    modified_ciphertext = (pow(S, E, N) * ciphertext) % N\n",
    "    \n",
    "    modified_plaintext = rsa.decrypt(modified_ciphertext)\n",
    "    recovered_plaintext_int = (int.from_bytes(modified_plaintext, \"big\") * mod_inverse(S, N) % N)\n",
    "    \n",
    "    return (recovered_plaintext_int).to_bytes((recovered_plaintext_int.bit_length() + 7) // 8, \"big\")"
   ]
  },
  {
   "cell_type": "code",
   "execution_count": null,
   "metadata": {},
   "outputs": [],
   "source": [
    "rsa = RSA(256)\n",
    "rsa_server = RSA_server(rsa)\n",
    "\n",
    "plaintext = \"Unpadded message\"\n",
    "ciphertext = rsa.encrypt(plaintext.encode())\n",
    "assert unpadded_message_recovery(ciphertext, rsa_server).decode(\"utf-8\") == plaintext"
   ]
  },
  {
   "cell_type": "markdown",
   "metadata": {},
   "source": [
    "### Challenge 42"
   ]
  },
  {
   "cell_type": "code",
   "execution_count": null,
   "metadata": {},
   "outputs": [],
   "source": [
    "import re\n",
    "import hashlib"
   ]
  },
  {
   "cell_type": "code",
   "execution_count": null,
   "metadata": {},
   "outputs": [],
   "source": [
    "# Shit has to be in big endian because cubing takes place, and interferes with the bit manipulation"
   ]
  },
  {
   "cell_type": "code",
   "execution_count": null,
   "metadata": {},
   "outputs": [],
   "source": [
    "class RSA_Digital_Signature(RSA):\n",
    "    \"\"\"Extends the RSA class coded before with the sign / verify functions.\"\"\"\n",
    "\n",
    "    def generate_signature(self, message):\n",
    "        digest = hashlib.sha1(message).digest()\n",
    "        block = b'\\x00\\x01' + (b'\\xff' * (128 - len(digest) - 3 - 15)) + b'\\x00' + ASN1_SHA1 + digest\n",
    "        signature = rsa.decrypt(int.from_bytes(block, \"big\"), \"big\")\n",
    "        return signature\n",
    "\n",
    "    def verify_signature(self, message, signature):\n",
    "        cipher = rsa.encrypt(signature, \"big\")\n",
    "        block = b'\\x00' + cipher.to_bytes((cipher.bit_length() + 7) // 8, \"big\")\n",
    "        r = re.compile(b'\\x00\\x01\\xff+?\\x00.{15}(.{20})', re.DOTALL)\n",
    "        m = r.match(block)\n",
    "        if not m:\n",
    "            return False\n",
    "        digest = m.group(1)\n",
    "        return digest == hashlib.sha1(message).digest()"
   ]
  },
  {
   "cell_type": "code",
   "execution_count": null,
   "metadata": {},
   "outputs": [],
   "source": [
    "message = \"hi mom\"\n",
    "# 15-byte ASN.1 value for SHA1 (from rfc 3447)\n",
    "ASN1_SHA1 = b\"\\x30\\x21\\x30\\x09\\x06\\x05\\x2b\\x0e\\x03\\x02\\x1a\\x05\\x00\\x04\\x14\"\n",
    "\n",
    "rsa = RSA_Digital_Signature(1024)\n",
    "signature = rsa.generate_signature(message.encode())\n",
    "if not rsa.verify_signature(message.encode(), signature):\n",
    "    raise Exception(message + b' has invalid signature ' + signature)\n",
    "else:\n",
    "    print(\"> Signature verified for message:\", message)"
   ]
  },
  {
   "cell_type": "code",
   "execution_count": null,
   "metadata": {},
   "outputs": [],
   "source": [
    "def forge_signature(message):\n",
    "    digest = hashlib.sha1(message).digest()\n",
    "    block = b'\\x00\\x01\\xff\\x00' +  ASN1_SHA1 + digest + (b'\\x00' * (128 - len(digest) - 4 - 15))\n",
    "    block_int = int.from_bytes(block, \"big\")\n",
    "    sig = floorRoot(block_int, 3) + 1\n",
    "    return sig.to_bytes((sig.bit_length() + 7) // 8, \"big\")"
   ]
  },
  {
   "cell_type": "code",
   "execution_count": null,
   "metadata": {},
   "outputs": [],
   "source": [
    "forged_signature = forge_signature(message.encode())\n",
    "if not rsa.verify_signature(message.encode(), forged_signature):\n",
    "    raise Exception(message + b' has invalid signature ' + forged_signature)\n",
    "else:\n",
    "    print(\"> Signature verified for message:\", message)"
   ]
  },
  {
   "cell_type": "markdown",
   "metadata": {},
   "source": [
    "### Challenge 43"
   ]
  },
  {
   "cell_type": "code",
   "execution_count": null,
   "metadata": {},
   "outputs": [],
   "source": [
    "import random\n",
    "import hashlib\n",
    "from Crypto.Util.number import getPrime"
   ]
  },
  {
   "cell_type": "code",
   "execution_count": null,
   "metadata": {},
   "outputs": [],
   "source": [
    "class DSA:\n",
    "    \n",
    "    \"\"\"Implements the DSA public key encryption / decryption.\"\"\"\n",
    "    DEFAULT_P = int(\"800000000000000089e1855218a0e7dac38136ffafa72eda7859f2171e25e65eac698c1702578b07dc2a1076da241c76\"\n",
    "                    \"c62d374d8389ea5aeffd3226a0530cc565f3bf6b50929139ebeac04f48c3c84afb796d61e5a4f9a8fda812ab59494232\"\n",
    "                    \"c7d2b4deb50aa18ee9e132bfa85ac4374d7f9091abc3d015efc871a584471bb1\", 16)\n",
    "    DEFAULT_Q = 0xf4f47f05794b256174bba6e9b396a7707e563c5b\n",
    "    DEFAULT_G = int(\"5958c9d3898b224b12672c0b98e06c60df923cb8bc999d119458fef538b8fa4046c8db53039db620c094c9fa077ef389\"\n",
    "                    \"b5322a559946a71903f990f1f7e0e025e2d7f7cf494aff1a0470f5b64c36b625a097f1651fe775323556fe00b3608c88\"\n",
    "                    \"7892878480e99041be601a62166ca6894bdd41a7054ec89f756ba9fc95302291\", 16)\n",
    "        \n",
    "    def __init__(self, p = DEFAULT_P, q = DEFAULT_Q, g = DEFAULT_G):\n",
    "        self.p = p\n",
    "        self.q = q\n",
    "        self.g = g\n",
    "        self.x, self. y = self._per_user_key()\n",
    "        self.pvt, self.pub = self.x, self.y\n",
    "        \n",
    "    def _per_user_key(self):\n",
    "        x = random.randint(1, self.q - 1)\n",
    "        y = pow(self.g, x, self.p)\n",
    "        return x, y\n",
    "    \n",
    "    def H(self, message):\n",
    "        return int(hashlib.sha1(message).hexdigest(), 16)\n",
    "    \n",
    "    def key_distribution(self):\n",
    "        return self.pub\n",
    "    \n",
    "    def generate_signature(self, message):\n",
    "        \n",
    "        while True:\n",
    "            k = random.randint(1, self.q - 1)\n",
    "            r = pow(self.g, k, self.p) % self.q\n",
    "            if r == 0:\n",
    "                continue\n",
    "                \n",
    "            s = (mod_inverse(k, self.q) * (self.H(message) + self.x * r)) % self.q\n",
    "            if s != 0:\n",
    "                break\n",
    "        return (r, s)\n",
    "    \n",
    "    def verify_signature(self, r, s, message):\n",
    "        if r < 0 or r > self.q:\n",
    "            return False\n",
    "        if s < 0 or s > self.q:\n",
    "            return False\n",
    "        \n",
    "        w = mod_inverse(s, self.q)\n",
    "        u1 = (self.H(message) * w) % self.q\n",
    "        u2 = (r * w) % self.q\n",
    "        \n",
    "        v1 = pow(self.g, u1, self.p)\n",
    "        v2 = pow(self.y, u2, self.p)\n",
    "        \n",
    "        v = ((v1 * v2) % self.p) % self.q\n",
    "        return v == r"
   ]
  },
  {
   "cell_type": "code",
   "execution_count": null,
   "metadata": {},
   "outputs": [],
   "source": [
    "# Filter object is created, iter is used to fetch values and then tuple is accessed\n",
    "modulo_list = [(1024, 160), (2048, 224), (2048, 256), (3072, 256)]    \n",
    "\n",
    "def DSA_parameter_generation(key_length):\n",
    "    N = filter(lambda x:key_length in x, modulo_list).__next__()[1]\n",
    "    q = getPrime(N)\n",
    "    \n",
    "    p = 0\n",
    "    while True:\n",
    "        p = getPrime(key_length)\n",
    "        if (p - 1) % q == 0:\n",
    "            break\n",
    "\n",
    "    g = 1\n",
    "    h = 0\n",
    "    \n",
    "    while True:\n",
    "        h = random.randint(2, p - 2)\n",
    "        g = h**((p - 1) / q)\n",
    "        if g != 1:\n",
    "            break\n",
    "    \n",
    "    return p, q, g\n",
    "\n",
    "# Takes a lot of time\n",
    "# p, q, g = DSA_parameter_generation(1024)\n",
    "# dsa = DSA(p, q, g)"
   ]
  },
  {
   "cell_type": "code",
   "execution_count": null,
   "metadata": {},
   "outputs": [],
   "source": [
    "dsa = DSA()\n",
    "signature = dsa.generate_signature(b\"Hello World!\")\n",
    "assert dsa.verify_signature(signature[0], signature[1], b\"Hello World!\")"
   ]
  },
  {
   "cell_type": "code",
   "execution_count": null,
   "metadata": {},
   "outputs": [],
   "source": [
    "def DSA_x_from_k(k, q, r, s, message_int):\n",
    "    return (((s * k) - message_int) * mod_inverse(r, q)) % q"
   ]
  },
  {
   "cell_type": "code",
   "execution_count": null,
   "metadata": {},
   "outputs": [],
   "source": [
    "def key_recovery_from_nonce(q, r, s, y, message_int):\n",
    "    for k in range(2**16):\n",
    "        x = DSA_x_from_k(k, q, r, s, message_int)\n",
    "        \n",
    "        # given in question, [2:] tp skip the 0x\n",
    "        if hashlib.sha1(hex(x)[2:].encode()).hexdigest() == \"0954edd5e0afe5542a4adf012611a91912a3ec16\":\n",
    "            return x\n",
    "    return 0\n",
    "\n",
    "message = \"For those that envy a MC it can be hazardous to your health\\nSo be friendly, a matter of life and death, just like a etch-a-sketch\\n\"\n",
    "r, s = dsa.generate_signature(message.encode())\n",
    "assert dsa.verify_signature(r, s, message.encode())\n",
    "\n",
    "# parameters given in the quesion\n",
    "# used to verify if our implementation works correctly\n",
    "q = 0xf4f47f05794b256174bba6e9b396a7707e563c5b\n",
    "r = 548099063082341131477253921760299949438196259240\n",
    "s = 857042759984254168557880549501802188789837994940\n",
    "y = int(\"84ad4719d044495496a3201c8ff484feb45b962e7302e56a392aee4abab3e4bdebf2955b4736012f21a0808\"\n",
    "        \"4056b19bcd7fee56048e004e44984e2f411788efdc837a0d2e5abb7b555039fd243ac01f0fb2ed1dec56828\"\n",
    "        \"0ce678e931868d23eb095fde9d3779191b8c0299d6e07bbb283e6633451e535c45513b2d33c99ea17\", 16)\n",
    "\n",
    "key = key_recovery_from_nonce(q, r, s, y, dsa.H(message.encode()))\n",
    "if key != 0:\n",
    "    print(\"> Brute force successful.\\nPrivate key:\", key)"
   ]
  },
  {
   "cell_type": "markdown",
   "metadata": {},
   "source": [
    "### Challenge 44"
   ]
  },
  {
   "cell_type": "code",
   "execution_count": null,
   "metadata": {},
   "outputs": [],
   "source": [
    "import hashlib"
   ]
  },
  {
   "cell_type": "code",
   "execution_count": null,
   "metadata": {},
   "outputs": [],
   "source": [
    "data = open('44.txt', 'r').read()\n",
    "data_list = data.split('\\n')\n",
    "\n",
    "q = 0xf4f47f05794b256174bba6e9b396a7707e563c5b\n",
    "y = int(\"2d026f4bf30195ede3a088da85e398ef869611d0f68f0713d51c9c1a3a26c95105d915e2d8cdf26d056b86b8a7b8\"\n",
    "    \"5519b1c23cc3ecdc6062650462e3063bd179c2a6581519f674a61f1d89a1fff27171ebc1b93d4dc57bceb7ae2430f98a\"\n",
    "    \"6a4d83d8279ee65d71c1203d2c96d65ebbf7cce9d32971c3de5084cce04a2e147821\", 16)\n",
    "\n",
    "target = \"ca8f6f7c66fa362d40760d135b763eb8527d3d52\"\n",
    "\n",
    "message_dicts = []\n",
    "for i in range(0, len(data_list)-4, 4):\n",
    "    message_dicts.append({\"msg\":data_list[i][5:], \"s\":int(data_list[i + 1][3:]), \"r\":int(data_list[i + 2][3:]), \"m\":int(data_list[i + 3][3:], 16)})"
   ]
  },
  {
   "cell_type": "code",
   "execution_count": null,
   "metadata": {},
   "outputs": [],
   "source": [
    "def DSA_x_from_k(k, q, r, s, message_int):\n",
    "    return (((s * k) - message_int) * mod_inverse(r, q)) % q"
   ]
  },
  {
   "cell_type": "code",
   "execution_count": null,
   "metadata": {},
   "outputs": [],
   "source": [
    "def nonce_recovery_from_repeated_nonce():\n",
    "    \n",
    "    # Find two pairs of signatures that used the same k\n",
    "    # This is easy to find, because when the same k is used r will be the same, since r\n",
    "    # depends only on (g, p, q and k), and (g, p, q) are fixed in our implementation.\n",
    "\n",
    "    # find indices of matching r\n",
    "    found = False\n",
    "    r1, s1, s2, m1, m2 = 0, 0, 0, 0, 0\n",
    "    for i in range(len(message_dicts)):\n",
    "        for j in range(len(message_dicts[i:])):\n",
    "            if message_dicts[i][\"r\"] == message_dicts[j][\"r\"]:\n",
    "                m1 = message_dicts[i][\"m\"]\n",
    "                m2 = message_dicts[j][\"m\"]\n",
    "                if m1 == m2:\n",
    "                    continue\n",
    "                found = True\n",
    "                r1 = message_dicts[i][\"r\"]\n",
    "                s1 = message_dicts[i][\"s\"]\n",
    "                s2 = message_dicts[j][\"s\"]                \n",
    "                break\n",
    "        if found:\n",
    "            break\n",
    "    k = (((m1 - m2) % q) * mod_inverse((s1 - s2) % q, q)) % q\n",
    "    return DSA_x_from_k(k, q, r1, s1, m1)"
   ]
  },
  {
   "cell_type": "code",
   "execution_count": null,
   "metadata": {},
   "outputs": [],
   "source": [
    "recovered_x = nonce_recovery_from_repeated_nonce()\n",
    "assert hashlib.sha1(hex(recovered_x)[2:].encode()).hexdigest() == target"
   ]
  },
  {
   "cell_type": "markdown",
   "metadata": {},
   "source": [
    "### Challenge 45"
   ]
  },
  {
   "cell_type": "code",
   "execution_count": null,
   "metadata": {},
   "outputs": [],
   "source": [
    "class DSA_flawed:\n",
    "    # allows r = 0\n",
    "    \"\"\"Implements the DSA public key encryption / decryption.\"\"\"\n",
    "    DEFAULT_P = int(\"800000000000000089e1855218a0e7dac38136ffafa72eda7859f2171e25e65eac698c1702578b07dc2a1076da241c76\"\n",
    "                    \"c62d374d8389ea5aeffd3226a0530cc565f3bf6b50929139ebeac04f48c3c84afb796d61e5a4f9a8fda812ab59494232\"\n",
    "                    \"c7d2b4deb50aa18ee9e132bfa85ac4374d7f9091abc3d015efc871a584471bb1\", 16)\n",
    "    DEFAULT_Q = 0xf4f47f05794b256174bba6e9b396a7707e563c5b\n",
    "    DEFAULT_G = int(\"5958c9d3898b224b12672c0b98e06c60df923cb8bc999d119458fef538b8fa4046c8db53039db620c094c9fa077ef389\"\n",
    "                    \"b5322a559946a71903f990f1f7e0e025e2d7f7cf494aff1a0470f5b64c36b625a097f1651fe775323556fe00b3608c88\"\n",
    "                    \"7892878480e99041be601a62166ca6894bdd41a7054ec89f756ba9fc95302291\", 16)\n",
    "        \n",
    "    def __init__(self, p = DEFAULT_P, q = DEFAULT_Q, g = DEFAULT_G):\n",
    "        self.p = p\n",
    "        self.q = q\n",
    "        self.g = g\n",
    "        self.x, self. y = self._per_user_key()\n",
    "        self.pvt, self.pub = self.x, self.y\n",
    "        \n",
    "    def _per_user_key(self):\n",
    "        x = random.randint(1, self.q - 1)\n",
    "        y = pow(self.g, x, self.p)\n",
    "        return x, y\n",
    "    \n",
    "    def H(self, message):\n",
    "        return int(hashlib.sha1(message).hexdigest(), 16)\n",
    "    \n",
    "    def key_distribution(self):\n",
    "        return self.pub\n",
    "    \n",
    "    def generate_signature(self, message):\n",
    "        \n",
    "        while True:\n",
    "            k = random.randint(1, self.q - 1)\n",
    "            r = pow(self.g, k, self.p) % self.q                \n",
    "            s = (mod_inverse(k, self.q) * (self.H(message) + self.x * r)) % self.q\n",
    "            if s != 0:\n",
    "                break\n",
    "        return (r, s)\n",
    "    \n",
    "    def verify_signature(self, r, s, message):\n",
    "        if r < 0 or r > self.q:\n",
    "            return False\n",
    "        if s < 0 or s > self.q:\n",
    "            return False\n",
    "        \n",
    "        w = mod_inverse(s, self.q)\n",
    "        u1 = (self.H(message) * w) % self.q\n",
    "        u2 = (r * w) % self.q\n",
    "        \n",
    "        v1 = pow(self.g, u1, self.p)\n",
    "        v2 = pow(self.y, u2, self.p)\n",
    "        \n",
    "        v = ((v1 * v2) % self.p) % self.q\n",
    "        return v == r"
   ]
  },
  {
   "cell_type": "code",
   "execution_count": null,
   "metadata": {},
   "outputs": [],
   "source": [
    "dsa = DSA_flawed(g = 0)\n",
    "message = \"Original message\"\n",
    "\n",
    "signature = dsa.generate_signature(message.encode())\n",
    "print(\"> Message:\", message)\n",
    "print(\"> Signature generated for g = 0.\\nr:\", signature[0], \"\\ns:\", signature[1])\n",
    "check = dsa.verify_signature(signature[0], signature[1], message.encode())\n",
    "if check:\n",
    "    print(\"> Signature successfully verified.\")\n",
    "    \n",
    "tampered_message = \"Tampered message!\"\n",
    "print(\"> Trying to verify signature of initial message for message:\", tampered_message)\n",
    "print(\"> Values from previous signature:\\nr:\", signature[0], \"\\ns:\", signature[1])\n",
    "check = dsa.verify_signature(signature[0], signature[1], tampered_message.encode())\n",
    "if check:\n",
    "    print(\"> Signature successfully verified.\")"
   ]
  },
  {
   "cell_type": "code",
   "execution_count": null,
   "metadata": {},
   "outputs": [],
   "source": [
    "def DSA_parameter_tampering():\n",
    "\n",
    "    dsa = DSA_flawed(g = DSA.DEFAULT_P + 1)\n",
    "    message = \"g = (p + 1) DSA\"\n",
    "    signature = dsa.generate_signature(message.encode())\n",
    "    print(\"> Message:\", message)\n",
    "    print(\"> Signature generated for g = (p + 1).\\nr:\", signature[0], \"\\ns:\", signature[1])\n",
    "    check = dsa.verify_signature(signature[0], signature[1], message.encode())\n",
    "    if check:\n",
    "        print(\"> Signature successfully verified for original message.\")\n",
    "    \n",
    "    z = random.randint(1, 100)\n",
    "    y = dsa.key_distribution()\n",
    "    forged_r = pow(y, z, DSA_flawed.DEFAULT_P) % DSA_flawed.DEFAULT_Q\n",
    "    forged_s = (forged_r * mod_inverse(z, dsa.DEFAULT_Q)) % dsa.DEFAULT_Q\n",
    "    \n",
    "    message1 = \"Hello, world\"\n",
    "    message2 = \"Goodbye, world\"\n",
    "    \n",
    "    print(\"> Values from forged signature:\\nr:\", forged_r, \"\\ns:\", forged_s)\n",
    "    \n",
    "    print(\"> Message 1:\", message1)\n",
    "    if dsa.verify_signature(forged_r, forged_s, message1.encode()):\n",
    "        print(\"> Signature successfully verified for message 1.\")\n",
    "    print(\"> Message 2:\", message2)\n",
    "    if dsa.verify_signature(forged_r, forged_s, message2.encode()):\n",
    "        print(\"> Signature successfully verified for message 2.\")"
   ]
  },
  {
   "cell_type": "code",
   "execution_count": null,
   "metadata": {},
   "outputs": [],
   "source": [
    "DSA_parameter_tampering()"
   ]
  },
  {
   "cell_type": "markdown",
   "metadata": {},
   "source": [
    "### Challenge 46"
   ]
  },
  {
   "cell_type": "code",
   "execution_count": null,
   "metadata": {},
   "outputs": [],
   "source": [
    "import math\n",
    "import base64\n",
    "import decimal"
   ]
  },
  {
   "cell_type": "code",
   "execution_count": null,
   "metadata": {},
   "outputs": [],
   "source": [
    "def check_parity(ciphertext_int, rsa):\n",
    "    return rsa.decryptnum(ciphertext_int) & 1"
   ]
  },
  {
   "cell_type": "code",
   "execution_count": null,
   "metadata": {},
   "outputs": [],
   "source": [
    "rsa = RSA(1024)\n",
    "ciphertext = rsa.encrypt(b\"Hello\")\n",
    "ciphertext_int = int.from_bytes(ciphertext, \"big\")\n",
    "print(check_parity(ciphertext_int, rsa))"
   ]
  },
  {
   "cell_type": "code",
   "execution_count": null,
   "metadata": {},
   "outputs": [],
   "source": [
    "def parity_attack(message, rsa):\n",
    "    (_, n) = rsa.pub\n",
    "    ciphertext = rsa.encryptnum(int.from_bytes(message, \"big\"))\n",
    "    \n",
    "    # encrypt multiplier\n",
    "    multiplier = rsa.encryptnum(2)\n",
    "    \n",
    "    # Initialize lower and upper bound.\n",
    "    # I need to use Decimal because it allows me to set the precision for the floating point\n",
    "    # numbers, which we will need when doing the binary search divisions.\n",
    "    lower_bound = decimal.Decimal(0)\n",
    "    upper_bound = decimal.Decimal(n)\n",
    "    \n",
    "    # Compute the number of iterations that we have to do\n",
    "    num_iter = int(math.ceil(math.log(n, 2)))\n",
    "    # Set the precision of the floating point number to be enough\n",
    "    decimal.getcontext().prec = num_iter\n",
    "\n",
    "    for _ in range(num_iter):\n",
    "        ciphertext = (ciphertext * multiplier) % n\n",
    "        \n",
    "        # checking parity\n",
    "        if check_parity(ciphertext, rsa) & 1:\n",
    "            lower_bound = (lower_bound + upper_bound) / 2\n",
    "        else:\n",
    "            upper_bound = (lower_bound + upper_bound) / 2\n",
    "\n",
    "    # Return the binary version of the upper_bound (converted from Decimal to int)\n",
    "    return int(upper_bound).to_bytes((int(upper_bound).bit_length() + 7) // 8, \"big\").decode(\"utf-8\")"
   ]
  },
  {
   "cell_type": "code",
   "execution_count": null,
   "metadata": {},
   "outputs": [],
   "source": [
    "given_string = \"VGhhdCdzIHdoeSBJIGZvdW5kIHlvdSBkb24ndCBwbGF5IGFyb3VuZCB3aXRoIHRoZSBGdW5reSBDb2xkIE1lZGluYQ==\"\n",
    "byte_string = base64.b64decode(given_string)\n",
    "plaintext = parity_attack(byte_string, RSA(1024))"
   ]
  },
  {
   "cell_type": "code",
   "execution_count": null,
   "metadata": {},
   "outputs": [],
   "source": [
    "assert plaintext == byte_string.decode(\"utf-8\")"
   ]
  },
  {
   "cell_type": "markdown",
   "metadata": {},
   "source": [
    "### Challenge 47"
   ]
  },
  {
   "cell_type": "code",
   "execution_count": null,
   "metadata": {},
   "outputs": [],
   "source": [
    "import os\n",
    "import random"
   ]
  },
  {
   "cell_type": "code",
   "execution_count": null,
   "metadata": {},
   "outputs": [],
   "source": [
    "class RSA_PKCS1_Oracle(RSA):\n",
    "    \"\"\"Extends the RSA class by making the decryption PKCS 1.5 compliant and by adding a method\n",
    "    to verify the padding of data.\"\"\"\n",
    "    \n",
    "    def PKCS1_Pad(self, message):\n",
    "        \"\"\"Pads the given binary data conforming to the PKCS 1.5 format.\"\"\"\n",
    "        (e, n) = self.pub\n",
    "        byte_length = (n.bit_length() + 7) // 8\n",
    "        padding_string = os.getrandom(byte_length - 3 - len(message))\n",
    "        return b\"\\x00\\x02\" + padding_string + b'\\x00' + message\n",
    "  \n",
    "    def PKCS1_check_padding(self, ciphertext):\n",
    "        \"\"\"Decrypts the input data and returns whether its padding is correct according to PKCS 1.5.\"\"\"\n",
    "        _, n = self.pub\n",
    "        k = (n.bit_length() + 7) // 8\n",
    "        pbytes = self.decrypt(ciphertext)\n",
    "        pbytes = (b'\\x00' * (k - len(pbytes))) + pbytes\n",
    "        return pbytes[0:2] == b'\\x00\\x02'"
   ]
  },
  {
   "cell_type": "code",
   "execution_count": null,
   "metadata": {},
   "outputs": [],
   "source": [
    "def append_interval(M_narrow, lower_bound, upper_bound):\n",
    "    # Check if there exist an interval which is overlapping with the lower_bound and\n",
    "    # upper_bound of the new interval we want to append\n",
    "    for i, (a, b) in enumerate(M_narrow):\n",
    "\n",
    "        # If there is an overlap, then replace the boundaries of the overlapping\n",
    "        # interval with the wider (or equal) boundaries of the new merged interval\n",
    "        if not (b < lower_bound or a > upper_bound):\n",
    "            new_a = min(lower_bound, a)\n",
    "            new_b = max(upper_bound, b)\n",
    "            M_narrow[i] = new_a, new_b\n",
    "            return\n",
    "\n",
    "    # If there was no interval overlapping with the one we want to add, add\n",
    "    # the new interval as a standalone interval to the list\n",
    "    M_narrow.append((lower_bound, upper_bound))\n",
    "    return\n",
    "\n",
    "def ceil(a, b):\n",
    "    return (a + b - 1) // b\n",
    "\n",
    "def padding_oracle_attack(ciphertext, rsa):\n",
    "    \n",
    "    # Setting initial values\n",
    "    \n",
    "    (e, n) = rsa.pub\n",
    "    k = (n.bit_length() + 7) // 8 # byte length\n",
    "    B = 2**(8 * (k - 2))\n",
    "    M = [(2 * B, 3 * B - 1)]\n",
    "    i = 1\n",
    "    \n",
    "    if not rsa.PKCS1_check_padding(ciphertext):\n",
    "        #Step 1 Blinding\n",
    "        while True:\n",
    "            s = random.randint(0, n - 1)\n",
    "            c0 = (ciphertext * pow(s, e, n)) % n\n",
    "            if rsa.PKCS1_check_padding(c0):\n",
    "                break\n",
    "\n",
    "    else:\n",
    "        c0 = ciphertext\n",
    "        \n",
    "    # Step 2 Searching for PKCS conforming messages\n",
    "    while True:\n",
    "        # 2a\n",
    "        if i == 1:\n",
    "            s = (n + 3 * B - 1) // (3 * B)\n",
    "            while True:\n",
    "                c = (c0 * pow(s, e, n)) % n\n",
    "                if rsa.PKCS1_check_padding(c):\n",
    "                    break\n",
    "                s += 1\n",
    "        \n",
    "        #2c\n",
    "        # Step 2.c: Searching with one interval left\n",
    "        elif len(M) == 1:\n",
    "            a, b = M[0]\n",
    "\n",
    "            # Check if the interval contains the solution\n",
    "            if a == b:\n",
    "\n",
    "                # And if it does, return it as bytes\n",
    "                return b'\\x00' + (a).to_bytes((a.bit_length() +7) // 8, \"big\")\n",
    "\n",
    "            r = ceil(2 * (b * s - 2 * B), n)\n",
    "            s = ceil(2 * B + r * n, b)\n",
    "\n",
    "            while True:\n",
    "                c = (c0 * pow(s, e, n)) % n\n",
    "                if rsa.PKCS1_check_padding(c):\n",
    "                    break\n",
    "\n",
    "                s += 1\n",
    "                if s > (3 * B + r * n) // a:\n",
    "                    r += 1\n",
    "                    s = ceil((2 * B + r * n), b)\n",
    "\n",
    "        # Step 3: Narrowing the set of solutions\n",
    "        M_new = []\n",
    "\n",
    "        for a, b in M:\n",
    "            min_r = ceil(a * s - 3 * B + 1, n)\n",
    "            max_r = (b * s - 2 * B) // n\n",
    "\n",
    "            for r in range(min_r, max_r + 1):\n",
    "                l = max(a, ceil(2 * B + r * n, s))\n",
    "                u = min(b, (3 * B - 1 + r * n) // s)\n",
    "\n",
    "                if l > u:\n",
    "                    raise Exception('Unexpected error: l > u in step 3')\n",
    "\n",
    "                append_interval(M_new, l, u)\n",
    "\n",
    "        if len(M_new) == 0:\n",
    "            raise Exception('Unexpected error: there are 0 intervals.')\n",
    "\n",
    "        M = M_new\n",
    "        i += 1"
   ]
  },
  {
   "cell_type": "code",
   "execution_count": null,
   "metadata": {},
   "outputs": [],
   "source": [
    "rsa = RSA_PKCS1_Oracle(256)\n",
    "message = \"kick it, CC\"\n",
    "m = rsa.PKCS1_Pad(message.encode())\n",
    "\n",
    "c = rsa.encrypt(m)\n",
    "assert rsa.PKCS1_check_padding(c)\n",
    "print(\"> Ciphertext padding verified.\")"
   ]
  },
  {
   "cell_type": "code",
   "execution_count": null,
   "metadata": {},
   "outputs": [],
   "source": [
    "recovered_plaintext = padding_oracle_attack(c, rsa)\n",
    "assert recovered_plaintext == m"
   ]
  },
  {
   "cell_type": "markdown",
   "metadata": {},
   "source": [
    "### Challenge 48"
   ]
  },
  {
   "cell_type": "code",
   "execution_count": null,
   "metadata": {},
   "outputs": [],
   "source": [
    "import os\n",
    "import random"
   ]
  },
  {
   "cell_type": "code",
   "execution_count": null,
   "metadata": {},
   "outputs": [],
   "source": [
    "class RSA_PKCS1_Oracle(RSA):\n",
    "    \"\"\"Extends the RSA class by making the decryption PKCS 1.5 compliant and by adding a method\n",
    "    to verify the padding of data.\"\"\"\n",
    "    \n",
    "    def PKCS1_Pad(self, message):\n",
    "        \"\"\"Pads the given binary data conforming to the PKCS 1.5 format.\"\"\"\n",
    "        (e, n) = self.pub\n",
    "        byte_length = (n.bit_length() + 7) // 8\n",
    "        padding_string = os.getrandom(byte_length - 3 - len(message))\n",
    "        return b\"\\x00\\x02\" + padding_string + b'\\x00' + message\n",
    "  \n",
    "    def PKCS1_check_padding(self, ciphertext):\n",
    "        \"\"\"Decrypts the input data and returns whether its padding is correct according to PKCS 1.5.\"\"\"\n",
    "        _, n = self.pub\n",
    "        k = (n.bit_length() + 7) // 8\n",
    "        pbytes = self.decrypt(ciphertext)\n",
    "        pbytes = (b'\\x00' * (k - len(pbytes))) + pbytes\n",
    "        return pbytes[0:2] == b'\\x00\\x02'"
   ]
  },
  {
   "cell_type": "code",
   "execution_count": null,
   "metadata": {},
   "outputs": [],
   "source": [
    "def append_interval(M_narrow, lower_bound, upper_bound):\n",
    "    # Check if there exist an interval which is overlapping with the lower_bound and\n",
    "    # upper_bound of the new interval we want to append\n",
    "    for i, (a, b) in enumerate(M_narrow):\n",
    "\n",
    "        # If there is an overlap, then replace the boundaries of the overlapping\n",
    "        # interval with the wider (or equal) boundaries of the new merged interval\n",
    "        if not (b < lower_bound or a > upper_bound):\n",
    "            new_a = min(lower_bound, a)\n",
    "            new_b = max(upper_bound, b)\n",
    "            M_narrow[i] = new_a, new_b\n",
    "            return\n",
    "\n",
    "    # If there was no interval overlapping with the one we want to add, add\n",
    "    # the new interval as a standalone interval to the list\n",
    "    M_narrow.append((lower_bound, upper_bound))\n",
    "    return\n",
    "\n",
    "def ceil(a, b):\n",
    "    return (a + b - 1) // b\n",
    "\n",
    "def padding_oracle_attack(ciphertext, rsa):\n",
    "    \n",
    "    # Setting initial values\n",
    "    \n",
    "    (e, n) = rsa.pub\n",
    "    k = (n.bit_length() + 7) // 8 # byte length\n",
    "    B = 2**(8 * (k - 2))\n",
    "    M = [(2 * B, 3 * B - 1)]\n",
    "    i = 1\n",
    "    \n",
    "    if not rsa.PKCS1_check_padding(ciphertext):\n",
    "        #Step 1 Blinding\n",
    "        while True:\n",
    "            s = random.randint(0, n - 1)\n",
    "            c0 = (ciphertext * pow(s, e, n)) % n\n",
    "            if rsa.PKCS1_check_padding(c0):\n",
    "                break\n",
    "\n",
    "    else:\n",
    "        c0 = ciphertext\n",
    "        \n",
    "    # Step 2 Searching for PKCS conforming messages\n",
    "    while True:\n",
    "        # 2a\n",
    "        if i == 1:\n",
    "            s = (n + 3 * B - 1) // (3 * B)\n",
    "            while True:\n",
    "                c = (c0 * pow(s, e, n)) % n\n",
    "                if rsa.PKCS1_check_padding(c):\n",
    "                    break\n",
    "                s += 1\n",
    "\n",
    "        #2b\n",
    "        elif len(M) >= 2:\n",
    "            while True:\n",
    "                s += 1\n",
    "                c = (c0 * pow(s, e, n)) % n\n",
    "                if rsa.PKCS1_check_padding(c):\n",
    "                    break\n",
    "        \n",
    "        #2c\n",
    "        # Step 2.c: Searching with one interval left\n",
    "        elif len(M) == 1:\n",
    "            a, b = M[0]\n",
    "\n",
    "            # Check if the interval contains the solution\n",
    "            if a == b:\n",
    "\n",
    "                # And if it does, return it as bytes\n",
    "                return b'\\x00' + (a).to_bytes((a.bit_length() +7) // 8, \"big\")\n",
    "\n",
    "            r = ceil(2 * (b * s - 2 * B), n)\n",
    "            s = ceil(2 * B + r * n, b)\n",
    "\n",
    "            while True:\n",
    "                c = (c0 * pow(s, e, n)) % n\n",
    "                if rsa.PKCS1_check_padding(c):\n",
    "                    break\n",
    "\n",
    "                s += 1\n",
    "                if s > (3 * B + r * n) // a:\n",
    "                    r += 1\n",
    "                    s = ceil((2 * B + r * n), b)\n",
    "\n",
    "        # Step 3: Narrowing the set of solutions\n",
    "        M_new = []\n",
    "\n",
    "        for a, b in M:\n",
    "            min_r = ceil(a * s - 3 * B + 1, n)\n",
    "            max_r = (b * s - 2 * B) // n\n",
    "\n",
    "            for r in range(min_r, max_r + 1):\n",
    "                l = max(a, ceil(2 * B + r * n, s))\n",
    "                u = min(b, (3 * B - 1 + r * n) // s)\n",
    "\n",
    "                if l > u:\n",
    "                    raise Exception('Unexpected error: l > u in step 3')\n",
    "\n",
    "                append_interval(M_new, l, u)\n",
    "\n",
    "        if len(M_new) == 0:\n",
    "            raise Exception('Unexpected error: there are 0 intervals.')\n",
    "\n",
    "        M = M_new\n",
    "        i += 1"
   ]
  },
  {
   "cell_type": "code",
   "execution_count": null,
   "metadata": {},
   "outputs": [],
   "source": [
    "rsa = RSA_PKCS1_Oracle(768)\n",
    "message = \"kick it, CC\"\n",
    "m = rsa.PKCS1_Pad(message.encode())\n",
    "\n",
    "c = rsa.encrypt(m)\n",
    "assert rsa.PKCS1_check_padding(c)\n",
    "print(\"> Ciphertext padding verified.\")"
   ]
  },
  {
   "cell_type": "code",
   "execution_count": null,
   "metadata": {},
   "outputs": [],
   "source": [
    "recovered_plaintext = padding_oracle_attack(c, rsa)\n",
    "assert recovered_plaintext == m"
   ]
  }
 ],
 "metadata": {
  "kernelspec": {
   "display_name": "Python 3",
   "language": "python",
   "name": "python3"
  },
  "language_info": {
   "codemirror_mode": {
    "name": "ipython",
    "version": 3
   },
   "file_extension": ".py",
   "mimetype": "text/x-python",
   "name": "python",
   "nbconvert_exporter": "python",
   "pygments_lexer": "ipython3",
   "version": "3.8.1"
  }
 },
 "nbformat": 4,
 "nbformat_minor": 2
}
