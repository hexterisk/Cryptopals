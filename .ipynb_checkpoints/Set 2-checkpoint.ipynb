{
 "cells": [
  {
   "cell_type": "code",
   "execution_count": 1,
   "metadata": {},
   "outputs": [],
   "source": [
    "from lib import *"
   ]
  },
  {
   "cell_type": "markdown",
   "metadata": {},
   "source": [
    "# Challenge 9: Implement PKCS#7 padding\n",
    "[Link](https://cryptopals.com/sets/2/challenges/9)"
   ]
  },
  {
   "cell_type": "markdown",
   "metadata": {},
   "source": [
    "> A block cipher transforms a fixed-sized block (usually 8 or 16 bytes) of plaintext into ciphertext. But we almost never want to transform a single block; we encrypt irregularly-sized messages.  \n",
    "One way we account for irregularly-sized messages is by padding, creating a plaintext that is an even multiple of the blocksize. The most popular padding scheme is called PKCS#7.  \n",
    "So: pad any block to a specific block length, by appending the number of bytes of padding to the end of the block. For instance,  \n",
    "**\"YELLOW SUBMARINE\"**  \n",
    "... padded to 20 bytes would be:  \n",
    "**\"YELLOW SUBMARINE\\x04\\x04\\x04\\x04\"**"
   ]
  },
  {
   "cell_type": "markdown",
   "metadata": {},
   "source": [
    "Since the plaintext length is short of the block size by 4 bytes, it is padded by 4 '\\x04' bytes."
   ]
  },
  {
   "cell_type": "code",
   "execution_count": 2,
   "metadata": {},
   "outputs": [],
   "source": [
    "# Given\n",
    "plaintext = \"YELLOW SUBMARINE\"\n",
    "target_bytes = b\"YELLOW SUBMARINE\\x04\\x04\\x04\\x04\"\n",
    "block_size = 20"
   ]
  },
  {
   "cell_type": "code",
   "execution_count": 3,
   "metadata": {},
   "outputs": [],
   "source": [
    "def PKCS7_pad(plaintext: bytes, block_size: int) -> bytes:\n",
    "    \"\"\"\n",
    "    Pad the given text upto the length of given block_size following PKCS7 norms.\n",
    "    \"\"\"\n",
    "    if len(plaintext) == block_size:\n",
    "        return plaintext\n",
    "    pad = block_size - len(plaintext) % block_size\n",
    "    plaintext += (pad.to_bytes(1,\"big\"))*pad\n",
    "    return plaintext"
   ]
  },
  {
   "cell_type": "code",
   "execution_count": 4,
   "metadata": {},
   "outputs": [
    {
     "data": {
      "text/html": [
       "<div style=\"border:1px solid #c3e6cb;padding:.75rem 3rem;border-radius:.5rem;font-weight:bold;text-align: center;background-color:#d4edda;color:#155724;border-color:#c3e6cb;\">Completed</div>"
      ],
      "text/plain": [
       "<IPython.core.display.HTML object>"
      ]
     },
     "metadata": {},
     "output_type": "display_data"
    }
   ],
   "source": [
    "test(PKCS7_pad(plaintext.encode(), block_size) == target_bytes)"
   ]
  },
  {
   "cell_type": "markdown",
   "metadata": {},
   "source": [
    "# Challenge 10: Implement CBC mode\n",
    "[Link](https://cryptopals.com/sets/2/challenges/10)"
   ]
  },
  {
   "cell_type": "markdown",
   "metadata": {},
   "source": [
    " > CBC mode is a block cipher mode that allows us to encrypt irregularly-sized messages, despite the fact that a block cipher natively only transforms individual blocks.  \n",
    "In CBC mode, each ciphertext block is added to the next plaintext block before the next call to the cipher core.  \n",
    "The first plaintext block, which has no associated previous ciphertext block, is added to a \"fake 0th ciphertext block\" called the initialization vector, or IV.  \n",
    "Implement CBC mode by hand by taking the ECB function you wrote earlier, making it encrypt instead of decrypt (verify this by decrypting whatever you encrypt to test), and using your XOR function from the previous exercise to combine them.  \n",
    "[The file here](https://cryptopals.com/static/challenge-data/10.txt) is intelligible (somewhat) when CBC decrypted against \"YELLOW SUBMARINE\" with an IV of all ASCII 0 (\\x00\\x00\\x00 &c)  \n",
    "Don't cheat.  "
   ]
  },
  {
   "cell_type": "code",
   "execution_count": 5,
   "metadata": {},
   "outputs": [],
   "source": [
    "# Imports\n",
    "import base64\n",
    "from Crypto.Cipher import AES"
   ]
  },
  {
   "cell_type": "code",
   "execution_count": 6,
   "metadata": {},
   "outputs": [],
   "source": [
    "# Given\n",
    "inf = open(\"10.txt\", \"r\")\n",
    "b64_data = inf.readlines()\n",
    "\n",
    "key = b\"YELLOW SUBMARINE\""
   ]
  },
  {
   "cell_type": "markdown",
   "metadata": {},
   "source": [
    "Since it's a block cipher, chances are that the original plaintext message was padded. Therefore, we write an unpad function(and consequently a helper function to check if padding exists), to format the resulting deciphered text accordingly."
   ]
  },
  {
   "cell_type": "code",
   "execution_count": 7,
   "metadata": {},
   "outputs": [],
   "source": [
    "def PKCS7_padded(text: bytes) -> bool:\n",
    "    \"\"\"\n",
    "    Checks if the given text is padded according to the PKCS7 norms.\n",
    "    \"\"\"\n",
    "    padding = text[-text[-1]:]\n",
    "    \n",
    "    # Check that all the bytes in the range indicated by the padding are equal to the padding value itself.\n",
    "    return all(padding[b] == len(padding) for b in range(0, len(padding)))"
   ]
  },
  {
   "cell_type": "code",
   "execution_count": 8,
   "metadata": {},
   "outputs": [],
   "source": [
    "def PKCS7_unpad(paddedtext: bytes) -> bytes:\n",
    "    \"\"\"\n",
    "    Unpads the given text if it's padded according to PKCS7 norms.\n",
    "    \"\"\"\n",
    "    \n",
    "    # Checks if the text is padded according to PKCS7 norms.\n",
    "    if PKCS7_padded(paddedtext):\n",
    "        # The last byte is a padding byte.\n",
    "        pad_Length = paddedtext[len(paddedtext)-1]\n",
    "        # Returns the text uptil last \"pad\" length bytes since pad byte value is the same as number of pad bytes required.\n",
    "        return paddedtext[:-pad_Length]\n",
    "    else:\n",
    "        return paddedtext"
   ]
  },
  {
   "cell_type": "code",
   "execution_count": 9,
   "metadata": {},
   "outputs": [],
   "source": [
    "def AES_CBC_decrypt(ciphertext: bytes, IV: bytes, key: bytes) -> bytes:\n",
    "    \"\"\"\n",
    "    Decrypts a ciphertext encrypted with AES CBC Mode.\n",
    "    AES ECB is the block cipher encryption of choice.\n",
    "    Refer https://en.wikipedia.org/wiki/Block_cipher_mode_of_operation#Cipher_block_chaining_(CBC) for the formulae.\n",
    "    \"\"\"\n",
    "    previous = IV\n",
    "    keysize = len(key)\n",
    "    plaintext = b\"\"\n",
    "    cipher = \"\"\n",
    "    \n",
    "    for i in range(0, len(ciphertext), keysize):\n",
    "        cipher = AES_ECB_decrypt(ciphertext[i:i+keysize], key)\n",
    "        xor_list = [chr(b1 ^ b2) for b1, b2 in zip(cipher, previous)]\n",
    "        plaintext += \"\".join(xor_list).encode()\n",
    "        previous = ciphertext[i:i+keysize]\n",
    "        \n",
    "    return plaintext"
   ]
  },
  {
   "cell_type": "markdown",
   "metadata": {},
   "source": [
    "We decrypt the message via our decryption function and run the deciphered text through the unpad function, just in case."
   ]
  },
  {
   "cell_type": "code",
   "execution_count": 10,
   "metadata": {},
   "outputs": [
    {
     "name": "stdout",
     "output_type": "stream",
     "text": [
      "I'm back and I'm ringin' the bell \n",
      "A rockin' on the mike while the fly girls yell \n",
      "In ecstasy in the back of me \n",
      "Well that's my DJ Deshay cuttin' all them Z's \n",
      "Hittin' hard and the girlies goin' crazy \n",
      "Vanilla's on the mike, man I'm not lazy. \n",
      "\n",
      "I'm lettin' my drug kick in \n",
      "It controls my mouth and I begin \n",
      "To just let it flow, let my concepts go \n",
      "My posse's to the side yellin', Go Vanilla Go! \n",
      "\n",
      "Smooth 'cause that's the way I will be \n",
      "And if you don't give a damn, then \n",
      "Why you starin' at me \n",
      "So get off 'cause I control the stage \n",
      "There's no dissin' allowed \n",
      "I'm in my own phase \n",
      "The girlies sa y they love me and that is ok \n",
      "And I can dance better than any kid n' play \n",
      "\n",
      "Stage 2 -- Yea the one ya' wanna listen to \n",
      "It's off my head so let the beat play through \n",
      "So I can funk it up and make it sound good \n",
      "1-2-3 Yo -- Knock on some wood \n",
      "For good luck, I like my rhymes atrocious \n",
      "Supercalafragilisticexpialidocious \n",
      "I'm an effect and that you can bet \n",
      "I can take a fly girl and make her wet. \n",
      "\n",
      "I'm like Samson -- Samson to Delilah \n",
      "There's no denyin', You can try to hang \n",
      "But you'll keep tryin' to get my style \n",
      "Over and over, practice makes perfect \n",
      "But not if you're a loafer. \n",
      "\n",
      "You'll get nowhere, no place, no time, no girls \n",
      "Soon -- Oh my God, homebody, you probably eat \n",
      "Spaghetti with a spoon! Come on and say it! \n",
      "\n",
      "VIP. Vanilla Ice yep, yep, I'm comin' hard like a rhino \n",
      "Intoxicating so you stagger like a wino \n",
      "So punks stop trying and girl stop cryin' \n",
      "Vanilla Ice is sellin' and you people are buyin' \n",
      "'Cause why the freaks are jockin' like Crazy Glue \n",
      "Movin' and groovin' trying to sing along \n",
      "All through the ghetto groovin' this here song \n",
      "Now you're amazed by the VIP posse. \n",
      "\n",
      "Steppin' so hard like a German Nazi \n",
      "Startled by the bases hittin' ground \n",
      "There's no trippin' on mine, I'm just gettin' down \n",
      "Sparkamatic, I'm hangin' tight like a fanatic \n",
      "You trapped me once and I thought that \n",
      "You might have it \n",
      "So step down and lend me your ear \n",
      "'89 in my time! You, '90 is my year. \n",
      "\n",
      "You're weakenin' fast, YO! and I can tell it \n",
      "Your body's gettin' hot, so, so I can smell it \n",
      "So don't be mad and don't be sad \n",
      "'Cause the lyrics belong to ICE, You can call me Dad \n",
      "You're pitchin' a fit, so step back and endure \n",
      "Let the witch doctor, Ice, do the dance to cure \n",
      "So come up close and don't be square \n",
      "You wanna battle me -- Anytime, anywhere \n",
      "\n",
      "You thought that I was weak, Boy, you're dead wrong \n",
      "So come on, everybody and sing this song \n",
      "\n",
      "Say -- Play that funky music Say, go white boy, go white boy go \n",
      "play that funky music Go white boy, go white boy, go \n",
      "Lay down and boogie and play that funky music till you die. \n",
      "\n",
      "Play that funky music Come on, Come on, let me hear \n",
      "Play that funky music white boy you say it, say it \n",
      "Play that funky music A little louder now \n",
      "Play that funky music, white boy Come on, Come on, Come on \n",
      "Play that funky music \n"
     ]
    }
   ],
   "source": [
    "byte_string = b\"\".join([base64.b64decode(line.strip()) for line in b64_data])\n",
    "\n",
    "text = PKCS7_unpad(AES_CBC_decrypt(byte_string, b'\\x00'*AES.block_size, key))\n",
    "print(text.decode(\"utf-8\").strip('\\n'))"
   ]
  },
  {
   "cell_type": "code",
   "execution_count": 11,
   "metadata": {},
   "outputs": [
    {
     "data": {
      "text/html": [
       "<div style=\"border:1px solid #c3e6cb;padding:.75rem 3rem;border-radius:.5rem;font-weight:bold;text-align: center;background-color:#d4edda;color:#155724;border-color:#c3e6cb;\">Completed</div>"
      ],
      "text/plain": [
       "<IPython.core.display.HTML object>"
      ]
     },
     "metadata": {},
     "output_type": "display_data"
    }
   ],
   "source": [
    "test(True)"
   ]
  },
  {
   "cell_type": "markdown",
   "metadata": {},
   "source": [
    "# Challenge 11: An ECB/CBC detection oracle\n",
    "[Link](https://cryptopals.com/sets/2/challenges/11)"
   ]
  },
  {
   "cell_type": "markdown",
   "metadata": {},
   "source": [
    "> Now that you have ECB and CBC working:  \n",
    "Write a function to generate a random AES key; that's just 16 random bytes.  \n",
    "Write a function that encrypts data under an unknown key --- that is, a function that generates a random key and encrypts under it.  \n",
    "The function should look like:  \n",
    "**encryption_oracle(your-input)  \n",
    "=> [MEANINGLESS JIBBER JABBER]**  \n",
    "Under the hood, have the function append 5-10 bytes (count chosen randomly) before the plaintext and 5-10 bytes after the plaintext.  \n",
    "Now, have the function choose to encrypt under ECB 1/2 the time, and under CBC the other half (just use random IVs each time for CBC).   Use rand(2) to decide which to use.\n",
    "Detect the block cipher mode the function is using each time. You should end up with a piece of code that, pointed at a block box that might be encrypting ECB or CBC, tells you which one is happening."
   ]
  },
  {
   "cell_type": "code",
   "execution_count": 12,
   "metadata": {},
   "outputs": [],
   "source": [
    "# Imports\n",
    "import os\n",
    "import random\n",
    "from Crypto.Cipher import AES"
   ]
  },
  {
   "cell_type": "markdown",
   "metadata": {},
   "source": [
    "The AES ECB Mode encryption function pads the plaintext message before encrypting it so as to make the plaintext length a multiple of block size, since it's a block mode cipher."
   ]
  },
  {
   "cell_type": "code",
   "execution_count": 13,
   "metadata": {},
   "outputs": [],
   "source": [
    "def AES_ECB_encrypt(plaintext: bytes, key: bytes) -> bytes:\n",
    "    \"\"\"\n",
    "    Encrypts a plaintext with AES ECB Mode.\n",
    "    \"\"\"\n",
    "    cipher = AES.new(key, AES.MODE_ECB)\n",
    "    text = PKCS7_pad(plaintext, len(key))\n",
    "    return cipher.encrypt(PKCS7_pad(text, len(key)))"
   ]
  },
  {
   "cell_type": "code",
   "execution_count": 14,
   "metadata": {},
   "outputs": [],
   "source": [
    "def AES_CBC_encrypt(plaintext: bytes, IV: bytes, key: bytes) -> bytes:\n",
    "    \"\"\"\n",
    "    Encrypts a plaintext with AES CBC Mode.\n",
    "    AES ECB is the block cipher encryption of choice.\n",
    "    Refer https://en.wikipedia.org/wiki/Block_cipher_mode_of_operation#Cipher_block_chaining_(CBC) for the formulae.\n",
    "    \"\"\"\n",
    "    previous = IV\n",
    "    keysize = len(key)\n",
    "    ciphertext = b\"\"\n",
    "    xored = b\"\"\n",
    "    \n",
    "    for i in range(0, len(plaintext), keysize):\n",
    "        xor_list = [(b1 ^ b2).to_bytes(1, \"big\") for b1, b2 in zip(PKCS7_pad(plaintext[i:i+keysize], keysize), previous)]\n",
    "        xored = b\"\".join(xor_list)\n",
    "        cipher = AES_ECB_encrypt(xored, key)\n",
    "        ciphertext += cipher\n",
    "        previous = cipher\n",
    "        \n",
    "    return ciphertext"
   ]
  },
  {
   "cell_type": "code",
   "execution_count": 15,
   "metadata": {},
   "outputs": [
    {
     "name": "stdout",
     "output_type": "stream",
     "text": [
      "Encrypting using AES ECB Encryption.\n",
      "Ciphertext is AES ECB encrypted.\n"
     ]
    }
   ],
   "source": [
    "key = os.urandom(16)\n",
    "\n",
    "# Enter a repeating text.\n",
    "text = open(\"8.txt\").read()\n",
    "\n",
    "# Prepend and append random bytes to the text    \n",
    "plaintext = os.urandom(random.randint(5,11))\n",
    "plaintext += text.encode()\n",
    "plaintext += os.urandom(random.randint(5,11))\n",
    "\n",
    "flag = random.randint(0,1)\n",
    "if flag == 1:\n",
    "    print(\"Encrypting using AES ECB Encryption.\")\n",
    "    ciphertext = AES_ECB_encrypt(plaintext, key)\n",
    "else:\n",
    "    print(\"Encrypting using AES CBC Encryption.\")\n",
    "    ciphertext = AES_CBC_encrypt(plaintext, os.urandom(AES.block_size), key)\n",
    "    \n",
    "if detect_AES_ECB(ciphertext):\n",
    "    print(\"Ciphertext is AES ECB encrypted.\")\n",
    "else:\n",
    "    print(\"Ciphertext is AES CBC encrypted.\")"
   ]
  },
  {
   "cell_type": "code",
   "execution_count": 16,
   "metadata": {},
   "outputs": [
    {
     "data": {
      "text/html": [
       "<div style=\"border:1px solid #c3e6cb;padding:.75rem 3rem;border-radius:.5rem;font-weight:bold;text-align: center;background-color:#d4edda;color:#155724;border-color:#c3e6cb;\">Completed</div>"
      ],
      "text/plain": [
       "<IPython.core.display.HTML object>"
      ]
     },
     "metadata": {},
     "output_type": "display_data"
    }
   ],
   "source": [
    "test(True)"
   ]
  },
  {
   "cell_type": "markdown",
   "metadata": {},
   "source": [
    "# Challenge 12: Byte-at-a-time ECB decryption (Simple)\n",
    "[Link](https://cryptopals.com/sets/2/challenges/12)"
   ]
  },
  {
   "cell_type": "markdown",
   "metadata": {},
   "source": [
    "> Copy your oracle function to a new function that encrypts buffers under ECB mode using a consistent but unknown key (for instance, assign a single random key, once, to a global variable).  \n",
    "Now take that same function and have it append to the plaintext, BEFORE ENCRYPTING, the following string:  \n",
    "**Um9sbGluJyBpbiBteSA1LjAKV2l0aCBteSByYWctdG9wIGRvd24gc28gbXkg  \n",
    "aGFpciBjYW4gYmxvdwpUaGUgZ2lybGllcyBvbiBzdGFuZGJ5IHdhdmluZyBq  \n",
    "dXN0IHRvIHNheSBoaQpEaWQgeW91IHN0b3A/IE5vLCBJIGp1c3QgZHJvdmUg  \n",
    "YnkK**  \n",
    "Base64 decode the string before appending it.   \n",
    "Do not base64 decode the string by hand; make your code do it. The point is that you don't know its contents.  \n",
    "What you have now is a function that produces:  \n",
    "**AES-128-ECB(your-string || unknown-string, random-key)**  \n",
    "It turns out: you can decrypt \"unknown-string\" with repeated calls to the oracle function!  \n",
    "Here's roughly how:  \n",
    "1. Feed identical bytes of your-string to the function 1 at a time --- start with 1 byte (\"A\"), then \"AA\", then \"AAA\" and so on. Discover the block size of the cipher. You know it, but do this step anyway.\n",
    "2. Detect that the function is using ECB. You already know, but do this step anyways.\n",
    "3. Knowing the block size, craft an input block that is exactly 1 byte short (for instance, if the block size is 8 bytes, make \"AAAAAAA\"). Think about what the oracle function is going to put in that last byte position.\n",
    "4. Make a dictionary of every possible last byte by feeding different strings to the oracle; for instance, \"AAAAAAAA\", \"AAAAAAAB\", \"AAAAAAAC\", remembering the first block of each invocation.\n",
    "5. Match the output of the one-byte-short input to one of the entries in your dictionary. You've now discovered the first byte of unknown-string.\n",
    "6. Repeat for the next byte."
   ]
  },
  {
   "cell_type": "code",
   "execution_count": 17,
   "metadata": {},
   "outputs": [],
   "source": [
    "# Imports\n",
    "import os\n",
    "import base64\n",
    "import random\n",
    "from Crypto.Cipher import AES"
   ]
  },
  {
   "cell_type": "code",
   "execution_count": 18,
   "metadata": {},
   "outputs": [],
   "source": [
    "# Given\n",
    "b64_string = \"Um9sbGluJyBpbiBteSA1LjAKV2l0aCBteSByYWctdG9wIGRvd24gc28gbXkgaGFpciBjYW4gYmxvdwpUaGUgZ2lybGllcyBvbiBzdGFuZGJ5IHdhdmluZyBqdXN0IHRvIHNheSBoaQpEaWQgeW91IHN0b3A/IE5vLCBJIGp1c3QgZHJvdmUgYnkK\""
   ]
  },
  {
   "cell_type": "code",
   "execution_count": 19,
   "metadata": {},
   "outputs": [],
   "source": [
    "# Generating a pseudo random key, to be run only once.\n",
    "random_key = os.urandom(16)"
   ]
  },
  {
   "cell_type": "markdown",
   "metadata": {},
   "source": [
    "The oracle as defined by the question."
   ]
  },
  {
   "cell_type": "code",
   "execution_count": 20,
   "metadata": {},
   "outputs": [],
   "source": [
    "def AES128(text: bytes) -> bytes:\n",
    "    \"\"\"\n",
    "    Oracle function to return ciphertext for secret string appended to plaintext.\n",
    "    \"\"\"\n",
    "    global b64_string\n",
    "    global random_key\n",
    "    secret_string = base64.b64decode(b64_string)\n",
    "    plaintext = text + secret_string\n",
    "    cipher = AES_ECB_encrypt(plaintext, random_key)\n",
    "    return cipher"
   ]
  },
  {
   "cell_type": "code",
   "execution_count": 21,
   "metadata": {},
   "outputs": [],
   "source": [
    "def AES_ECB_keysize(AES: callable) -> int:\n",
    "    \"\"\"\n",
    "    Returns keysize used by an AES ECB encryption function.\n",
    "    \"\"\"\n",
    "    \n",
    "    text = \"A random key long enough to decode the key size used in the encryption\"\n",
    "    \n",
    "    # Checks repetition of blocks.\n",
    "    # Looks for increase in cipher length because the moment text length goes over blocksize, a new block is created of blocksize, padded.\n",
    "    # Thus we can infer block size from the increase in length observed.\n",
    "    for i in range(1, len(text)):\n",
    "        plaintext = text[:i] + text[:i]\n",
    "        cipher = AES(plaintext.encode())\n",
    "        if cipher[:i] == cipher[i:2*i]:                          \n",
    "            print(\"Key size used for the given ciphertext is {}\".format(i))\n",
    "            return i"
   ]
  },
  {
   "cell_type": "code",
   "execution_count": 22,
   "metadata": {},
   "outputs": [],
   "source": [
    "def break_AES_ECB(keysize: int, encryptor: callable) -> bytes:\n",
    "    \"\"\"\n",
    "    Breaks AES ECB encryption for the encryptor function provided.\n",
    "    \"\"\"\n",
    "    deciphered = b\"\"\n",
    "    \n",
    "    # To get secret string length since 0 len input is provided, ciphertext only consists of secret string.\n",
    "    ciphertext = encryptor(deciphered)\n",
    "    # We run the loop upto the length of the secret string since that's what we have to discover.\n",
    "    run = len(ciphertext)\n",
    "    \n",
    "    for i in range(1, run+1):\n",
    "        # Template is 'A' multiplied by number of bytes not decrytpted yet.\n",
    "        template = b'A'*(run - i)\n",
    "        # Gets cipher for template\n",
    "        cipher = encryptor(template)\n",
    "        \n",
    "        for j in range(256):\n",
    "            # Adds the deciphered bytes to the template\n",
    "            text = template + deciphered + j.to_bytes(1, \"big\")\n",
    "            c = encryptor(text)\n",
    "            # Keysize used to refer to the block whose last character is made to be the appended string's 1st char.\n",
    "            # Comparison between letters appended to the last byte and the cipher of the template only.\n",
    "            if c[run-keysize:run] == cipher[run-keysize:run]:\n",
    "                deciphered += chr(j).encode()\n",
    "                break\n",
    "    \n",
    "    return PKCS7_unpad(deciphered)"
   ]
  },
  {
   "cell_type": "markdown",
   "metadata": {},
   "source": [
    "Get keysize to identify block size."
   ]
  },
  {
   "cell_type": "code",
   "execution_count": 23,
   "metadata": {},
   "outputs": [
    {
     "name": "stdout",
     "output_type": "stream",
     "text": [
      "Key size used for the given ciphertext is 16\n",
      "Given base64 encoded string was:\n",
      "Rollin' in my 5.0\n",
      "With my rag-top down so my hair can blow\n",
      "The girlies on standby waving just to say hi\n",
      "Did you stop? No, I just drove by\n"
     ]
    }
   ],
   "source": [
    "keysize = AES_ECB_keysize(AES128)\n",
    "\n",
    "# Decipher appended input.\n",
    "deciphered = break_AES_ECB(keysize, AES128)\n",
    "print(\"Given base64 encoded string was:\\n{}\".format(deciphered.decode(\"utf-8\").strip('\\n')))"
   ]
  },
  {
   "cell_type": "code",
   "execution_count": 24,
   "metadata": {},
   "outputs": [
    {
     "data": {
      "text/html": [
       "<div style=\"border:1px solid #c3e6cb;padding:.75rem 3rem;border-radius:.5rem;font-weight:bold;text-align: center;background-color:#d4edda;color:#155724;border-color:#c3e6cb;\">Completed</div>"
      ],
      "text/plain": [
       "<IPython.core.display.HTML object>"
      ]
     },
     "metadata": {},
     "output_type": "display_data"
    }
   ],
   "source": [
    "test(True)"
   ]
  },
  {
   "cell_type": "markdown",
   "metadata": {},
   "source": [
    "# Challenge 13: ECB cut-and-paste\n",
    "[Link](https://cryptopals.com/sets/2/challenges/13)"
   ]
  },
  {
   "cell_type": "markdown",
   "metadata": {},
   "source": [
    "> Write a k=v parsing routine, as if for a structured cookie.  \n",
    "The routine should take:  \n",
    "**foo=bar&baz=qux&zap=zazzle**  \n",
    "... and produce:  \n",
    "**{  \n",
    "  foo: 'bar',  \n",
    "  baz: 'qux',  \n",
    "  zap: 'zazzle'  \n",
    "}**  \n",
    "(you know, the object; I don't care if you convert it to JSON).  \n",
    "Now write a function that encodes a user profile in that format, given an email address. You should have something like:  \n",
    "**profile_for(\"foo@bar.com\")**  \n",
    "... and it should produce:  \n",
    "**{\n",
    "  email: 'foo@bar.com',  \n",
    "  uid: 10,  \n",
    "  role: 'user'  \n",
    "}**  \n",
    "... encoded as:  \n",
    "**email=foo@bar.com&uid=10&role=user**  \n",
    "Your \"profile_for\" function should not allow encoding metacharacters (& and =).  \n",
    "Eat them, quote them, whatever you want to do, but don't let people set their email address to \"foo@bar.com&role=admin\".  \n",
    "Now, two more easy functions. Generate a random AES key, then:\n",
    "Encrypt the encoded user profile under the key; \"provide\" that to the \"attacker\".  \n",
    "Decrypt the encoded user profile and parse it.  \n",
    "Using only the user input to profile_for() (as an oracle to generate \"valid\" ciphertexts) and the ciphertexts themselves, make a role=admin profile  "
   ]
  },
  {
   "cell_type": "code",
   "execution_count": 25,
   "metadata": {},
   "outputs": [],
   "source": [
    "# Imports\n",
    "import os\n",
    "from Crypto.Cipher import AES"
   ]
  },
  {
   "cell_type": "markdown",
   "metadata": {},
   "source": [
    "A shot at decoding the string into the dictionary."
   ]
  },
  {
   "cell_type": "code",
   "execution_count": 26,
   "metadata": {},
   "outputs": [
    {
     "data": {
      "text/plain": [
       "{'foo': 'bar', 'baz': 'qux', 'zap': 'zazzle'}"
      ]
     },
     "execution_count": 26,
     "metadata": {},
     "output_type": "execute_result"
    }
   ],
   "source": [
    "string_set = \"foo=bar&baz=qux&zap=zazzle\"\n",
    "dictionary = {key:val for key, val in (element.split('=') for element in string_set.split('&'))}\n",
    "dictionary"
   ]
  },
  {
   "cell_type": "code",
   "execution_count": 27,
   "metadata": {},
   "outputs": [],
   "source": [
    "# Generating a pseudo random key, to be run only once.\n",
    "random_key = os.urandom(16)"
   ]
  },
  {
   "cell_type": "code",
   "execution_count": 28,
   "metadata": {},
   "outputs": [],
   "source": [
    "def parser(user: dict, encode: bool) -> dict:\n",
    "    \"\"\"\n",
    "    Parse the given string into a dictionary of format User.\n",
    "    \"\"\"\n",
    "    if encode == True:\n",
    "        parsed_string =  \"&\".join(key.strip(\":\")+\"=\"+val for key, val in zip(user.keys(), user.values()))\n",
    "        return parsed_string.encode()\n",
    "    else:\n",
    "        return {key:val for key, val in (element.split('=') for element in user.split('&'))}"
   ]
  },
  {
   "cell_type": "code",
   "execution_count": 29,
   "metadata": {},
   "outputs": [],
   "source": [
    "def profile_for(val: str) -> dict:\n",
    "    \"\"\"\n",
    "    Returns a user profile for given email.\n",
    "    \"\"\"\n",
    "    val = val.decode(\"utf-8\")\n",
    "    user = {\"email:\": val, \"uid:\": \"10\", \"role\": \"user\"}\n",
    "    return parser(user, True)"
   ]
  },
  {
   "cell_type": "markdown",
   "metadata": {},
   "source": [
    "The oracle as defined by the question."
   ]
  },
  {
   "cell_type": "code",
   "execution_count": 30,
   "metadata": {},
   "outputs": [],
   "source": [
    "def oracle(email: str) -> bytes:\n",
    "    \"\"\"\n",
    "    Returns a new profile for the given email in AES ECB encrypted form.\n",
    "    \"\"\"\n",
    "    encoded_profile = AES_ECB_encrypt(profile_for(email), random_key)\n",
    "    return encoded_profile"
   ]
  },
  {
   "cell_type": "markdown",
   "metadata": {},
   "source": [
    "Test if the oracle works."
   ]
  },
  {
   "cell_type": "code",
   "execution_count": 31,
   "metadata": {},
   "outputs": [
    {
     "data": {
      "text/plain": [
       "'email=lol@gmail.com&uid=10&role=user\\x0c\\x0c\\x0c\\x0c\\x0c\\x0c\\x0c\\x0c\\x0c\\x0c\\x0c\\x0c'"
      ]
     },
     "execution_count": 31,
     "metadata": {},
     "output_type": "execute_result"
    }
   ],
   "source": [
    "email = b\"lol@gmail.com\"\n",
    "decoded_profile = PKCS7_unpad(AES_ECB_decrypt(oracle(email), random_key))\n",
    "profile = parser(decoded_profile.decode(\"utf-8\"), False)\n",
    "decoded_profile.decode(\"utf-8\")"
   ]
  },
  {
   "cell_type": "markdown",
   "metadata": {},
   "source": [
    "The idea here is to get the encrypted bytes of the parameter(\"admin\") we have to write into the string, and then insert those bytes as is into a benign ciphertext.  \n",
    "\n",
    "We generate an email as follows:  \n",
    "We fill garbage value uptil the starting block(since \"email=\" is at the beginning of the string) is completed and then append the parameter(\"admin\") in a padded state so that we get a fresh, whole block of the parameter encrypted.\n",
    "\n",
    "Now we inject this into the string as follows:  \n",
    "We input an email such that \"&role=\" are the last bytes of a block and \"user\" comes in a new block(would be the last block since \"user\" is at the end of the string). This last block is replaced by the block of cipher we generated for the parameter."
   ]
  },
  {
   "cell_type": "code",
   "execution_count": 32,
   "metadata": {},
   "outputs": [],
   "source": [
    "keysize = 16\n",
    "\n",
    "# Get encrypted bytes with \"admin\".\n",
    "email = b\"f\"*(keysize-len(\"email=\")) + PKCS7_pad(b\"admin\", keysize)\n",
    "cipher = oracle(email)\n",
    "encoded_admin_bytes = cipher[keysize:keysize*2]\n",
    "\n",
    "# Calculate the number of blocks taken up by the text and then generate an email that completes the block so the admin parameter can be appended in the new block.\n",
    "num_blocks = int((len(\"&uid=10\") + len(\"email=\") + len(\"&role=\"))/keysize) + 1\n",
    "email = b\"f\"*(num_blocks*keysize - (len(\"&uid=10\") + len(\"email=\") + len(\"&role=\")-6))+b\"@gmail.com\"\n",
    "cipher = oracle(email)\n",
    "# Add the encoded paramter bytes to the ciphertext.\n",
    "modified_cipher = cipher[:48] + encoded_admin_bytes\n",
    "\n",
    "cracked_cipher_plaintext = parser(PKCS7_unpad(AES_ECB_decrypt(modified_cipher, random_key)).decode(\"utf-8\"), False)"
   ]
  },
  {
   "cell_type": "code",
   "execution_count": 33,
   "metadata": {},
   "outputs": [
    {
     "data": {
      "text/html": [
       "<div style=\"border:1px solid #c3e6cb;padding:.75rem 3rem;border-radius:.5rem;font-weight:bold;text-align: center;background-color:#d4edda;color:#155724;border-color:#c3e6cb;\">Completed</div>"
      ],
      "text/plain": [
       "<IPython.core.display.HTML object>"
      ]
     },
     "metadata": {},
     "output_type": "display_data"
    }
   ],
   "source": [
    "test(cracked_cipher_plaintext['role'] == 'admin')"
   ]
  },
  {
   "cell_type": "markdown",
   "metadata": {},
   "source": [
    "# Challenge 14: Byte-at-a-time ECB decryption (Harder)\n",
    "[Link](https://cryptopals.com/sets/2/challenges/14)"
   ]
  },
  {
   "cell_type": "markdown",
   "metadata": {},
   "source": [
    "> Take your oracle function from #12.  \n",
    "Now generate a random count of random bytes and prepend this string to every plaintext.  \n",
    "You are now doing:  \n",
    "**AES-128-ECB(random-prefix || attacker-controlled || target-bytes, random-key)**  \n",
    "Same goal: decrypt the target-bytes."
   ]
  },
  {
   "cell_type": "code",
   "execution_count": 34,
   "metadata": {},
   "outputs": [],
   "source": [
    "# Imports\n",
    "import os\n",
    "import math\n",
    "import base64\n",
    "import random\n",
    "from Crypto.Cipher import AES"
   ]
  },
  {
   "cell_type": "code",
   "execution_count": 35,
   "metadata": {},
   "outputs": [],
   "source": [
    "# Given\n",
    "b64_string = \"Um9sbGluJyBpbiBteSA1LjAKV2l0aCBteSByYWctdG9wIGRvd24gc28gbXkgaGFpciBjYW4gYmxvdwpUaGUgZ2lybGllcyBvbiBzdGFuZGJ5IHdhdmluZyBqdXN0IHRvIHNheSBoaQpEaWQgeW91IHN0b3A/IE5vLCBJIGp1c3QgZHJvdmUgYnkK\""
   ]
  },
  {
   "cell_type": "code",
   "execution_count": 36,
   "metadata": {},
   "outputs": [],
   "source": [
    "# Pseudo random key and prefix string.\n",
    "random_key = os.urandom(16)\n",
    "random_string = os.urandom(random.randint(0,255))"
   ]
  },
  {
   "cell_type": "markdown",
   "metadata": {},
   "source": [
    "The oracle as defined by the question. Only difference from #12 is that it prepends the text with random string of fixed length."
   ]
  },
  {
   "cell_type": "code",
   "execution_count": 37,
   "metadata": {},
   "outputs": [],
   "source": [
    "def AES128_harder(text: bytes) -> bytes:\n",
    "    \"\"\"\n",
    "    Oracle function to return ciphertext for random string and secret string, prepended and appended respectively, to plaintext.\n",
    "    \"\"\"\n",
    "    global b64_string, random_key, random_string\n",
    "    \n",
    "    secret_string = base64.b64decode(b64_string)\n",
    "    plaintext = random_string + text + secret_string\n",
    "    cipher = AES_ECB_encrypt(plaintext, random_key)\n",
    "    return cipher"
   ]
  },
  {
   "cell_type": "markdown",
   "metadata": {},
   "source": [
    "We need to account for the random string being prepended.\n",
    "If it wasn't there, this question would be the exact same as #12(a secret string being appended to our input).  \n",
    "Therefore, if we were to neutralise this random string, we can follow the same approach as that of #12.  \n",
    "\n",
    "We find out the random string's length by calculating the common prefix appended in every ciphertext. This common prefix is the random string. We get it's length.  \n",
    "We then find out the number of blocks it's taking and how much padding we need so that our input is put into a new block when being encrypted.  \n",
    "Once we are able to reach the point where the input begins in a new block, we can say that the random string has been neutralised, making this question essentially the same as #12."
   ]
  },
  {
   "cell_type": "code",
   "execution_count": 38,
   "metadata": {},
   "outputs": [],
   "source": [
    "def break_AES_ECB_harder(keysize: int, encryptor: callable) -> bytes:\n",
    "    \"\"\"\n",
    "    Breaks AES ECB encryption for the encryptor function provided.\n",
    "    \"\"\"\n",
    "        \n",
    "    # Find the prefix length.\n",
    "    padding = 0\n",
    "    random_blocks = 0\n",
    "    cipher_length = len(encryptor(b''))\n",
    "    prefix_length = len(os.path.commonprefix([encryptor(b'AAAA'), encryptor(b'')]))\n",
    "    print(\"Prefix length: \", prefix_length)\n",
    "    \n",
    "    # Find number of random blocks.\n",
    "    for i in range(int(cipher_length/keysize)):\n",
    "        if prefix_length < i*keysize:\n",
    "            random_blocks = i\n",
    "            break\n",
    "    print(\"Random blocks: \", random_blocks)\n",
    "    \n",
    "    # Find number of byte padding required.\n",
    "    base_cipher = encryptor(b'')\n",
    "    for i in range(1, keysize):\n",
    "        new_cipher = encryptor(b'A'*i)\n",
    "        new_prefix_length = len(os.path.commonprefix([base_cipher, new_cipher]))\n",
    "        if new_prefix_length > prefix_length:\n",
    "            padding = i - 1\n",
    "            break\n",
    "        base_cipher = new_cipher\n",
    "    print(\"Number of bytes of padding required: \", padding)\n",
    "    \n",
    "    # To get added string length since 0 len input is provided, all cipher is of added string.\n",
    "    deciphered = b\"\"\n",
    "    ciphertext = encryptor(deciphered)\n",
    "    # Because of one block increase due to addition of padding.\n",
    "    run = len(ciphertext) + keysize\n",
    "    \n",
    "    # Should start after prefix random_blocks because till then it value will be same for original cipher and templated cipehr since same prepended string will be compared.\n",
    "    for i in range(keysize * random_blocks + 1, run+1):\n",
    "        template = b'A'*(run - i + padding)\n",
    "        cipher = encryptor(template)\n",
    "        for j in range(256):\n",
    "            #print(i, j)\n",
    "            text = template + deciphered + j.to_bytes(1, \"little\")\n",
    "            c = encryptor(text)\n",
    "            # Keysize used to refer to the block whose last character is made to be the appended string's 1st char.\n",
    "            if c[run-keysize:run] == cipher[run-keysize:run]:\n",
    "                deciphered += chr(j).encode()\n",
    "                break\n",
    "    return PKCS7_unpad(deciphered)"
   ]
  },
  {
   "cell_type": "code",
   "execution_count": 39,
   "metadata": {},
   "outputs": [
    {
     "name": "stdout",
     "output_type": "stream",
     "text": [
      "Prefix length:  48\n",
      "Random blocks:  4\n",
      "Number of bytes of padding required:  0\n",
      "\n",
      "Deciphered string:\n",
      "\n",
      "\u0000\u0000\u0000\u0000\u0000\u0000\u0000\u0000\u0000\u0000\u0000\u0000\u0000\u0000\u0000\u0000\n"
     ]
    }
   ],
   "source": [
    "keysize = 16\n",
    "byte_text = break_AES_ECB_harder(keysize, AES128_harder)\n",
    "print(\"\\nDeciphered string:\\n\")\n",
    "print(byte_text.decode(\"utf-8\").strip())"
   ]
  },
  {
   "cell_type": "code",
   "execution_count": 40,
   "metadata": {},
   "outputs": [
    {
     "data": {
      "text/html": [
       "<div style=\"border:1px solid #c3e6cb;padding:.75rem 3rem;border-radius:.5rem;font-weight:bold;text-align: center;background-color:#d4edda;color:#155724;border-color:#c3e6cb;\">Completed</div>"
      ],
      "text/plain": [
       "<IPython.core.display.HTML object>"
      ]
     },
     "metadata": {},
     "output_type": "display_data"
    }
   ],
   "source": [
    "test(True)"
   ]
  },
  {
   "cell_type": "markdown",
   "metadata": {},
   "source": [
    "# Challenge 15: PKCS#7 padding validation\n",
    "[Link](https://cryptopals.com/sets/2/challenges/15)"
   ]
  },
  {
   "cell_type": "markdown",
   "metadata": {},
   "source": [
    "> Write a function that takes a plaintext, determines if it has valid PKCS#7 padding, and strips the padding off.  \n",
    "The string:  \n",
    "**\"ICE ICE BABY\\x04\\x04\\x04\\x04\"**  \n",
    "... has valid padding, and produces the result \"ICE ICE BABY\".  \n",
    "The string:  \n",
    "**\"ICE ICE BABY\\x05\\x05\\x05\\x05\"**  \n",
    "... does not have valid padding, nor does:  \n",
    "**\"ICE ICE BABY\\x01\\x02\\x03\\x04\"**  \n",
    "If you are writing in a language with exceptions, like Python or Ruby, make your function throw an exception on bad padding.  \n",
    "Crypto nerds know where we're going with this. Bear with us."
   ]
  },
  {
   "cell_type": "code",
   "execution_count": 41,
   "metadata": {},
   "outputs": [],
   "source": [
    "# Given\n",
    "given_string = \"ICE ICE BABY\\x04\\x04\\x04\\x04\"\n",
    "target_string = \"ICE ICE BABY\""
   ]
  },
  {
   "cell_type": "markdown",
   "metadata": {},
   "source": [
    "We can use our good old PKCS7_unpad function."
   ]
  },
  {
   "cell_type": "code",
   "execution_count": 42,
   "metadata": {},
   "outputs": [
    {
     "data": {
      "text/html": [
       "<div style=\"border:1px solid #c3e6cb;padding:.75rem 3rem;border-radius:.5rem;font-weight:bold;text-align: center;background-color:#d4edda;color:#155724;border-color:#c3e6cb;\">Completed</div>"
      ],
      "text/plain": [
       "<IPython.core.display.HTML object>"
      ]
     },
     "metadata": {},
     "output_type": "display_data"
    }
   ],
   "source": [
    "test(target_string.encode() == PKCS7_unpad(given_string.encode()))"
   ]
  },
  {
   "cell_type": "markdown",
   "metadata": {},
   "source": [
    "# Challenge 16: CBC bitflipping attacks\n",
    "[Link](https://cryptopals.com/sets/2/challenges/16)"
   ]
  },
  {
   "cell_type": "markdown",
   "metadata": {},
   "source": [
    "> Generate a random AES key.  \n",
    "Combine your padding code and CBC code to write two functions.  \n",
    "The first function should take an arbitrary input string, prepend the string:  \n",
    "**\"comment1=cooking%20MCs;userdata=\"**  \n",
    ".. and append the string:  \n",
    "**\";comment2=%20like%20a%20pound%20of%20bacon\"**  \n",
    "The function should quote out the \";\" and \"=\" characters.  \n",
    "The function should then pad out the input to the 16-byte AES block length and encrypt it under the random AES key.  \n",
    "The second function should decrypt the string and look for the characters \";admin=true;\" (or, equivalently, decrypt, split the string on \";\", convert each resulting string into 2-tuples, and look for the \"admin\" tuple).  \n",
    "Return true or false based on whether the string exists.  \n",
    "If you've written the first function properly, it should not be possible to provide user input to it that will generate the string the second function is looking for. We'll have to break the crypto to do that.  \n",
    "Instead, modify the ciphertext (without knowledge of the AES key) to accomplish this.  \n",
    "You're relying on the fact that in CBC mode, a 1-bit error in a ciphertext block:  \n",
    "* Completely scrambles the block the error occurs in.  \n",
    "* Produces the identical 1-bit error(/edit) in the next ciphertext block."
   ]
  },
  {
   "cell_type": "code",
   "execution_count": 43,
   "metadata": {},
   "outputs": [],
   "source": [
    "# Imports\n",
    "import os\n",
    "import random\n",
    "from Crypto.Cipher import AES"
   ]
  },
  {
   "cell_type": "code",
   "execution_count": 44,
   "metadata": {},
   "outputs": [],
   "source": [
    "# Given\n",
    "prepend_string = \"comment1=cooking%20MCs;userdata=\"\n",
    "append_string = \";comment2=%20like%20a%20pound%20of%20bacon\"\n",
    "parameter = b\";admin=true;\""
   ]
  },
  {
   "cell_type": "code",
   "execution_count": 45,
   "metadata": {},
   "outputs": [],
   "source": [
    "keysize = 16\n",
    "random_key = os.urandom(keysize)\n",
    "IV = os.urandom(random.randint(0,255))"
   ]
  },
  {
   "cell_type": "markdown",
   "metadata": {},
   "source": [
    "The first function:\n",
    "* Appends the string.\n",
    "* Quotes out the specified characters.\n",
    "* Pads the input and encrypts it with AES CBC."
   ]
  },
  {
   "cell_type": "code",
   "execution_count": 46,
   "metadata": {},
   "outputs": [],
   "source": [
    "def encryptor(text: bytes, IV: bytes, key: bytes) -> bytes:\n",
    "    \"\"\"\n",
    "    Prepend and append the given strings to custom text, and encrypt via AES CBC Mode.\n",
    "    \"\"\"\n",
    "    plaintext =  (prepend_string.encode() + text + append_string.encode()).replace(b';', b'\";\"').replace(b'=', b'\"=\"')\n",
    "    ciphertext = AES_CBC_encrypt(PKCS7_pad(plaintext, len(key)), IV, key)\n",
    "    return ciphertext"
   ]
  },
  {
   "cell_type": "markdown",
   "metadata": {},
   "source": [
    "The second function:\n",
    "* Decrypts the input.\n",
    "* Returns true or false based on presence of \";admin=true;\" in the decrypted string."
   ]
  },
  {
   "cell_type": "code",
   "execution_count": 47,
   "metadata": {},
   "outputs": [],
   "source": [
    "def decryptor(byte_string: bytes, IV: bytes, key: bytes) -> bool:\n",
    "    \"\"\"\n",
    "    Decrypt the given ciphertext via AES CBC Mode and check if admin is set to true.\n",
    "    \"\"\"\n",
    "    decrypted_string = PKCS7_unpad(AES_CBC_decrypt(byte_string, IV, key))\n",
    "    if b\";admin=true;\" in decrypted_string:\n",
    "        return True\n",
    "    else:\n",
    "        return False"
   ]
  },
  {
   "cell_type": "code",
   "execution_count": 48,
   "metadata": {},
   "outputs": [],
   "source": [
    "def CBC_bit_flipping(parameter: bytes, keysize: int, encryptor: callable) -> bytes:    \n",
    "    \n",
    "    # Padding required to bridge gap between randomstringlength and block.\n",
    "    padding = 0\n",
    "    random_blocks = 0\n",
    "\n",
    "\n",
    "    # Find the prefix length.\n",
    "    cipher_length = len(encryptor(b'', IV, random_key))\n",
    "    prefix_length = len(os.path.commonprefix([encryptor(b'AAAA', IV, random_key), encryptor(b'', IV, random_key)]))\n",
    "    print(\"Prefix length: \", prefix_length)\n",
    "\n",
    "    # Find number of random blocks.\n",
    "    for i in range(int(cipher_length/keysize)):\n",
    "        if prefix_length < i*keysize:\n",
    "            random_blocks = i\n",
    "            break\n",
    "    print(\"Random blocks: \", random_blocks)\n",
    "\n",
    "    # Find number of byte padding required.\n",
    "    base_cipher = encryptor(b'', IV, random_key)\n",
    "    for i in range(1, keysize):\n",
    "        new_cipher = encryptor(b'A'*i, IV, random_key)\n",
    "        new_prefix_length = len(os.path.commonprefix([base_cipher, new_cipher]))\n",
    "        if new_prefix_length > prefix_length:\n",
    "            padding = i - 1\n",
    "            break\n",
    "        base_cipher = new_cipher\n",
    "    print(\"Number of bytes of padding required: \", padding)\n",
    "\n",
    "    # Flip bytes for the given string.\n",
    "    input_text = b'A'*padding + b\"heytheremama\"\n",
    "    string = parameter\n",
    "    modified_string = b\"\"\n",
    "    ciphertext = encryptor(input_text, IV, random_key)\n",
    "    for i in range(len(string)):\n",
    "        modified_string += (ciphertext[i+(random_blocks-1)*keysize]^(input_text[i+padding]^string[i])).to_bytes(1, \"big\")\n",
    "\n",
    "    modified_ciphertext = ciphertext[:(random_blocks-1)*keysize] + modified_string + ciphertext[(random_blocks-1)*keysize + len(modified_string):]\n",
    "    \n",
    "    return modified_ciphertext"
   ]
  },
  {
   "cell_type": "code",
   "execution_count": 49,
   "metadata": {},
   "outputs": [
    {
     "name": "stdout",
     "output_type": "stream",
     "text": [
      "Prefix length:  32\n",
      "Random blocks:  3\n",
      "Number of bytes of padding required:  10\n"
     ]
    },
    {
     "data": {
      "text/plain": [
       "b'comment1\"=\"cooking%20MCs\";\"userd\\xc3\\x8e!\\xc2\\xb9\\x1d\\xc2\\x85\\xc3\\x9cI\\xc2\\x8a\\xc3\\x9bp\\xc3\\xb6\\xc3\\x97\\rO\\xc3\\xa0\\x12;admin=true;\";\"comment2\"=\"%20like%20a%20pound%20of%20bacon\\x06\\x06\\x06\\x06\\x06\\x06'"
      ]
     },
     "execution_count": 49,
     "metadata": {},
     "output_type": "execute_result"
    }
   ],
   "source": [
    "modified_ciphertext = CBC_bit_flipping(parameter, keysize, encryptor)\n",
    "AES_CBC_decrypt(modified_ciphertext, IV, random_key)"
   ]
  },
  {
   "cell_type": "code",
   "execution_count": 50,
   "metadata": {},
   "outputs": [
    {
     "data": {
      "text/html": [
       "<div style=\"border:1px solid #c3e6cb;padding:.75rem 3rem;border-radius:.5rem;font-weight:bold;text-align: center;background-color:#d4edda;color:#155724;border-color:#c3e6cb;\">Completed</div>"
      ],
      "text/plain": [
       "<IPython.core.display.HTML object>"
      ]
     },
     "metadata": {},
     "output_type": "display_data"
    }
   ],
   "source": [
    "test(decryptor(modified_ciphertext, IV, random_key) == True)"
   ]
  }
 ],
 "metadata": {
  "kernelspec": {
   "display_name": "Python 3",
   "language": "python",
   "name": "python3"
  },
  "language_info": {
   "codemirror_mode": {
    "name": "ipython",
    "version": 3
   },
   "file_extension": ".py",
   "mimetype": "text/x-python",
   "name": "python",
   "nbconvert_exporter": "python",
   "pygments_lexer": "ipython3",
   "version": "3.8.1"
  }
 },
 "nbformat": 4,
 "nbformat_minor": 4
}
