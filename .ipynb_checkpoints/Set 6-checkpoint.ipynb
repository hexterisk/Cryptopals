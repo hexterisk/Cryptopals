{
 "cells": [
  {
   "cell_type": "code",
   "execution_count": 71,
   "metadata": {},
   "outputs": [],
   "source": [
    "from lib import *"
   ]
  },
  {
   "cell_type": "markdown",
   "metadata": {},
   "source": [
    "# Challenge 41: Implement unpadded message recovery oracle\n",
    "[Link](https://cryptopals.com/sets/6/challenges/41)"
   ]
  },
  {
   "cell_type": "markdown",
   "metadata": {},
   "source": [
    "> Nate Lawson says we should stop calling it \"RSA padding\" and start calling it \"RSA armoring\". Here's why.  \n",
    "Imagine a web application, again with the Javascript encryption, taking RSA-encrypted messages which (again: Javascript) aren't padded before encryption at all.  \n",
    "You can submit an arbitrary RSA blob and the server will return plaintext. But you can't submit the same message twice: let's say the server keeps hashes of previous messages for some liveness interval, and that the message has an embedded timestamp:\n",
    "**\n",
    "{  \n",
    "  time: 1356304276,  \n",
    "  social: '555-55-5555',  \n",
    "}  \n",
    "You'd like to capture other people's messages and use the server to decrypt them. But when you try, the server takes the hash of the ciphertext and uses it to reject the request. Any bit you flip in the ciphertext irrevocably scrambles the decryption.  \n",
    "This turns out to be trivially breakable:  \n",
    "* Capture the ciphertext C\n",
    "* Let N and E be the public modulus and exponent respectively\n",
    "* Let S be a random number > 1 mod N. Doesn't matter what.\n",
    "* Now:    \n",
    "    **C' = ((S\\*\\*E mod N) C) mod N**  \n",
    "* Submit C', which appears totally different from C, to the server, recovering P', which appears totally different from P\n",
    "* Now:\n",
    "    **P = P' / S  mod N**  \n",
    "Oops!  \n",
    "Implement that attack."
   ]
  },
  {
   "cell_type": "code",
   "execution_count": 61,
   "metadata": {},
   "outputs": [],
   "source": [
    "# Imports\n",
    "import random"
   ]
  },
  {
   "cell_type": "markdown",
   "metadata": {},
   "source": [
    "Define a class that works as a server as described by the question."
   ]
  },
  {
   "cell_type": "code",
   "execution_count": 62,
   "metadata": {},
   "outputs": [],
   "source": [
    "class RSA_server(RSA):\n",
    "    \"\"\"\n",
    "    Extends the RSA class to verify that no ciphertext passes through more than once.\n",
    "    \"\"\"\n",
    "    \n",
    "    decrypted = []\n",
    "    \n",
    "    def get_public_key(self: object) -> tuple:\n",
    "        return self.pub\n",
    "    \n",
    "    def decrypt_check(self: object, ciphertext: bytes) -> bytes:\n",
    "        if ciphertext in self.decrypted:\n",
    "            raise Exception(\"This ciphertext has already been deciphered before!\")\n",
    "        self.decrypted.append(ciphertext)\n",
    "        return self.decrypt(ciphertext)"
   ]
  },
  {
   "cell_type": "code",
   "execution_count": 63,
   "metadata": {},
   "outputs": [],
   "source": [
    "def unpadded_message_recovery(ciphertext: bytes, rsa_server: object) -> bytes:\n",
    "    \"\"\"\n",
    "    Modifies ciphertext and recovers plaintext from an RSA server.\n",
    "    \"\"\"\n",
    "    \n",
    "    (E, N) = rsa_server.get_public_key()\n",
    "    S = random.randint(1, N)\n",
    "    while True:\n",
    "        if S % N > 1:\n",
    "            break\n",
    "    \n",
    "    modified_ciphertext = (pow(S, E, N) * ciphertext) % N\n",
    "    \n",
    "    modified_plaintext = rsa_server.decrypt_check(modified_ciphertext)\n",
    "    recovered_plaintext_int = (int.from_bytes(modified_plaintext, \"big\") * mod_inverse(S, N) % N)\n",
    "    \n",
    "    return (recovered_plaintext_int).to_bytes((recovered_plaintext_int.bit_length() + 7) // 8, \"big\")"
   ]
  },
  {
   "cell_type": "code",
   "execution_count": 64,
   "metadata": {},
   "outputs": [],
   "source": [
    "rsa_server = RSA_server(256)\n",
    "plaintext = \"Unpadded message\"\n",
    "ciphertext = rsa_server.encrypt(plaintext.encode())"
   ]
  },
  {
   "cell_type": "code",
   "execution_count": 65,
   "metadata": {},
   "outputs": [
    {
     "data": {
      "text/html": [
       "<div style=\"border:1px solid #c3e6cb;padding:.75rem 3rem;border-radius:.5rem;font-weight:bold;text-align: center;background-color:#d4edda;color:#155724;border-color:#c3e6cb;\">Completed</div>"
      ],
      "text/plain": [
       "<IPython.core.display.HTML object>"
      ]
     },
     "metadata": {},
     "output_type": "display_data"
    }
   ],
   "source": [
    "test(unpadded_message_recovery(ciphertext, rsa_server).decode(\"utf-8\") == plaintext)"
   ]
  },
  {
   "cell_type": "markdown",
   "metadata": {},
   "source": [
    "# Challenge 42: Bleichenbacher's e=3 RSA Attack\n",
    "[Link](https://cryptopals.com/sets/6/challenges/42)"
   ]
  },
  {
   "cell_type": "markdown",
   "metadata": {},
   "source": [
    "> RSA with an encrypting exponent of 3 is popular, because it makes the RSA math faster.  \n",
    "With e=3 RSA, encryption is just cubing a number mod the public encryption modulus:  \n",
    "**c = m \\*\\* 3 % n**  \n",
    "e=3 is secure as long as we can make assumptions about the message blocks we're encrypting. The worry with low-exponent RSA is that the message blocks we process won't be large enough to wrap the modulus after being cubed. The block 00:02 (imagine sufficient zero-padding) can be \"encrypted\" in e=3 RSA; it is simply 00:08.  \n",
    "When RSA is used to sign, rather than encrypt, the operations are reversed; the verifier \"decrypts\" the message by cubing it. This produces a \"plaintext\" which the verifier checks for validity.  \n",
    "When you use RSA to sign a message, you supply it a block input that contains a message digest. The PKCS1.5 standard formats that block as:  \n",
    "**00h 01h ffh ffh ... ffh ffh 00h ASN.1 GOOP HASH**  \n",
    "As intended, the ffh bytes in that block expand to fill the whole block, producing a \"right-justified\" hash (the last byte of the hash is the last byte of the message).  \n",
    "There was, 7 years ago, a common implementation flaw with RSA verifiers: they'd verify signatures by \"decrypting\" them (cubing them modulo the public exponent) and then \"parsing\" them by looking for 00h 01h ... ffh 00h ASN.1 HASH.  \n",
    "This is a bug because it implies the verifier isn't checking all the padding. If you don't check the padding, you leave open the possibility that instead of hundreds of ffh bytes, you have only a few, which if you think about it means there could be squizzilions of possible numbers that could produce a valid-looking signature.  \n",
    "How to find such a block? Find a number that when cubed (a) doesn't wrap the modulus (thus bypassing the key entirely) and (b) produces a block that starts \"00h 01h ffh ... 00h ASN.1 HASH\".  \n",
    "There are two ways to approach this problem:  \n",
    "* You can work from Hal Finney's writeup, available on Google, of how Bleichenbacher explained the math \"so that you can do it by hand with a pencil\".\n",
    "* You can implement an integer cube root in your language, format the message block you want to forge, leaving sufficient trailing zeros at the end to fill with garbage, then take the cube-root of that block.  \n",
    "\n",
    "> Forge a 1024-bit RSA signature for the string \"hi mom\". Make sure your implementation actually accepts the signature!"
   ]
  },
  {
   "cell_type": "code",
   "execution_count": 66,
   "metadata": {},
   "outputs": [],
   "source": [
    "# Imports\n",
    "import re\n",
    "import hashlib"
   ]
  },
  {
   "cell_type": "code",
   "execution_count": 225,
   "metadata": {},
   "outputs": [],
   "source": [
    "# Given\n",
    "message = \"hi mom\"\n",
    "\n",
    "ASN1_SHA1 = b\"\\x30\\x21\\x30\\x09\\x06\\x05\\x2b\\x0e\\x03\\x02\\x1a\\x05\\x00\\x04\\x14\""
   ]
  },
  {
   "cell_type": "markdown",
   "metadata": {},
   "source": [
    "Numbers have to be in big endian because cubing takes place, and interferes with the bit manipulation"
   ]
  },
  {
   "cell_type": "code",
   "execution_count": 115,
   "metadata": {},
   "outputs": [],
   "source": [
    "class RSA_Digital_Signature(RSA):\n",
    "    \"\"\"\n",
    "    Extends the RSA class coded before with the sign / verify functions.\n",
    "    \"\"\"\n",
    "\n",
    "    def generate_signature(self: object, message: bytes) -> bytes:\n",
    "        digest = hashlib.sha1(message).digest()\n",
    "        block = b'\\x00\\x01' + (b'\\xff' * (128 - len(digest) - 3 - 15)) + b'\\x00' + ASN1_SHA1 + digest\n",
    "        signature = self.decrypt(int.from_bytes(block, \"big\"), \"big\")\n",
    "        return signature\n",
    "\n",
    "    def verify_signature(self: object, message: bytes, signature: bytes) -> bool:\n",
    "        cipher = self.encrypt(signature, \"big\")\n",
    "        block = b'\\x00' + cipher.to_bytes((cipher.bit_length() + 7) // 8, \"big\")\n",
    "        r = re.compile(b'\\x00\\x01\\xff+?\\x00.{15}(.{20})', re.DOTALL)\n",
    "        m = r.match(block)\n",
    "        if not m:\n",
    "            return False\n",
    "        digest = m.group(1)\n",
    "        return digest == hashlib.sha1(message).digest()"
   ]
  },
  {
   "cell_type": "markdown",
   "metadata": {},
   "source": [
    "Test the oracle."
   ]
  },
  {
   "cell_type": "code",
   "execution_count": 231,
   "metadata": {},
   "outputs": [
    {
     "ename": "NameError",
     "evalue": "name 'self' is not defined",
     "output_type": "error",
     "traceback": [
      "\u001b[0;31m---------------------------------------------------------------------------\u001b[0m",
      "\u001b[0;31mNameError\u001b[0m                                 Traceback (most recent call last)",
      "\u001b[0;32m<ipython-input-231-3c8751186453>\u001b[0m in \u001b[0;36m<module>\u001b[0;34m\u001b[0m\n\u001b[1;32m      1\u001b[0m \u001b[0mrsa\u001b[0m \u001b[0;34m=\u001b[0m \u001b[0mRSA_Digital_Signature\u001b[0m\u001b[0;34m(\u001b[0m\u001b[0;36m1024\u001b[0m\u001b[0;34m)\u001b[0m\u001b[0;34m\u001b[0m\u001b[0;34m\u001b[0m\u001b[0m\n\u001b[1;32m      2\u001b[0m \u001b[0msignature\u001b[0m \u001b[0;34m=\u001b[0m \u001b[0mrsa\u001b[0m\u001b[0;34m.\u001b[0m\u001b[0mgenerate_signature\u001b[0m\u001b[0;34m(\u001b[0m\u001b[0mmessage\u001b[0m\u001b[0;34m.\u001b[0m\u001b[0mencode\u001b[0m\u001b[0;34m(\u001b[0m\u001b[0;34m)\u001b[0m\u001b[0;34m)\u001b[0m\u001b[0;34m\u001b[0m\u001b[0;34m\u001b[0m\u001b[0m\n\u001b[0;32m----> 3\u001b[0;31m \u001b[0;32mif\u001b[0m \u001b[0;32mnot\u001b[0m \u001b[0mself\u001b[0m\u001b[0;34m.\u001b[0m\u001b[0mverify_signature\u001b[0m\u001b[0;34m(\u001b[0m\u001b[0mmessage\u001b[0m\u001b[0;34m.\u001b[0m\u001b[0mencode\u001b[0m\u001b[0;34m(\u001b[0m\u001b[0;34m)\u001b[0m\u001b[0;34m,\u001b[0m \u001b[0msignature\u001b[0m\u001b[0;34m)\u001b[0m\u001b[0;34m:\u001b[0m\u001b[0;34m\u001b[0m\u001b[0;34m\u001b[0m\u001b[0m\n\u001b[0m\u001b[1;32m      4\u001b[0m     \u001b[0;32mraise\u001b[0m \u001b[0mException\u001b[0m\u001b[0;34m(\u001b[0m\u001b[0mmessage\u001b[0m \u001b[0;34m+\u001b[0m \u001b[0;34mb\" has invalid signature \"\u001b[0m \u001b[0;34m+\u001b[0m \u001b[0msignature\u001b[0m\u001b[0;34m)\u001b[0m\u001b[0;34m\u001b[0m\u001b[0;34m\u001b[0m\u001b[0m\n\u001b[1;32m      5\u001b[0m \u001b[0;32melse\u001b[0m\u001b[0;34m:\u001b[0m\u001b[0;34m\u001b[0m\u001b[0;34m\u001b[0m\u001b[0m\n",
      "\u001b[0;31mNameError\u001b[0m: name 'self' is not defined"
     ]
    }
   ],
   "source": [
    " \n",
    "rsa = RSA_Digital_Signature(1024)\n",
    "signature = rsa.generate_signature(message.encode())\n",
    "if not rsa.verify_signature(message.encode(), signature):\n",
    "    raise Exception(message + b\" has invalid signature \" + signature)\n",
    "else:\n",
    "    print(\"> Signature verified for message:\", message)"
   ]
  },
  {
   "cell_type": "code",
   "execution_count": null,
   "metadata": {},
   "outputs": [],
   "source": [
    "def forge_signature(message: bytes) -> bytes:\n",
    "    \"\"\"\n",
    "    Forges the SHA1 signature of the message\n",
    "    \"\"\"\n",
    "    digest = hashlib.sha1(message).digest()\n",
    "    block = b'\\x00\\x01\\xff\\x00' +  ASN1_SHA1 + digest + (b'\\x00' * (128 - len(digest) - 4 - 15))\n",
    "    block_int = int.from_bytes(block, \"big\")\n",
    "    sig = floorRoot(block_int, 3) + 1\n",
    "    return sig.to_bytes((sig.bit_length() + 7) // 8, \"big\")"
   ]
  },
  {
   "cell_type": "code",
   "execution_count": 228,
   "metadata": {},
   "outputs": [
    {
     "name": "stdout",
     "output_type": "stream",
     "text": [
      "> Signature verified for message: hi mom\n"
     ]
    },
    {
     "data": {
      "text/html": [
       "<div style=\"border:1px solid #c3e6cb;padding:.75rem 3rem;border-radius:.5rem;font-weight:bold;text-align: center;background-color:#d4edda;color:#155724;border-color:#c3e6cb;\">Completed</div>"
      ],
      "text/plain": [
       "<IPython.core.display.HTML object>"
      ]
     },
     "metadata": {},
     "output_type": "display_data"
    }
   ],
   "source": [
    "forged_signature = forge_signature(message.encode())\n",
    "if not rsa.verify_signature(message.encode(), forged_signature):\n",
    "    raise Exception(message + b\" has invalid signature \" + forged_signature)\n",
    "    test(False)\n",
    "else:\n",
    "    print(\"> Signature verified for message:\", message)\n",
    "    test(True)"
   ]
  },
  {
   "cell_type": "markdown",
   "metadata": {},
   "source": [
    "# Challenge 43: DSA key recovery from nonce\n",
    "[Link](https://cryptopals.com/sets/6/challenges/43)"
   ]
  },
  {
   "cell_type": "markdown",
   "metadata": {},
   "source": [
    "> DSA key recovery from nonce  \n",
    "**Step 1**: Relocate so that you are out of easy travel distance of us.\n",
    "**Step 2**: Implement DSA, up to signing and verifying, including parameter generation.  \n",
    "Hah-hah you're too far away to come punch us.  \n",
    "Just kidding you can skip the parameter generation part if you want; if you do, use these params:  \n",
    "**p = 800000000000000089e1855218a0e7dac38136ffafa72eda7  \n",
    "     859f2171e25e65eac698c1702578b07dc2a1076da241c76c6  \n",
    "     2d374d8389ea5aeffd3226a0530cc565f3bf6b50929139ebe  \n",
    "     ac04f48c3c84afb796d61e5a4f9a8fda812ab59494232c7d2  \n",
    "     b4deb50aa18ee9e132bfa85ac4374d7f9091abc3d015efc87  \n",
    "     1a584471bb1  \n",
    " q = f4f47f05794b256174bba6e9b396a7707e563c5b  \n",
    " g = 5958c9d3898b224b12672c0b98e06c60df923cb8bc999d119  \n",
    "     458fef538b8fa4046c8db53039db620c094c9fa077ef389b5  \n",
    "     322a559946a71903f990f1f7e0e025e2d7f7cf494aff1a047  \n",
    "     0f5b64c36b625a097f1651fe775323556fe00b3608c887892  \n",
    "     878480e99041be601a62166ca6894bdd41a7054ec89f756ba  \n",
    "     9fc95302291**  \n",
    "(\"But I want smaller params!\" Then generate them yourself.)  \n",
    "The DSA signing operation generates a random subkey \"k\". You know this because you implemented the DSA sign operation.  \n",
    "This is the first and easier of two challenges regarding the DSA \"k\" subkey.  \n",
    "Given a known \"k\", it's trivial to recover the DSA private key \"x\":  \n",
    "**x = ((s * k) - H(msg)) / r  mod q**  \n",
    "Do this a couple times to prove to yourself that you grok it. Capture it in a function of some sort.  \n",
    "Now then. I used the parameters above. I generated a keypair. My pubkey is:  \n",
    "**y = 84ad4719d044495496a3201c8ff484feb45b962e7302e56a392aee4  \n",
    "      abab3e4bdebf2955b4736012f21a08084056b19bcd7fee56048e004  \n",
    "      e44984e2f411788efdc837a0d2e5abb7b555039fd243ac01f0fb2ed  \n",
    "      1dec568280ce678e931868d23eb095fde9d3779191b8c0299d6e07b  \n",
    "      bb283e6633451e535c45513b2d33c99ea17**  \n",
    "I signed  \n",
    "For those that envy a MC it can be hazardous to your health  \n",
    "So be friendly, a matter of life and death, just like a etch-a-sketch  \n",
    "(My SHA1 for this string was d2d0714f014a9784047eaeccf956520045c45265; I don't know what NIST wants you to do, but when I convert that hash to an integer I get: 0xd2d0714f014a9784047eaeccf956520045c45265).  \n",
    "I get:  \n",
    "**r = 548099063082341131477253921760299949438196259240  \n",
    "  s = 857042759984254168557880549501802188789837994940**  \n",
    "I signed this string with a broken implemention of DSA that generated \"k\" values between 0 and 2^16. What's my private key?  \n",
    "Its SHA-1 fingerprint (after being converted to hex) is:  \n",
    "**0954edd5e0afe5542a4adf012611a91912a3ec16**  \n",
    "Obviously, it also generates the same signature for that string."
   ]
  },
  {
   "cell_type": "code",
   "execution_count": 160,
   "metadata": {},
   "outputs": [],
   "source": [
    "# Imports\n",
    "import random\n",
    "import hashlib\n",
    "from Crypto.Util.number import getPrime"
   ]
  },
  {
   "cell_type": "markdown",
   "metadata": {},
   "source": [
    "Define a class that implements the DSA algorithm."
   ]
  },
  {
   "cell_type": "code",
   "execution_count": 182,
   "metadata": {},
   "outputs": [],
   "source": [
    "class DSA:\n",
    "    \"\"\"\n",
    "    Implements the DSA public key encryption / decryption.\n",
    "    \"\"\"\n",
    "    \n",
    "    DEFAULT_P = int(\"800000000000000089e1855218a0e7dac38136ffafa72eda7859f2171e25e65eac698c1702578b07dc2a1076da241c76\"\n",
    "                    \"c62d374d8389ea5aeffd3226a0530cc565f3bf6b50929139ebeac04f48c3c84afb796d61e5a4f9a8fda812ab59494232\"\n",
    "                    \"c7d2b4deb50aa18ee9e132bfa85ac4374d7f9091abc3d015efc871a584471bb1\", 16)\n",
    "    DEFAULT_Q = 0xf4f47f05794b256174bba6e9b396a7707e563c5b\n",
    "    DEFAULT_G = int(\"5958c9d3898b224b12672c0b98e06c60df923cb8bc999d119458fef538b8fa4046c8db53039db620c094c9fa077ef389\"\n",
    "                    \"b5322a559946a71903f990f1f7e0e025e2d7f7cf494aff1a0470f5b64c36b625a097f1651fe775323556fe00b3608c88\"\n",
    "                    \"7892878480e99041be601a62166ca6894bdd41a7054ec89f756ba9fc95302291\", 16)\n",
    "        \n",
    "    def __init__(self: object, p = DEFAULT_P, q = DEFAULT_Q, g = DEFAULT_G):\n",
    "        self.p = p\n",
    "        self.q = q\n",
    "        self.g = g\n",
    "        self.x, self. y = self._per_user_key()\n",
    "        self.pvt, self.pub = self.x, self.y\n",
    "        \n",
    "    def _per_user_key(self: object):\n",
    "        x = random.randint(1, self.q - 1)\n",
    "        y = pow(self.g, x, self.p)\n",
    "        return x, y\n",
    "    \n",
    "    def H(self: object, message: bytes) -> bytes:\n",
    "        return int(hashlib.sha1(message).hexdigest(), 16)\n",
    "    \n",
    "    def key_distribution(self: object) -> tuple:\n",
    "        return self.pub\n",
    "    \n",
    "    def generate_signature(self: object, message: bytes) -> (int, int):\n",
    "        \n",
    "        while True:\n",
    "            k = random.randint(1, self.q - 1)\n",
    "            r = pow(self.g, k, self.p) % self.q\n",
    "            if r == 0:\n",
    "                continue\n",
    "                \n",
    "            s = (mod_inverse(k, self.q) * (self.H(message) + self.x * r)) % self.q\n",
    "            if s != 0:\n",
    "                break\n",
    "        return (r, s)\n",
    "    \n",
    "    def verify_signature(self: object, r: int, s: int, message: bytes) -> bool:\n",
    "        if r < 0 or r > self.q:\n",
    "            return False\n",
    "        if s < 0 or s > self.q:\n",
    "            return False\n",
    "        \n",
    "        w = mod_inverse(s, self.q)\n",
    "        u1 = (self.H(message) * w) % self.q\n",
    "        u2 = (r * w) % self.q\n",
    "        \n",
    "        v1 = pow(self.g, u1, self.p)\n",
    "        v2 = pow(self.y, u2, self.p)\n",
    "        \n",
    "        v = ((v1 * v2) % self.p) % self.q\n",
    "        return v == r"
   ]
  },
  {
   "cell_type": "markdown",
   "metadata": {},
   "source": [
    "Function to generate DSA parameters as described in the algorithm."
   ]
  },
  {
   "cell_type": "code",
   "execution_count": 183,
   "metadata": {},
   "outputs": [],
   "source": [
    "def DSA_parameter_generation(key_length: int) -> (int, int, int):\n",
    "    \"\"\"\n",
    "    Generates DSA parameters as described by the pseudo code on wikipedia.\n",
    "    \"\"\"\n",
    "    # Filter object is created, iter is used to fetch values and then tuple is accessed\n",
    "    modulo_list = [(1024, 160), (2048, 224), (2048, 256), (3072, 256)]    \n",
    "\n",
    "    N = filter(lambda x:key_length in x, modulo_list).__next__()[1]\n",
    "    q = getPrime(N)\n",
    "    \n",
    "    p = 0\n",
    "    while True:\n",
    "        p = getPrime(key_length)\n",
    "        if (p - 1) % q == 0:\n",
    "            break\n",
    "\n",
    "    g = 1\n",
    "    h = 0\n",
    "    \n",
    "    while True:\n",
    "        h = random.randint(2, p - 2)\n",
    "        g = h**((p - 1) / q)\n",
    "        if g != 1:\n",
    "            break\n",
    "    \n",
    "    return p, q, g\n",
    "\n",
    "# Takes a lot of time\n",
    "# p, q, g = DSA_parameter_generation(1024)\n",
    "# dsa = DSA(p, q, g)"
   ]
  },
  {
   "cell_type": "markdown",
   "metadata": {},
   "source": [
    "Test if the DSA implementation works."
   ]
  },
  {
   "cell_type": "code",
   "execution_count": 164,
   "metadata": {},
   "outputs": [],
   "source": [
    "dsa = DSA()\n",
    "signature = dsa.generate_signature(b\"Hello World!\")\n",
    "assert dsa.verify_signature(signature[0], signature[1], b\"Hello World!\")"
   ]
  },
  {
   "cell_type": "code",
   "execution_count": 187,
   "metadata": {},
   "outputs": [],
   "source": [
    "def DSA_x_from_k(k: int, q: int, r: int, s: int, message_int: int) -> int:\n",
    "    \"\"\"\n",
    "    Returns the value of x as calculated using other parameters.\n",
    "    \"\"\"\n",
    "    return (((s * k) - message_int) * mod_inverse(r, q)) % q"
   ]
  },
  {
   "cell_type": "code",
   "execution_count": 192,
   "metadata": {},
   "outputs": [],
   "source": [
    "def key_recovery_from_nonce(q: int, r: int, s: int, y: int, message_int: int):\n",
    "    \"\"\"\n",
    "    Verify if the key recovered from nonce is the same as given in question.\n",
    "    \"\"\"\n",
    "    \n",
    "    # Given\n",
    "    target = \"0954edd5e0afe5542a4adf012611a91912a3ec16\"\n",
    "    \n",
    "    # This loop goes over all possibilities.\n",
    "    for k in range(2**16):\n",
    "        x = DSA_x_from_k(k, q, r, s, message_int)\n",
    "        \n",
    "        # [2:] tp skip the 0x\n",
    "        if hashlib.sha1(hex(x)[2:].encode()).hexdigest() == target:\n",
    "            return x\n",
    "    return 0"
   ]
  },
  {
   "cell_type": "code",
   "execution_count": 197,
   "metadata": {},
   "outputs": [
    {
     "name": "stdout",
     "output_type": "stream",
     "text": [
      "> Brute force successful.\n",
      "Private key: 125489817134406768603130881762531825565433175625\n"
     ]
    },
    {
     "data": {
      "text/html": [
       "<div style=\"border:1px solid #c3e6cb;padding:.75rem 3rem;border-radius:.5rem;font-weight:bold;text-align: center;background-color:#d4edda;color:#155724;border-color:#c3e6cb;\">Completed</div>"
      ],
      "text/plain": [
       "<IPython.core.display.HTML object>"
      ]
     },
     "metadata": {},
     "output_type": "display_data"
    }
   ],
   "source": [
    "# Given\n",
    "message = \"For those that envy a MC it can be hazardous to your health\\nSo be friendly, a matter of life and death, just like a etch-a-sketch\\n\"\n",
    "# Used to verify if our implementation works correctly\n",
    "q = 0xf4f47f05794b256174bba6e9b396a7707e563c5b\n",
    "r = 548099063082341131477253921760299949438196259240\n",
    "s = 857042759984254168557880549501802188789837994940\n",
    "y = int(\"84ad4719d044495496a3201c8ff484feb45b962e7302e56a392aee4abab3e4bdebf2955b4736012f21a0808\"\n",
    "        \"4056b19bcd7fee56048e004e44984e2f411788efdc837a0d2e5abb7b555039fd243ac01f0fb2ed1dec56828\"\n",
    "        \"0ce678e931868d23eb095fde9d3779191b8c0299d6e07bbb283e6633451e535c45513b2d33c99ea17\", 16)\n",
    "q = 0xf4f47f05794b256174bba6e9b396a7707e563c5b\n",
    "r = 548099063082341131477253921760299949438196259240\n",
    "s = 857042759984254168557880549501802188789837994940\n",
    "y = int(\"84ad4719d044495496a3201c8ff484feb45b962e7302e56a392aee4abab3e4bdebf2955b4736012f21a0808\"\n",
    "        \"4056b19bcd7fee56048e004e44984e2f411788efdc837a0d2e5abb7b555039fd243ac01f0fb2ed1dec56828\"\n",
    "        \"0ce678e931868d23eb095fde9d3779191b8c0299d6e07bbb283e6633451e535c45513b2d33c99ea17\", 16)\n",
    "\n",
    "key = key_recovery_from_nonce(q, r, s, y, dsa.H(message.encode()))\n",
    "if key != 0:\n",
    "    print(\"> Brute force successful.\\nPrivate key:\", key)\n",
    "    test(True)\n",
    "else:\n",
    "    test(False)"
   ]
  },
  {
   "cell_type": "markdown",
   "metadata": {},
   "source": [
    "# Challenge 44: DSA nonce recovery from repeated nonce\n",
    "[Link](https://cryptopals.com/sets/6/challenges/44)"
   ]
  },
  {
   "cell_type": "markdown",
   "metadata": {},
   "source": [
    "> [In this file find a collection of DSA-signed messages.](https://cryptopals.com/static/challenge-data/44.txt) (NB: each msg has a trailing space.)  \n",
    "These were signed under the following pubkey:  \n",
    "**y = 2d026f4bf30195ede3a088da85e398ef869611d0f68f07\n",
    "    13d51c9c1a3a26c95105d915e2d8cdf26d056b86b8a7b8\n",
    "    5519b1c23cc3ecdc6062650462e3063bd179c2a6581519\n",
    "    f674a61f1d89a1fff27171ebc1b93d4dc57bceb7ae2430\n",
    "    f98a6a4d83d8279ee65d71c1203d2c96d65ebbf7cce9d3\n",
    "    2971c3de5084cce04a2e147821**  \n",
    "(using the same domain parameters as the previous exercise)  \n",
    "It should not be hard to find the messages for which we have accidentally used a repeated \"k\". Given a pair of such messages, you can discover the \"k\" we used with the following formula:  \n",
    "**k = (m1 - m2) / (s1 - s2) mod q**  \n",
    "What's my private key? Its SHA-1 (from hex) is:  \n",
    "**ca8f6f7c66fa362d40760d135b763eb8527d3d52**  "
   ]
  },
  {
   "cell_type": "code",
   "execution_count": 199,
   "metadata": {},
   "outputs": [],
   "source": [
    "# Imports\n",
    "import hashlib"
   ]
  },
  {
   "cell_type": "code",
   "execution_count": 200,
   "metadata": {},
   "outputs": [],
   "source": [
    "# Given\n",
    "data = open(\"44.txt\", \"r\").read()\n",
    "q = 0xf4f47f05794b256174bba6e9b396a7707e563c5b\n",
    "y = int(\"2d026f4bf30195ede3a088da85e398ef869611d0f68f0713d51c9c1a3a26c95105d915e2d8cdf26d056b86b8a7b8\"\n",
    "    \"5519b1c23cc3ecdc6062650462e3063bd179c2a6581519f674a61f1d89a1fff27171ebc1b93d4dc57bceb7ae2430f98a\"\n",
    "    \"6a4d83d8279ee65d71c1203d2c96d65ebbf7cce9d32971c3de5084cce04a2e147821\", 16)\n",
    "\n",
    "target = \"ca8f6f7c66fa362d40760d135b763eb8527d3d52\""
   ]
  },
  {
   "cell_type": "markdown",
   "metadata": {},
   "source": [
    "Find two pairs of signatures that used the same k.  \n",
    "This is easy to find, because when the same k is used r will be the same, since r depends only on (g, p, q and k), and (g, p, q) are fixed in our implementation."
   ]
  },
  {
   "cell_type": "code",
   "execution_count": 204,
   "metadata": {},
   "outputs": [],
   "source": [
    "def nonce_recovery_from_repeated_nonce(message_dicts: dict, q: int) -> int:\n",
    "    \"\"\"\n",
    "    Finds the signature pair using the same value for k from the given strings.\n",
    "    \"\"\"\n",
    "\n",
    "    # Find indices of signatures with matching r.\n",
    "    found = False\n",
    "    r1, s1, s2, m1, m2 = 0, 0, 0, 0, 0\n",
    "    for i in range(len(message_dicts)):\n",
    "        for j in range(len(message_dicts[i:])):\n",
    "            if message_dicts[i][\"r\"] == message_dicts[j][\"r\"]:\n",
    "                m1 = message_dicts[i][\"m\"]\n",
    "                m2 = message_dicts[j][\"m\"]\n",
    "                if m1 == m2:\n",
    "                    continue\n",
    "                found = True\n",
    "                r1 = message_dicts[i][\"r\"]\n",
    "                s1 = message_dicts[i][\"s\"]\n",
    "                s2 = message_dicts[j][\"s\"]                \n",
    "                break\n",
    "        if found:\n",
    "            break\n",
    "    # Calculate the value of k once matching r has been found.\n",
    "    k = (((m1 - m2) % q) * mod_inverse((s1 - s2) % q, q)) % q\n",
    "    return DSA_x_from_k(k, q, r1, s1, m1)"
   ]
  },
  {
   "cell_type": "code",
   "execution_count": 205,
   "metadata": {},
   "outputs": [],
   "source": [
    "data_list = data.split('\\n')\n",
    "message_dicts = []\n",
    "for i in range(0, len(data_list)-4, 4):\n",
    "    message_dicts.append({\"msg\":data_list[i][5:], \"s\":int(data_list[i + 1][3:]), \"r\":int(data_list[i + 2][3:]), \"m\":int(data_list[i + 3][3:], 16)})"
   ]
  },
  {
   "cell_type": "code",
   "execution_count": 206,
   "metadata": {},
   "outputs": [
    {
     "data": {
      "text/html": [
       "<div style=\"border:1px solid #c3e6cb;padding:.75rem 3rem;border-radius:.5rem;font-weight:bold;text-align: center;background-color:#d4edda;color:#155724;border-color:#c3e6cb;\">Completed</div>"
      ],
      "text/plain": [
       "<IPython.core.display.HTML object>"
      ]
     },
     "metadata": {},
     "output_type": "display_data"
    }
   ],
   "source": [
    "recovered_x = nonce_recovery_from_repeated_nonce(message_dicts, q)\n",
    "test(hashlib.sha1(hex(recovered_x)[2:].encode()).hexdigest() == target)"
   ]
  },
  {
   "cell_type": "markdown",
   "metadata": {},
   "source": [
    "# Challenge 45: DSA parameter tampering\n",
    "[Link](https://cryptopals.com/sets/6/challenges/45)"
   ]
  },
  {
   "cell_type": "markdown",
   "metadata": {},
   "source": [
    "> Take your DSA code from the previous exercise. Imagine it as part of an algorithm in which the client was allowed to propose domain parameters (the p and q moduli, and the g generator).  \n",
    "This would be bad, because attackers could trick victims into accepting bad parameters. Vaudenay gave two examples of bad generator parameters: generators that were 0 mod p, and generators that were 1 mod p.  \n",
    "Use the parameters from the previous exercise, but substitute 0 for \"g\". Generate a signature. You will notice something bad. Verify the signature. Now verify any other signature, for any other string.  \n",
    "Now, try (p+1) as \"g\". With this \"g\", you can generate a magic signature s, r for any DSA public key that will validate against any string. For arbitrary z:  \n",
    "**r = ((y\\*\\*z) % p) % q  \n",
    "  s = r / z --- % q**  \n",
    "Sign \"Hello, world\". And \"Goodbye, world\"."
   ]
  },
  {
   "cell_type": "markdown",
   "metadata": {},
   "source": [
    "The DSA implementation from previous question, but with an introduced vulnerability."
   ]
  },
  {
   "cell_type": "code",
   "execution_count": 89,
   "metadata": {},
   "outputs": [],
   "source": [
    "class DSA_flawed(DSA):\n",
    "    \"\"\"\n",
    "    Extends the DSA public key encryption / decryption.\n",
    "    Allows r = 0, hence flawed.\n",
    "    \"\"\"\n",
    "    \n",
    "    def generate_signature(self: object, message: bytes) -> (int, int):\n",
    "        while True:\n",
    "            k = random.randint(1, self.q - 1)\n",
    "            r = pow(self.g, k, self.p) % self.q                \n",
    "            s = (mod_inverse(k, self.q) * (self.H(message) + self.x * r)) % self.q\n",
    "            if s != 0:\n",
    "                break\n",
    "        return (r, s)"
   ]
  },
  {
   "cell_type": "markdown",
   "metadata": {},
   "source": [
    "Test if the DSA flawed implementation works."
   ]
  },
  {
   "cell_type": "code",
   "execution_count": 90,
   "metadata": {},
   "outputs": [
    {
     "name": "stdout",
     "output_type": "stream",
     "text": [
      "> Message: Original message\n",
      "> Signature generated for g = 0.\n",
      "r: 0 \n",
      "s: 46626278488071279735961745626833428115731812398\n",
      "> Signature successfully verified.\n",
      "> Trying to verify signature of initial message for message: Tampered message!\n",
      "> Values from previous signature:\n",
      "r: 0 \n",
      "s: 46626278488071279735961745626833428115731812398\n",
      "> Signature successfully verified.\n"
     ]
    }
   ],
   "source": [
    "dsa = DSA_flawed(g = 0)\n",
    "message = \"Original message\"\n",
    "\n",
    "signature = dsa.generate_signature(message.encode())\n",
    "print(\"> Message:\", message)\n",
    "print(\"> Signature generated for g = 0.\\nr:\", signature[0], \"\\ns:\", signature[1])\n",
    "check = dsa.verify_signature(signature[0], signature[1], message.encode())\n",
    "if check:\n",
    "    print(\"> Signature successfully verified.\")\n",
    "    \n",
    "tampered_message = \"Tampered message!\"\n",
    "print(\"> Trying to verify signature of initial message for message:\", tampered_message)\n",
    "print(\"> Values from previous signature:\\nr:\", signature[0], \"\\ns:\", signature[1])\n",
    "check = dsa.verify_signature(signature[0], signature[1], tampered_message.encode())\n",
    "if check:\n",
    "    print(\"> Signature successfully verified.\")"
   ]
  },
  {
   "cell_type": "code",
   "execution_count": 207,
   "metadata": {},
   "outputs": [],
   "source": [
    "def DSA_parameter_tampering() -> bool:\n",
    "    \"\"\"\n",
    "    Parameter tampering for a flawed DSA.\n",
    "    Exploits the vulnerability where value of r is not checked for zero.\n",
    "    \"\"\"\n",
    "\n",
    "    dsa = DSA_flawed(g = DSA.DEFAULT_P + 1)\n",
    "    message = \"g = (p + 1) DSA\"\n",
    "    signature = dsa.generate_signature(message.encode())\n",
    "    print(\"> Message:\", message)\n",
    "    print(\"> Signature generated for g = (p + 1).\\nr:\", signature[0], \"\\ns:\", signature[1])\n",
    "    check = dsa.verify_signature(signature[0], signature[1], message.encode())\n",
    "    if check:\n",
    "        print(\"> Signature successfully verified for original message.\")\n",
    "    \n",
    "    z = random.randint(1, 100)\n",
    "    y = dsa.key_distribution()\n",
    "    forged_r = pow(y, z, DSA_flawed.DEFAULT_P) % DSA_flawed.DEFAULT_Q\n",
    "    forged_s = (forged_r * mod_inverse(z, dsa.DEFAULT_Q)) % dsa.DEFAULT_Q\n",
    "    \n",
    "    message1 = \"Hello, world\"\n",
    "    message2 = \"Goodbye, world\"\n",
    "    \n",
    "    print(\"> Values from forged signature:\\nr:\", forged_r, \"\\ns:\", forged_s)\n",
    "    \n",
    "    print(\"> Message 1:\", message1)\n",
    "    if dsa.verify_signature(forged_r, forged_s, message1.encode()):\n",
    "        print(\"> Signature successfully verified for message 1.\")\n",
    "    print(\"> Message 2:\", message2)\n",
    "    if dsa.verify_signature(forged_r, forged_s, message2.encode()):\n",
    "        print(\"> Signature successfully verified for message 2.\")\n",
    "        return True"
   ]
  },
  {
   "cell_type": "code",
   "execution_count": 208,
   "metadata": {},
   "outputs": [
    {
     "name": "stdout",
     "output_type": "stream",
     "text": [
      "> Message: g = (p + 1) DSA\n",
      "> Signature generated for g = (p + 1).\n",
      "r: 1 \n",
      "s: 1183050639739840236315778038285175203549411542889\n",
      "> Signature successfully verified for original message.\n",
      "> Values from forged signature:\n",
      "r: 1 \n",
      "s: 415754274198824669525470040862452061924206597922\n",
      "> Message 1: Hello, world\n",
      "> Signature successfully verified for message 1.\n",
      "> Message 2: Goodbye, world\n",
      "> Signature successfully verified for message 2.\n"
     ]
    },
    {
     "data": {
      "text/html": [
       "<div style=\"border:1px solid #c3e6cb;padding:.75rem 3rem;border-radius:.5rem;font-weight:bold;text-align: center;background-color:#d4edda;color:#155724;border-color:#c3e6cb;\">Completed</div>"
      ],
      "text/plain": [
       "<IPython.core.display.HTML object>"
      ]
     },
     "metadata": {},
     "output_type": "display_data"
    }
   ],
   "source": [
    "test(DSA_parameter_tampering())"
   ]
  },
  {
   "cell_type": "markdown",
   "metadata": {},
   "source": [
    "# Challenge 46: RSA parity oracle\n",
    "[Link](https://cryptopals.com/sets/6/challenges/46)"
   ]
  },
  {
   "cell_type": "markdown",
   "metadata": {},
   "source": [
    "> Generate a 1024 bit RSA key pair.  \n",
    "Write an oracle function that uses the private key to answer the question \"is the plaintext of this message even or odd\" (is the last bit of the message 0 or 1). Imagine for instance a server that accepted RSA-encrypted messages and checked the parity of their decryption to validate them, and spat out an error if they were of the wrong parity.  \n",
    "Anyways: function returning true or false based on whether the decrypted plaintext was even or odd, and nothing else.  \n",
    "Take the following string and un-Base64 it in your code (without looking at it!) and encrypt it to the public key, creating a ciphertext:\n",
    "**VGhhdCdzIHdoeSBJIGZvdW5kIHlvdSBkb24ndCBwbGF5IGFyb3VuZCB3aXRoIHRoZSBGdW5reSBDb2xkIE1lZGluYQ==**  \n",
    "With your oracle function, you can trivially decrypt the message.\n",
    "Here's why:  \n",
    "* RSA ciphertexts are just numbers. You can do trivial math on them. You can for instance multiply a ciphertext by the RSA-encryption of another number; the corresponding plaintext will be the product of those two numbers.  \n",
    "* If you double a ciphertext (multiply it by (2**e)%n), the resulting plaintext will (obviously) be either even or odd.\n",
    "* If the plaintext after doubling is even, doubling the plaintext didn't wrap the modulus --- the modulus is a prime number. That means the plaintext is less than half the modulus.  \n",
    "\n",
    "> You can repeatedly apply this heuristic, once per bit of the message, checking your oracle function each time.  \n",
    "Your decryption function starts with bounds for the plaintext of [0,n].  \n",
    "Each iteration of the decryption cuts the bounds in half; either the upper bound is reduced by half, or the lower bound is.  \n",
    "After log2(n) iterations, you have the decryption of the message.  \n",
    "Print the upper bound of the message as a string at each iteration; you'll see the message decrypt \"hollywood style\".  \n",
    "Decrypt the string (after encrypting it to a hidden private key) above.  "
   ]
  },
  {
   "cell_type": "code",
   "execution_count": 209,
   "metadata": {},
   "outputs": [],
   "source": [
    "# Imports\n",
    "import math\n",
    "import base64\n",
    "import decimal"
   ]
  },
  {
   "cell_type": "code",
   "execution_count": 216,
   "metadata": {},
   "outputs": [],
   "source": [
    "# Given\n",
    "given_string = \"VGhhdCdzIHdoeSBJIGZvdW5kIHlvdSBkb24ndCBwbGF5IGFyb3VuZCB3aXRoIHRoZSBGdW5reSBDb2xkIE1lZGluYQ==\""
   ]
  },
  {
   "cell_type": "markdown",
   "metadata": {},
   "source": [
    "Answers the question mentioned in the challenge:  \n",
    "\"is the plaintext of this message even or odd\" (is the last bit of the message 0 or 1)"
   ]
  },
  {
   "cell_type": "code",
   "execution_count": 212,
   "metadata": {},
   "outputs": [],
   "source": [
    "def check_parity(ciphertext: int, rsa: object) -> int:\n",
    "    \"\"\"\n",
    "    Returns the last bit of the number.\n",
    "    \"\"\"\n",
    "    return rsa.decryptnum(ciphertext) & 1"
   ]
  },
  {
   "cell_type": "markdown",
   "metadata": {},
   "source": [
    "Test the parity check function."
   ]
  },
  {
   "cell_type": "code",
   "execution_count": 213,
   "metadata": {},
   "outputs": [
    {
     "name": "stdout",
     "output_type": "stream",
     "text": [
      "1\n"
     ]
    }
   ],
   "source": [
    "rsa = RSA(1024)\n",
    "ciphertext = rsa.encrypt(b\"Hello\")\n",
    "print(check_parity(ciphertext, rsa))"
   ]
  },
  {
   "cell_type": "code",
   "execution_count": 214,
   "metadata": {},
   "outputs": [],
   "source": [
    "def parity_attack(message: bytes, rsa: object) -> int:\n",
    "    \"\"\"\n",
    "    Parity attack on RSA\n",
    "    \"\"\"\n",
    "    \n",
    "    (_, n) = rsa.pub\n",
    "    ciphertext = rsa.encryptnum(int.from_bytes(message, \"big\"))\n",
    "    \n",
    "    # encrypt multiplier\n",
    "    multiplier = rsa.encryptnum(2)\n",
    "    \n",
    "    # Initialize lower and upper bound.\n",
    "    # I need to use Decimal because it allows me to set the precision for the floating point\n",
    "    # numbers, which we will need when doing the binary search divisions.\n",
    "    lower_bound = decimal.Decimal(0)\n",
    "    upper_bound = decimal.Decimal(n)\n",
    "    \n",
    "    # Compute the number of iterations that we have to do\n",
    "    num_iter = int(math.ceil(math.log(n, 2)))\n",
    "    # Set the precision of the floating point number to be enough\n",
    "    decimal.getcontext().prec = num_iter\n",
    "\n",
    "    for _ in range(num_iter):\n",
    "        ciphertext = (ciphertext * multiplier) % n\n",
    "        \n",
    "        # checking parity\n",
    "        if check_parity(ciphertext, rsa) & 1:\n",
    "            lower_bound = (lower_bound + upper_bound) / 2\n",
    "        else:\n",
    "            upper_bound = (lower_bound + upper_bound) / 2\n",
    "\n",
    "    # Return the binary version of the upper_bound (converted from Decimal to int)\n",
    "    return int(upper_bound).to_bytes((int(upper_bound).bit_length() + 7) // 8, \"big\").decode(\"utf-8\")"
   ]
  },
  {
   "cell_type": "code",
   "execution_count": 102,
   "metadata": {},
   "outputs": [],
   "source": [
    "byte_string = base64.b64decode(given_string)\n",
    "plaintext = parity_attack(byte_string, RSA(1024))"
   ]
  },
  {
   "cell_type": "code",
   "execution_count": 103,
   "metadata": {},
   "outputs": [
    {
     "data": {
      "text/html": [
       "<div style=\"border:1px solid #c3e6cb;padding:.75rem 3rem;border-radius:.5rem;font-weight:bold;text-align: center;background-color:#d4edda;color:#155724;border-color:#c3e6cb;\">Completed</div>"
      ],
      "text/plain": [
       "<IPython.core.display.HTML object>"
      ]
     },
     "metadata": {},
     "output_type": "display_data"
    }
   ],
   "source": [
    "test(plaintext == byte_string.decode(\"utf-8\"))"
   ]
  },
  {
   "cell_type": "markdown",
   "metadata": {},
   "source": [
    "# Challenge 47: Bleichenbacher's PKCS 1.5 Padding Oracle (Simple Case)\n",
    "[Link](https://cryptopals.com/sets/6/challenges/47)"
   ]
  },
  {
   "cell_type": "markdown",
   "metadata": {},
   "source": [
    "> Let us Google this for you: [\"Chosen ciphertext attacks against protocols based on the RSA encryption standard\"](https://lmgtfy.com/?q=%22Chosen+ciphertext+attacks+against+protocols+based+on+the+RSA+encryption+standard%22)  \n",
    "This is Bleichenbacher from CRYPTO '98; I get a bunch of .ps versions on the first search page.  \n",
    "Read the paper. It describes a padding oracle attack on PKCS#1v1.5. The attack is similar in spirit to the CBC padding oracle you built earlier; it's an \"adaptive chosen ciphertext attack\", which means you start with a valid ciphertext and repeatedly corrupt it, bouncing the adulterated ciphertexts off the target to learn things about the original.  \n",
    "This is a common flaw even in modern cryptosystems that use RSA.  \n",
    "It's also the most fun you can have building a crypto attack. It involves 9th grade math, but also has you implementing an algorithm that is complex on par with finding a minimum cost spanning tree.  \n",
    "The setup:  \n",
    "* Build an oracle function, just like you did in the last exercise, but have it check for plaintext[0] == 0 and plaintext[1] == 2.\n",
    "* Generate a 256 bit keypair (that is, p and q will each be 128 bit primes), [n, e, d].\n",
    "* Plug d and n into your oracle function.\n",
    "* PKCS1.5-pad a short message, like \"kick it, CC\", and call it \"m\". Encrypt to to get \"c\".\n",
    "* Decrypt \"c\" using your padding oracle.\n",
    "\n",
    "> For this challenge, we've used an untenably small RSA modulus (you could factor this keypair instantly). That's because this exercise targets a specific step in the Bleichenbacher paper --- Step 2c, which implements a fast, nearly O(log n) search for the plaintext.  \n",
    "Things you want to keep in mind as you read the paper:  \n",
    "* RSA ciphertexts are just numbers.\n",
    "* RSA is \"homomorphic\" with respect to multiplication, which means you can multiply c * RSA(2) to get a c' that will decrypt to plaintext * 2. This is mindbending but easy to see if you play with it in code --- try multiplying ciphertexts with the RSA encryptions of numbers so you know you grok it.\n",
    "* What you need to grok for this challenge is that Bleichenbacher uses multiplication on ciphertexts the way the CBC oracle uses XORs of random blocks.\n",
    "* A PKCS#1v1.5 conformant plaintext, one that starts with 00:02, must be a number between 02:00:00...00 and 02:FF:FF..FF --- in other words, 2B and 3B-1, where B is the bit size of the modulus minus the first 16 bits. When you see 2B and 3B, that's the idea the paper is playing with.\n",
    "\n",
    "> To decrypt \"c\", you'll need Step 2a from the paper (the search for the first \"s\" that, when encrypted and multiplied with the ciphertext, produces a conformant plaintext), Step 2c, the fast O(log n) search, and Step 3.  \n",
    "Your Step 3 code is probably not going to need to handle multiple ranges.  \n",
    "We recommend you just use the raw math from paper (check, check, double check your translation to code) and not spend too much time trying to grok how the math works."
   ]
  },
  {
   "cell_type": "code",
   "execution_count": 104,
   "metadata": {},
   "outputs": [],
   "source": [
    "# Imports\n",
    "import os\n",
    "import random"
   ]
  },
  {
   "cell_type": "code",
   "execution_count": 217,
   "metadata": {},
   "outputs": [],
   "source": [
    "# Given\n",
    "message = \"kick it, CC\""
   ]
  },
  {
   "cell_type": "markdown",
   "metadata": {},
   "source": [
    "RSA Oracle extended to check for PKCS1 padding."
   ]
  },
  {
   "cell_type": "code",
   "execution_count": 218,
   "metadata": {},
   "outputs": [],
   "source": [
    "class RSA_PKCS1_Oracle(RSA):\n",
    "    \"\"\"\n",
    "    Extends the RSA class by making the decryption PKCS 1.5 compliant and by adding a method\n",
    "    to verify the padding of data.\n",
    "    \"\"\"\n",
    "    \n",
    "    def PKCS1_Pad(self: object, message: bytes) -> bytes:\n",
    "        \"\"\"\n",
    "        Pads the given binary data conforming to the PKCS 1.5 format.\n",
    "        \"\"\"\n",
    "        \n",
    "        (e, n) = self.pub\n",
    "        byte_length = (n.bit_length() + 7) // 8\n",
    "        padding_string = os.getrandom(byte_length - 3 - len(message))\n",
    "        return b\"\\x00\\x02\" + padding_string + b'\\x00' + message\n",
    "  \n",
    "    def PKCS1_check_padding(self: object, ciphertext: int) -> bool:\n",
    "        \"\"\"\n",
    "        Decrypts the input data and returns whether its padding is correct according to PKCS 1.5.\n",
    "        \"\"\"\n",
    "        \n",
    "        _, n = self.pub\n",
    "        k = (n.bit_length() + 7) // 8\n",
    "        pbytes = self.decrypt(ciphertext)\n",
    "        pbytes = (b'\\x00' * (k - len(pbytes))) + pbytes\n",
    "        return pbytes[0:2] == b'\\x00\\x02'"
   ]
  },
  {
   "cell_type": "markdown",
   "metadata": {},
   "source": [
    "Function to aid in calculation."
   ]
  },
  {
   "cell_type": "code",
   "execution_count": 219,
   "metadata": {},
   "outputs": [],
   "source": [
    "def ceil(a: int, b: int) -> int:\n",
    "    \"\"\"\n",
    "    Returns the ceil of division between two numbers.\n",
    "    \"\"\"\n",
    "    return (a + b - 1) // b"
   ]
  },
  {
   "cell_type": "markdown",
   "metadata": {},
   "source": [
    "Function aid in Padding Oracle Attack."
   ]
  },
  {
   "cell_type": "code",
   "execution_count": 220,
   "metadata": {},
   "outputs": [],
   "source": [
    "def append_interval(M_narrow: list, lower_bound: int, upper_bound: int):\n",
    "    \"\"\"\n",
    "    Append the passed bounds as an interval to the list.\n",
    "    Write over the interval if tighter constraints are passed.\n",
    "    Skip if it already exists.\n",
    "    \"\"\"\n",
    "    \n",
    "    # Check if there exist an interval which is overlapping with the lower_bound and\n",
    "    # upper_bound of the new interval we want to append\n",
    "    for i, (a, b) in enumerate(M_narrow):\n",
    "\n",
    "        # If there is an overlap, then replace the boundaries of the overlapping\n",
    "        # interval with the wider (or equal) boundaries of the new merged interval\n",
    "        if not (b < lower_bound or a > upper_bound):\n",
    "            new_a = min(lower_bound, a)\n",
    "            new_b = max(upper_bound, b)\n",
    "            M_narrow[i] = new_a, new_b\n",
    "            return\n",
    "\n",
    "    # If there was no interval overlapping with the one we want to add, add\n",
    "    # the new interval as a standalone interval to the list\n",
    "    M_narrow.append((lower_bound, upper_bound))\n",
    "    return"
   ]
  },
  {
   "cell_type": "code",
   "execution_count": 221,
   "metadata": {},
   "outputs": [],
   "source": [
    "def padding_oracle_attack(ciphertext: bytes, rsa: object):\n",
    "    \"\"\"\n",
    "    Performs the padding oracle attack on RSA ciphertext.\n",
    "    \"\"\"\n",
    "    \n",
    "    \n",
    "    # Setting initial values\n",
    "    \n",
    "    (e, n) = rsa.pub\n",
    "    k = (n.bit_length() + 7) // 8 # byte length\n",
    "    B = 2**(8 * (k - 2))\n",
    "    M = [(2 * B, 3 * B - 1)]\n",
    "    i = 1\n",
    "    \n",
    "    if not rsa.PKCS1_check_padding(ciphertext):\n",
    "        #Step 1 Blinding\n",
    "        while True:\n",
    "            s = random.randint(0, n - 1)\n",
    "            c0 = (ciphertext * pow(s, e, n)) % n\n",
    "            if rsa.PKCS1_check_padding(c0):\n",
    "                break\n",
    "\n",
    "    else:\n",
    "        c0 = ciphertext\n",
    "        \n",
    "    # Step 2 Searching for PKCS conforming messages\n",
    "    while True:\n",
    "        # 2a\n",
    "        if i == 1:\n",
    "            s = (n + 3 * B - 1) // (3 * B)\n",
    "            while True:\n",
    "                c = (c0 * pow(s, e, n)) % n\n",
    "                if rsa.PKCS1_check_padding(c):\n",
    "                    break\n",
    "                s += 1\n",
    "        \n",
    "        #2c\n",
    "        # Step 2.c: Searching with one interval left\n",
    "        elif len(M) == 1:\n",
    "            a, b = M[0]\n",
    "\n",
    "            # Check if the interval contains the solution\n",
    "            if a == b:\n",
    "\n",
    "                # And if it does, return it as bytes\n",
    "                return b'\\x00' + (a).to_bytes((a.bit_length() +7) // 8, \"big\")\n",
    "\n",
    "            r = ceil(2 * (b * s - 2 * B), n)\n",
    "            s = ceil(2 * B + r * n, b)\n",
    "\n",
    "            while True:\n",
    "                c = (c0 * pow(s, e, n)) % n\n",
    "                if rsa.PKCS1_check_padding(c):\n",
    "                    break\n",
    "\n",
    "                s += 1\n",
    "                if s > (3 * B + r * n) // a:\n",
    "                    r += 1\n",
    "                    s = ceil((2 * B + r * n), b)\n",
    "\n",
    "        # Step 3: Narrowing the set of solutions\n",
    "        M_new = []\n",
    "\n",
    "        for a, b in M:\n",
    "            min_r = ceil(a * s - 3 * B + 1, n)\n",
    "            max_r = (b * s - 2 * B) // n\n",
    "\n",
    "            for r in range(min_r, max_r + 1):\n",
    "                l = max(a, ceil(2 * B + r * n, s))\n",
    "                u = min(b, (3 * B - 1 + r * n) // s)\n",
    "\n",
    "                if l > u:\n",
    "                    raise Exception('Unexpected error: l > u in step 3')\n",
    "\n",
    "                append_interval(M_new, l, u)\n",
    "\n",
    "        if len(M_new) == 0:\n",
    "            raise Exception('Unexpected error: there are 0 intervals.')\n",
    "\n",
    "        M = M_new\n",
    "        i += 1"
   ]
  },
  {
   "cell_type": "code",
   "execution_count": 222,
   "metadata": {},
   "outputs": [
    {
     "name": "stdout",
     "output_type": "stream",
     "text": [
      "> Ciphertext padding verified.\n"
     ]
    }
   ],
   "source": [
    "rsa = RSA_PKCS1_Oracle(256)\n",
    "m = rsa.PKCS1_Pad(message.encode())\n",
    "\n",
    "c = rsa.encrypt(m)\n",
    "assert rsa.PKCS1_check_padding(c)\n",
    "print(\"> Ciphertext padding verified.\")\n",
    "recovered_plaintext = padding_oracle_attack(c, rsa)"
   ]
  },
  {
   "cell_type": "code",
   "execution_count": 223,
   "metadata": {},
   "outputs": [
    {
     "data": {
      "text/html": [
       "<div style=\"border:1px solid #c3e6cb;padding:.75rem 3rem;border-radius:.5rem;font-weight:bold;text-align: center;background-color:#d4edda;color:#155724;border-color:#c3e6cb;\">Completed</div>"
      ],
      "text/plain": [
       "<IPython.core.display.HTML object>"
      ]
     },
     "metadata": {},
     "output_type": "display_data"
    }
   ],
   "source": [
    "test(recovered_plaintext == m)"
   ]
  },
  {
   "cell_type": "markdown",
   "metadata": {},
   "source": [
    "# Challenge 48: Bleichenbacher's PKCS 1.5 Padding Oracle (Complete Case)\n",
    "[Link](https://cryptopals.com/sets/6/challenges/48)"
   ]
  },
  {
   "cell_type": "markdown",
   "metadata": {},
   "source": [
    "> This is a continuation of challenge #47; it implements the complete BB'98 attack.  \n",
    "Set yourself up the way you did in #47, but this time generate a 768 bit modulus.  \n",
    "To make the attack work with a realistic RSA keypair, you need to reproduce step 2b from the paper, and your implementation of Step 3 needs to handle multiple ranges.  \n",
    "The full Bleichenbacher attack works basically like this:\n",
    "* Starting from the smallest 's' that could possibly produce a plaintext bigger than 2B, iteratively search for an 's' that produces a conformant plaintext.\n",
    "* For our known 's1' and 'n', solve m1=m0s1-rn (again: just a definition of modular multiplication) for 'r', the number of times we've wrapped the modulus.\n",
    "* 'm0' and 'm1' are unknowns, but we know both are conformant PKCS#1v1.5 plaintexts, and so are between [2B,3B].\n",
    "* We substitute the known bounds for both, leaving only 'r' free, and solve for a range of possible 'r' values. This range should be small!\n",
    "* Solve m1=m0s1-rn again but this time for 'm0', plugging in each value of 'r' we generated in the last step. This gives us new intervals to work with. Rule out any interval that is outside 2B,3B.\n",
    "* Repeat the process for successively higher values of 's'. Eventually, this process will get us down to just one interval, whereupon we're back to exercise #47.\n",
    "\n",
    "> What happens when we get down to one interval is, we stop blindly incrementing 's'; instead, we start rapidly growing 'r' and backing it out to 's' values by solving m1=m0s1-rn for 's' instead of 'r' or 'm0'. So much algebra! Make your teenage son do it for you! *Note: does not work well in practice*\n"
   ]
  },
  {
   "cell_type": "code",
   "execution_count": 109,
   "metadata": {},
   "outputs": [],
   "source": [
    "# Imports\n",
    "import os\n",
    "import random"
   ]
  },
  {
   "cell_type": "code",
   "execution_count": 224,
   "metadata": {},
   "outputs": [],
   "source": [
    "# Given\n",
    "message = \"kick it, CC\""
   ]
  },
  {
   "cell_type": "code",
   "execution_count": 110,
   "metadata": {},
   "outputs": [],
   "source": [
    "def padding_oracle_attack(ciphertext: bytes, rsa: object):\n",
    "    \"\"\"\n",
    "    Performs the padding oracle attack on RSA ciphertext.\n",
    "    \"\"\"\n",
    "    \n",
    "    # Setting initial values\n",
    "    \n",
    "    (e, n) = rsa.pub\n",
    "    k = (n.bit_length() + 7) // 8 # byte length\n",
    "    B = 2**(8 * (k - 2))\n",
    "    M = [(2 * B, 3 * B - 1)]\n",
    "    i = 1\n",
    "    \n",
    "    if not rsa.PKCS1_check_padding(ciphertext):\n",
    "        #Step 1 Blinding\n",
    "        while True:\n",
    "            s = random.randint(0, n - 1)\n",
    "            c0 = (ciphertext * pow(s, e, n)) % n\n",
    "            if rsa.PKCS1_check_padding(c0):\n",
    "                break\n",
    "\n",
    "    else:\n",
    "        c0 = ciphertext\n",
    "        \n",
    "    # Step 2 Searching for PKCS conforming messages\n",
    "    while True:\n",
    "        # 2a\n",
    "        if i == 1:\n",
    "            s = (n + 3 * B - 1) // (3 * B)\n",
    "            while True:\n",
    "                c = (c0 * pow(s, e, n)) % n\n",
    "                if rsa.PKCS1_check_padding(c):\n",
    "                    break\n",
    "                s += 1\n",
    "\n",
    "        #2b\n",
    "        elif len(M) >= 2:\n",
    "            while True:\n",
    "                s += 1\n",
    "                c = (c0 * pow(s, e, n)) % n\n",
    "                if rsa.PKCS1_check_padding(c):\n",
    "                    break\n",
    "        \n",
    "        #2c\n",
    "        # Step 2.c: Searching with one interval left\n",
    "        elif len(M) == 1:\n",
    "            a, b = M[0]\n",
    "\n",
    "            # Check if the interval contains the solution\n",
    "            if a == b:\n",
    "\n",
    "                # And if it does, return it as bytes\n",
    "                return b'\\x00' + (a).to_bytes((a.bit_length() +7) // 8, \"big\")\n",
    "\n",
    "            r = ceil(2 * (b * s - 2 * B), n)\n",
    "            s = ceil(2 * B + r * n, b)\n",
    "\n",
    "            while True:\n",
    "                c = (c0 * pow(s, e, n)) % n\n",
    "                if rsa.PKCS1_check_padding(c):\n",
    "                    break\n",
    "\n",
    "                s += 1\n",
    "                if s > (3 * B + r * n) // a:\n",
    "                    r += 1\n",
    "                    s = ceil((2 * B + r * n), b)\n",
    "\n",
    "        # Step 3: Narrowing the set of solutions\n",
    "        M_new = []\n",
    "\n",
    "        for a, b in M:\n",
    "            min_r = ceil(a * s - 3 * B + 1, n)\n",
    "            max_r = (b * s - 2 * B) // n\n",
    "\n",
    "            for r in range(min_r, max_r + 1):\n",
    "                l = max(a, ceil(2 * B + r * n, s))\n",
    "                u = min(b, (3 * B - 1 + r * n) // s)\n",
    "\n",
    "                if l > u:\n",
    "                    raise Exception('Unexpected error: l > u in step 3')\n",
    "\n",
    "                append_interval(M_new, l, u)\n",
    "\n",
    "        if len(M_new) == 0:\n",
    "            raise Exception('Unexpected error: there are 0 intervals.')\n",
    "\n",
    "        M = M_new\n",
    "        i += 1"
   ]
  },
  {
   "cell_type": "code",
   "execution_count": 111,
   "metadata": {},
   "outputs": [
    {
     "name": "stdout",
     "output_type": "stream",
     "text": [
      "> Ciphertext padding verified.\n"
     ]
    }
   ],
   "source": [
    "rsa = RSA_PKCS1_Oracle(768)\n",
    "m = rsa.PKCS1_Pad(message.encode())\n",
    "\n",
    "c = rsa.encrypt(m)\n",
    "assert rsa.PKCS1_check_padding(c)\n",
    "print(\"> Ciphertext padding verified.\")\n",
    "recovered_plaintext = padding_oracle_attack(c, rsa)"
   ]
  },
  {
   "cell_type": "code",
   "execution_count": 112,
   "metadata": {},
   "outputs": [
    {
     "data": {
      "text/html": [
       "<div style=\"border:1px solid #c3e6cb;padding:.75rem 3rem;border-radius:.5rem;font-weight:bold;text-align: center;background-color:#d4edda;color:#155724;border-color:#c3e6cb;\">Completed</div>"
      ],
      "text/plain": [
       "<IPython.core.display.HTML object>"
      ]
     },
     "metadata": {},
     "output_type": "display_data"
    }
   ],
   "source": [
    "test(recovered_plaintext == m)"
   ]
  },
  {
   "cell_type": "code",
   "execution_count": null,
   "metadata": {},
   "outputs": [],
   "source": []
  }
 ],
 "metadata": {
  "kernelspec": {
   "display_name": "Python 3",
   "language": "python",
   "name": "python3"
  },
  "language_info": {
   "codemirror_mode": {
    "name": "ipython",
    "version": 3
   },
   "file_extension": ".py",
   "mimetype": "text/x-python",
   "name": "python",
   "nbconvert_exporter": "python",
   "pygments_lexer": "ipython3",
   "version": "3.8.1"
  }
 },
 "nbformat": 4,
 "nbformat_minor": 4
}
