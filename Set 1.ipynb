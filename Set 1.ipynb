{
 "cells": [
  {
   "cell_type": "code",
   "execution_count": 1,
   "metadata": {},
   "outputs": [],
   "source": [
    "from lib import *"
   ]
  },
  {
   "cell_type": "markdown",
   "metadata": {},
   "source": [
    "# Challenge 1: Convert hex to base64\n",
    "https://cryptopals.com/sets/1/challenges/1"
   ]
  },
  {
   "cell_type": "markdown",
   "metadata": {},
   "source": [
    ">The string:  \n",
    "**49276d206b696c6c696e6720796f757220627261696e206c696b65206120706f697**  \n",
    "**36f6e6f7573206d757368726f6f6d**  \n",
    "Should produce:  \n",
    "**SSdtIGtpbGxpbmcgeW91ciBicmFpbiBsaWtlIGEgcG9pc29ub3VzIG11c2hyb29t**  \n",
    "So go ahead and make that happen.  \n",
    "You'll need to use this code for the rest of the exercises.  "
   ]
  },
  {
   "cell_type": "code",
   "execution_count": 2,
   "metadata": {},
   "outputs": [],
   "source": [
    "# Imports\n",
    "from base64 import b64encode"
   ]
  },
  {
   "cell_type": "code",
   "execution_count": 3,
   "metadata": {},
   "outputs": [],
   "source": [
    "# Given\n",
    "hex_string = \"49276d206b696c6c696e6720796f757220627261696e206c696b65206120706f69736f6e6f7573206d757368726f6f6d\"\n",
    "target_string = \"SSdtIGtpbGxpbmcgeW91ciBicmFpbiBsaWtlIGEgcG9pc29ub3VzIG11c2hyb29t\""
   ]
  },
  {
   "cell_type": "markdown",
   "metadata": {},
   "source": [
    "Convert given hex string to bytes."
   ]
  },
  {
   "cell_type": "code",
   "execution_count": 4,
   "metadata": {},
   "outputs": [],
   "source": [
    "byte_string = bytes.fromhex(hex_string)"
   ]
  },
  {
   "cell_type": "markdown",
   "metadata": {},
   "source": [
    "Convert this byte string to a base64 encoded string."
   ]
  },
  {
   "cell_type": "code",
   "execution_count": 5,
   "metadata": {},
   "outputs": [],
   "source": [
    "base64_byte_string = b64encode(byte_string)"
   ]
  },
  {
   "cell_type": "markdown",
   "metadata": {},
   "source": [
    "Verify the solution."
   ]
  },
  {
   "cell_type": "code",
   "execution_count": 6,
   "metadata": {},
   "outputs": [
    {
     "data": {
      "text/html": [
       "<div style=\"border:1px solid #c3e6cb;padding:.75rem 3rem;border-radius:.5rem;font-weight:bold;text-align: center;background-color:#d4edda;color:#155724;border-color:#c3e6cb;\">Completed</div>"
      ],
      "text/plain": [
       "<IPython.core.display.HTML object>"
      ]
     },
     "metadata": {},
     "output_type": "display_data"
    }
   ],
   "source": [
    "test(base64_byte_string.decode(\"utf-8\") == target_string)"
   ]
  },
  {
   "cell_type": "markdown",
   "metadata": {},
   "source": [
    "# Challenge 2: Fixed XOR\n",
    "https://cryptopals.com/sets/1/challenges/2"
   ]
  },
  {
   "cell_type": "markdown",
   "metadata": {},
   "source": [
    ">Write a function that takes two equal-length buffers and produces their XOR combination.  \n",
    "If your function works properly, then when you feed it the string:  \n",
    "**1c0111001f010100061a024b53535009181c**  \n",
    "... after hex decoding, and when XOR'd against:  \n",
    "**686974207468652062756c6c277320657965**  \n",
    "... should produce:  \n",
    "**746865206b696420646f6e277420706c6179**  "
   ]
  },
  {
   "cell_type": "code",
   "execution_count": 7,
   "metadata": {},
   "outputs": [],
   "source": [
    "# Imports\n",
    "from base64 import b64encode"
   ]
  },
  {
   "cell_type": "code",
   "execution_count": 8,
   "metadata": {},
   "outputs": [],
   "source": [
    "# Given\n",
    "hex_string = \"1c0111001f010100061a024b53535009181c\"\n",
    "key_string = \"686974207468652062756c6c277320657965\"\n",
    "target_string = \"746865206b696420646f6e277420706c6179\""
   ]
  },
  {
   "cell_type": "markdown",
   "metadata": {},
   "source": [
    "Function to calculate the xor of two byte strings."
   ]
  },
  {
   "cell_type": "code",
   "execution_count": 9,
   "metadata": {},
   "outputs": [],
   "source": [
    "def xor_bytes(enc1: bytes, enc2: bytes) -> bytes:\n",
    "    \"\"\"\n",
    "    xor_bytes computes the xor of two byte strings and returns the final value.\n",
    "    \"\"\"\n",
    "    cipher = b\"\".join([bytes(b1^b2 for b1, b2 in zip(enc1, enc2))])\n",
    "    return cipher"
   ]
  },
  {
   "cell_type": "code",
   "execution_count": 10,
   "metadata": {},
   "outputs": [],
   "source": [
    "byte_string = bytes.fromhex(hex_string)\n",
    "key_byte_string = bytes.fromhex(key_string)"
   ]
  },
  {
   "cell_type": "code",
   "execution_count": 11,
   "metadata": {},
   "outputs": [],
   "source": [
    "result = xor_bytes(byte_string, key_byte_string).hex()"
   ]
  },
  {
   "cell_type": "markdown",
   "metadata": {},
   "source": [
    "Verify the solution."
   ]
  },
  {
   "cell_type": "code",
   "execution_count": 12,
   "metadata": {},
   "outputs": [
    {
     "data": {
      "text/html": [
       "<div style=\"border:1px solid #c3e6cb;padding:.75rem 3rem;border-radius:.5rem;font-weight:bold;text-align: center;background-color:#d4edda;color:#155724;border-color:#c3e6cb;\">Completed</div>"
      ],
      "text/plain": [
       "<IPython.core.display.HTML object>"
      ]
     },
     "metadata": {},
     "output_type": "display_data"
    }
   ],
   "source": [
    "test(result == target_string)"
   ]
  },
  {
   "cell_type": "markdown",
   "metadata": {},
   "source": [
    "# Challenge 3: Single-byte XOR cipher\n",
    "https://cryptopals.com/sets/1/challenges/3"
   ]
  },
  {
   "cell_type": "markdown",
   "metadata": {},
   "source": [
    "> The hex encoded string:  \n",
    "**1b37373331363f78151b7f2b783431333d78397828372d363c78373e783a393b3736**  \n",
    "... has been XOR'd against a single character. Find the key, decrypt the message.  \n",
    "You can do this by hand. But don't: write code to do it for you. \n",
    "How? Devise some method for \"scoring\" a piece of English plaintext. Character frequency is a good metric. Evaluate each output and choose the one with the best score.  "
   ]
  },
  {
   "cell_type": "code",
   "execution_count": 13,
   "metadata": {},
   "outputs": [],
   "source": [
    "# Imports\n",
    "from itertools import zip_longest"
   ]
  },
  {
   "cell_type": "code",
   "execution_count": 14,
   "metadata": {},
   "outputs": [],
   "source": [
    "# Given\n",
    "hex_string = \"1b37373331363f78151b7f2b783431333d78397828372d363c78373e783a393b3736\""
   ]
  },
  {
   "cell_type": "markdown",
   "metadata": {},
   "source": [
    "Use either of the functions to brute force the single byte xor key."
   ]
  },
  {
   "cell_type": "code",
   "execution_count": 15,
   "metadata": {},
   "outputs": [],
   "source": [
    "def single_byte_xor_letters(ciphertext: bytes) -> dict:\n",
    "    \"\"\"\n",
    "    Performs xor between every possible key uptil 256 and returns the key that gives the most ascii characters.\n",
    "    \"\"\"\n",
    "    \n",
    "    ascii_text_chars = list(range(97, 122)) + [32]\n",
    "    best_candidate = None\n",
    "    \n",
    "    for i in range(2**8): # for every possible key\n",
    "        \n",
    "        # converting the key from a number to a byte\n",
    "        candidate_key = i.to_bytes(1, \"big\")\n",
    "        keystream = candidate_key*len(ciphertext)\n",
    "        \n",
    "        candidate_message = bytes([x^y for (x, y) in zip(ciphertext, keystream)])\n",
    "        nb_letters = sum([ x in ascii_text_chars for x in candidate_message])\n",
    "        \n",
    "        # if the obtained message has more letters than any other candidate before\n",
    "        if best_candidate == None or nb_letters > best_candidate[\"nb_letters\"]:\n",
    "            # store the current key and message as our best candidate so far\n",
    "            best_candidate = {\"message\": candidate_message.decode(\"utf-8\"), \"nb_letters\": nb_letters, \"key\": candidate_key}\n",
    "    \n",
    "    return best_candidate"
   ]
  },
  {
   "cell_type": "code",
   "execution_count": 16,
   "metadata": {},
   "outputs": [],
   "source": [
    "def calculate_score(text: str) -> float:\n",
    "    \"\"\"\n",
    "    Calculates score of the given text based on a frequency chart of english alphabets.\n",
    "    \"\"\"\n",
    "    \n",
    "    # Block for frequency analysis\n",
    "    frequency_chart = {\n",
    "        'E': 12.70, 'T': 9.06, 'A': 8.17, 'O': 7.51, 'I': 6.97, 'N': 6.75, 'S': 6.33, 'H': 6.09, \n",
    "        'R': 5.99, 'D': 4.25, 'L': 4.03, 'C': 2.78, 'U': 2.76, 'M': 2.41, 'W': 2.36, 'F': 2.23,\n",
    "        'G': 2.02, 'Y': 1.97, 'P': 1.93, 'B': 1.29, 'V': 0.98, 'K': 0.77, 'J': 0.15,\n",
    "        'X': 0.15, 'Q': 0.10, 'Z': 0.07, ' ': 35\n",
    "    }\n",
    "    \n",
    "    score = 0.0\n",
    "    for letter in text.upper():\n",
    "        score += frequency_chart.get(letter, 0)\n",
    "    return score\n",
    "\n",
    "def single_byte_xor_score(ciphertext: bytes) -> dict:\n",
    "    max_score = 0\n",
    "    key = ''\n",
    "    plaintext = \"\"\n",
    "    \n",
    "    for testkey in range(256):\n",
    "        testtext = \"\"\n",
    "        for letter in ciphertext:\n",
    "            testtext += chr(letter ^ testkey)\n",
    "        \n",
    "        cur_score = calculate_score(testtext)\n",
    "        if cur_score > max_score:\n",
    "            max_score = cur_score\n",
    "            key = chr(testkey)\n",
    "            plaintext = testtext\n",
    "            \n",
    "    return {\"score\" : max_score, \"key\" : key, \"message\" : plaintext}"
   ]
  },
  {
   "cell_type": "code",
   "execution_count": 17,
   "metadata": {},
   "outputs": [],
   "source": [
    "byte_string = bytes.fromhex(hex_string)"
   ]
  },
  {
   "cell_type": "code",
   "execution_count": 18,
   "metadata": {},
   "outputs": [
    {
     "name": "stdout",
     "output_type": "stream",
     "text": [
      "Using scoring technique...\n"
     ]
    },
    {
     "data": {
      "text/plain": [
       "\"Cooking MC's like a pound of bacon\""
      ]
     },
     "execution_count": 18,
     "metadata": {},
     "output_type": "execute_result"
    }
   ],
   "source": [
    "print(\"Using scoring technique...\")\n",
    "single_byte_xor_score(byte_string)[\"message\"]"
   ]
  },
  {
   "cell_type": "code",
   "execution_count": 19,
   "metadata": {},
   "outputs": [
    {
     "name": "stdout",
     "output_type": "stream",
     "text": [
      "Using ASCII counting technique...\n"
     ]
    },
    {
     "data": {
      "text/plain": [
       "\"Cooking MC's like a pound of bacon\""
      ]
     },
     "execution_count": 19,
     "metadata": {},
     "output_type": "execute_result"
    }
   ],
   "source": [
    "print(\"Using ASCII counting technique...\")\n",
    "single_byte_xor_letters(byte_string)[\"message\"]"
   ]
  },
  {
   "cell_type": "code",
   "execution_count": 20,
   "metadata": {},
   "outputs": [
    {
     "data": {
      "text/html": [
       "<div style=\"border:1px solid #c3e6cb;padding:.75rem 3rem;border-radius:.5rem;font-weight:bold;text-align: center;background-color:#d4edda;color:#155724;border-color:#c3e6cb;\">Completed</div>"
      ],
      "text/plain": [
       "<IPython.core.display.HTML object>"
      ]
     },
     "metadata": {},
     "output_type": "display_data"
    }
   ],
   "source": [
    "test(True)"
   ]
  },
  {
   "cell_type": "markdown",
   "metadata": {},
   "source": [
    "# Challenge 4: Detect single-character XOR\n",
    "https://cryptopals.com/sets/1/challenges/4"
   ]
  },
  {
   "cell_type": "markdown",
   "metadata": {},
   "source": [
    "> One of the 60-character strings in this [file](https://cryptopals.com/static/challenge-data/4.txt) has been encrypted by single-character XOR.  \n",
    "Find it.  \n",
    "(Your code from #3 should help.)"
   ]
  },
  {
   "cell_type": "code",
   "execution_count": 21,
   "metadata": {},
   "outputs": [],
   "source": [
    "# Given\n",
    "inf = open(\"4.txt\", \"r\")\n",
    "hex_data = inf.read()\n",
    "\n",
    "# Creates a list of lines taken from the file.\n",
    "byte_strings = []\n",
    "for line in hex_data.split():\n",
    "    byte_line = bytes.fromhex(line)\n",
    "    byte_strings.append(byte_line)"
   ]
  },
  {
   "cell_type": "markdown",
   "metadata": {},
   "source": [
    "Same as before, only difference being that a list of encrypted strings are obtained from a file, and their scores are compared amongst them too."
   ]
  },
  {
   "cell_type": "code",
   "execution_count": 22,
   "metadata": {},
   "outputs": [
    {
     "data": {
      "text/plain": [
       "'Now that the party is jumping\\n'"
      ]
     },
     "execution_count": 22,
     "metadata": {},
     "output_type": "execute_result"
    }
   ],
   "source": [
    "plaintext = \"\"\n",
    "max_score = 0\n",
    "\n",
    "# Runs the previous code against all lines in the file.\n",
    "for line in byte_strings:\n",
    "    result = single_byte_xor_score(line)\n",
    "    cur_score = result[\"score\"]\n",
    "    testtext = result[\"message\"]\n",
    "    if cur_score > max_score:\n",
    "        max_score = cur_score\n",
    "        plaintext = testtext\n",
    "\n",
    "plaintext"
   ]
  },
  {
   "cell_type": "code",
   "execution_count": 23,
   "metadata": {},
   "outputs": [
    {
     "data": {
      "text/html": [
       "<div style=\"border:1px solid #c3e6cb;padding:.75rem 3rem;border-radius:.5rem;font-weight:bold;text-align: center;background-color:#d4edda;color:#155724;border-color:#c3e6cb;\">Completed</div>"
      ],
      "text/plain": [
       "<IPython.core.display.HTML object>"
      ]
     },
     "metadata": {},
     "output_type": "display_data"
    }
   ],
   "source": [
    "test(True)"
   ]
  },
  {
   "cell_type": "markdown",
   "metadata": {},
   "source": [
    "# Challenge 5: Implement repeating-key XOR\n",
    "https://cryptopals.com/sets/1/challenges/5"
   ]
  },
  {
   "cell_type": "markdown",
   "metadata": {},
   "source": [
    "> Here is the opening stanza of an important work of the English language:  \n",
    "**Burning 'em, if you ain't quick and nimble  \n",
    "I go crazy when I hear a cymbal**  \n",
    "Encrypt it, under the key **ICE**, using repeating-key XOR.  \n",
    "In repeating-key XOR, you'll sequentially apply each byte of the key; the first byte of plaintext will be XOR'd against I, the next C, the next E, then I again for the 4th byte, and so on.  \n",
    "It should come out to:  \n",
    "**0b3637272a2b2e63622c2e69692a23693a2a3c6324202d623d63343c2a26226324272765272**  \n",
    "**a282b2f20430a652e2c652a3124333a653e2b2027630c692b20283165286326302e27282f** \n",
    "Encrypt a bunch of stuff using your repeating-key XOR function. Encrypt your mail. Encrypt your password file. Your .sig file. Get a feel for it.  \n",
    "I promise, we aren't wasting your time with this.  "
   ]
  },
  {
   "cell_type": "code",
   "execution_count": 24,
   "metadata": {},
   "outputs": [],
   "source": [
    "# Given\n",
    "plaintext = \"Burning 'em, if you ain't quick and nimble\\nI go crazy when I hear a cymbal\"\n",
    "key = \"ICE\"\n",
    "target_string = \"0b3637272a2b2e63622c2e69692a23693a2a3c6324202d623d63343c2a26226324272765272a282b2f20430a652e2c652a3124333a653e2b2027630c692b20283165286326302e27282f\""
   ]
  },
  {
   "cell_type": "code",
   "execution_count": 25,
   "metadata": {},
   "outputs": [],
   "source": [
    "def repeated_xor(text: bytes, key: bytes) -> bytes:\n",
    "    \"\"\"\n",
    "    Performs xor between given text and key. If the length is unequal, key repeats.\n",
    "    \"\"\"\n",
    "    quotient, remainder = divmod(len(text), len(key))\n",
    "    return bytes([x ^ y for x, y in zip(text, bytes(key * quotient + key[:remainder]))])"
   ]
  },
  {
   "cell_type": "code",
   "execution_count": 26,
   "metadata": {},
   "outputs": [],
   "source": [
    "byte_string = plaintext.encode()\n",
    "bytekey = key.encode()"
   ]
  },
  {
   "cell_type": "code",
   "execution_count": 27,
   "metadata": {},
   "outputs": [],
   "source": [
    "ciphertext = repeated_xor(byte_string, bytekey)"
   ]
  },
  {
   "cell_type": "code",
   "execution_count": 28,
   "metadata": {},
   "outputs": [
    {
     "data": {
      "text/html": [
       "<div style=\"border:1px solid #c3e6cb;padding:.75rem 3rem;border-radius:.5rem;font-weight:bold;text-align: center;background-color:#d4edda;color:#155724;border-color:#c3e6cb;\">Completed</div>"
      ],
      "text/plain": [
       "<IPython.core.display.HTML object>"
      ]
     },
     "metadata": {},
     "output_type": "display_data"
    }
   ],
   "source": [
    "test(target_string == ciphertext.hex())"
   ]
  },
  {
   "cell_type": "markdown",
   "metadata": {},
   "source": [
    "# Challenge 6: Break repeating-key XOR\n",
    "https://cryptopals.com/sets/1/challenges/6"
   ]
  },
  {
   "cell_type": "markdown",
   "metadata": {},
   "source": [
    "> [There's a file](https://cryptopals.com/static/challenge-data/6.txt) here. It's been base64'd after being encrypted with repeating-key XOR.  \n",
    "Decrypt it.  \n",
    "Here's how:\n",
    "1. Let KEYSIZE be the guessed length of the key; try values from 2 to (say) 40.  \n",
    "2. Write a function to compute the edit distance/Hamming distance between two strings. The Hamming distance is just the number of differing bits. \n",
    "   The distance between:   \n",
    "   **this is a test**  \n",
    "   and  \n",
    "   **wokka wokka!!!**  \n",
    "   is 37. Make sure your code agrees before you proceed.  \n",
    "3. For each KEYSIZE, take the first KEYSIZE worth of bytes, and the second KEYSIZE worth of bytes, and find the edit distance between them.  \n",
    "   Normalize this result by dividing by KEYSIZE.  \n",
    "4. The KEYSIZE with the smallest normalized edit distance is probably the key. You could proceed perhaps with the smallest 2-3 KEYSIZE values.  \n",
    "   Or take 4 KEYSIZE blocks instead of 2 and average the distances.\n",
    "5. Now that you probably know the KEYSIZE: break the ciphertext into blocks of KEYSIZE length.  \n",
    "6. Now transpose the blocks: make a block that is the first byte of every block, and a block that is the second byte of every block, and so on.  \n",
    "7. Solve each block as if it was single-character XOR. You already have code to do this.  \n",
    "8. For each block, the single-byte XOR key that produces the best looking histogram is the repeating-key XOR key byte for that block.  \n",
    "   Put them together and you have the key.  \n",
    "This code is going to turn out to be surprisingly useful later on. Breaking repeating-key XOR (\"Vigenere\") statistically is obviously an academic exercise, a \"Crypto 101\" thing. But more people \"know how\" to break it than can actually break it, and a similar technique breaks something much more important."
   ]
  },
  {
   "cell_type": "code",
   "execution_count": 29,
   "metadata": {},
   "outputs": [],
   "source": [
    "# Imports\n",
    "from base64 import b64decode"
   ]
  },
  {
   "cell_type": "code",
   "execution_count": 30,
   "metadata": {},
   "outputs": [],
   "source": [
    "# Given\n",
    "inf = open(\"6.txt\", \"r\")\n",
    "b64_data = inf.read()\n",
    "\n",
    "byte_data = b64decode(b64_data)"
   ]
  },
  {
   "cell_type": "code",
   "execution_count": 31,
   "metadata": {},
   "outputs": [],
   "source": [
    "def hamming_distance(text1: bytes, text2: bytes) -> int:\n",
    "    \"\"\"\n",
    "    Calculates the Hamming Distance between the given byte strings.\n",
    "    \"\"\"\n",
    "    \n",
    "    distance = 0\n",
    "    \n",
    "    dec_list = [b1 ^ b2 for b1, b2 in zip(text1, text2)]\n",
    "    for decimal in dec_list:\n",
    "        distance += bin(decimal).count(\"1\")\n",
    "        \n",
    "    if len(text1) > len(text2):\n",
    "        diff = len(text1) - len(text2)\n",
    "        text = text1\n",
    "    else:\n",
    "        diff = len(text2) - len(text1)\n",
    "        text = text2\n",
    "        \n",
    "    for i in range(1, diff+1):\n",
    "        distance += bin(text[-i]).count(\"1\")\n",
    "        \n",
    "    return distance"
   ]
  },
  {
   "cell_type": "code",
   "execution_count": 32,
   "metadata": {},
   "outputs": [],
   "source": [
    "def break_repeated_xor_keysize(ciphertext: bytes) -> int:\n",
    "    \"\"\"\n",
    "    Approximates the keysize based on the hamming distance between different blocks of ciphertexts.\n",
    "    Returns the keysize with least hamming distance between consecutive sets of ciphertext.\n",
    "    \"\"\"\n",
    "    \n",
    "    keysize = 0\n",
    "    min_distance = 100000\n",
    "    for key in range(2, 41):\n",
    "        edit_distance = 0\n",
    "        blocks = [ciphertext[i*key:(i+1)*key] for i in range(4)]\n",
    "        for i in range(0, len(blocks)):\n",
    "            for j in range(0, len(blocks)):\n",
    "                edit_distance += hamming_distance(blocks[i], blocks[j])\n",
    "        \n",
    "        normalized_distance = edit_distance/key\n",
    "        \n",
    "        if normalized_distance < min_distance:\n",
    "            min_distance = normalized_distance\n",
    "            keysize = key\n",
    "    \n",
    "    return keysize"
   ]
  },
  {
   "cell_type": "markdown",
   "metadata": {},
   "source": [
    "Creates blocks of ciphertext in preparation of brute forcing the xor keysize.\n",
    "When we have the key length, we can group together ciphertext bytes that share the same key byte."
   ]
  },
  {
   "cell_type": "code",
   "execution_count": 33,
   "metadata": {},
   "outputs": [],
   "source": [
    "keysize = break_repeated_xor_keysize(byte_data)\n",
    "cipher_blocks = [byte_data[i:i+keysize] for i in range(0, len(byte_data), keysize)]\n",
    "\n",
    "#To remove the last block with less characters.\n",
    "cipher_blocks.pop()\n",
    "cipher_block_size = len(cipher_blocks[0])"
   ]
  },
  {
   "cell_type": "markdown",
   "metadata": {},
   "source": [
    "Brute force the key, one letter at a time.  \n",
    "A repeating key means that the letters at a fixed interval will be xored with the same value, that is, for a 4 byte key, a letter at every 4th position will be xored with the same letter of the key.  "
   ]
  },
  {
   "cell_type": "code",
   "execution_count": 34,
   "metadata": {},
   "outputs": [
    {
     "data": {
      "text/plain": [
       "'Terminator X: Bring the noise'"
      ]
     },
     "execution_count": 34,
     "metadata": {},
     "output_type": "execute_result"
    }
   ],
   "source": [
    "key = \"\"\n",
    "for i in range(0, cipher_block_size):\n",
    "    single_xor_block = b\"\"\n",
    "    \n",
    "    # Construct blocks out of a fixed index from all cipher blocks.\n",
    "    for block in cipher_blocks:\n",
    "        single_xor_block += (block[i]).to_bytes(1, \"big\")\n",
    "        \n",
    "    # Apply frequency analysis to the block associated with this index.\n",
    "    result = single_byte_xor_score(single_xor_block)\n",
    "    testkey = result[\"key\"]\n",
    "    key += testkey\n",
    "key"
   ]
  },
  {
   "cell_type": "code",
   "execution_count": 35,
   "metadata": {},
   "outputs": [
    {
     "name": "stdout",
     "output_type": "stream",
     "text": [
      "I'm back and I'm ringin' the bell \n",
      "A rockin' on the mike while the fly girls yell \n",
      "In ecstasy in the back of me \n",
      "Well that's my DJ Deshay cuttin' all them Z's \n",
      "Hittin' hard and the girlies goin' crazy \n",
      "Vanilla's on the mike, man I'm not lazy. \n",
      "\n",
      "I'm lettin' my drug kick in \n",
      "It controls my mouth and I begin \n",
      "To just let it flow, let my concepts go \n",
      "My posse's to the side yellin', Go Vanilla Go! \n",
      "\n",
      "Smooth 'cause that's the way I will be \n",
      "And if you don't give a damn, then \n",
      "Why you starin' at me \n",
      "So get off 'cause I control the stage \n",
      "There's no dissin' allowed \n",
      "I'm in my own phase \n",
      "The girlies sa y they love me and that is ok \n",
      "And I can dance better than any kid n' play \n",
      "\n",
      "Stage 2 -- Yea the one ya' wanna listen to \n",
      "It's off my head so let the beat play through \n",
      "So I can funk it up and make it sound good \n",
      "1-2-3 Yo -- Knock on some wood \n",
      "For good luck, I like my rhymes atrocious \n",
      "Supercalafragilisticexpialidocious \n",
      "I'm an effect and that you can bet \n",
      "I can take a fly girl and make her wet. \n",
      "\n",
      "I'm like Samson -- Samson to Delilah \n",
      "There's no denyin', You can try to hang \n",
      "But you'll keep tryin' to get my style \n",
      "Over and over, practice makes perfect \n",
      "But not if you're a loafer. \n",
      "\n",
      "You'll get nowhere, no place, no time, no girls \n",
      "Soon -- Oh my God, homebody, you probably eat \n",
      "Spaghetti with a spoon! Come on and say it! \n",
      "\n",
      "VIP. Vanilla Ice yep, yep, I'm comin' hard like a rhino \n",
      "Intoxicating so you stagger like a wino \n",
      "So punks stop trying and girl stop cryin' \n",
      "Vanilla Ice is sellin' and you people are buyin' \n",
      "'Cause why the freaks are jockin' like Crazy Glue \n",
      "Movin' and groovin' trying to sing along \n",
      "All through the ghetto groovin' this here song \n",
      "Now you're amazed by the VIP posse. \n",
      "\n",
      "Steppin' so hard like a German Nazi \n",
      "Startled by the bases hittin' ground \n",
      "There's no trippin' on mine, I'm just gettin' down \n",
      "Sparkamatic, I'm hangin' tight like a fanatic \n",
      "You trapped me once and I thought that \n",
      "You might have it \n",
      "So step down and lend me your ear \n",
      "'89 in my time! You, '90 is my year. \n",
      "\n",
      "You're weakenin' fast, YO! and I can tell it \n",
      "Your body's gettin' hot, so, so I can smell it \n",
      "So don't be mad and don't be sad \n",
      "'Cause the lyrics belong to ICE, You can call me Dad \n",
      "You're pitchin' a fit, so step back and endure \n",
      "Let the witch doctor, Ice, do the dance to cure \n",
      "So come up close and don't be square \n",
      "You wanna battle me -- Anytime, anywhere \n",
      "\n",
      "You thought that I was weak, Boy, you're dead wrong \n",
      "So come on, everybody and sing this song \n",
      "\n",
      "Say -- Play that funky music Say, go white boy, go white boy go \n",
      "play that funky music Go white boy, go white boy, go \n",
      "Lay down and boogie and play that funky music till you die. \n",
      "\n",
      "Play that funky music Come on, Come on, let me hear \n",
      "Play that funky music white boy you say it, say it \n",
      "Play that funky music A little louder now \n",
      "Play that funky music, white boy Come on, Come on, Come on \n",
      "Play that funky music \n"
     ]
    }
   ],
   "source": [
    "plaintext = repeated_xor(byte_data, key.encode()).decode(\"utf-8\")\n",
    "print(plaintext.strip('\\n'))"
   ]
  },
  {
   "cell_type": "code",
   "execution_count": 36,
   "metadata": {},
   "outputs": [
    {
     "data": {
      "text/html": [
       "<div style=\"border:1px solid #c3e6cb;padding:.75rem 3rem;border-radius:.5rem;font-weight:bold;text-align: center;background-color:#d4edda;color:#155724;border-color:#c3e6cb;\">Completed</div>"
      ],
      "text/plain": [
       "<IPython.core.display.HTML object>"
      ]
     },
     "metadata": {},
     "output_type": "display_data"
    }
   ],
   "source": [
    "test(True)"
   ]
  },
  {
   "cell_type": "markdown",
   "metadata": {},
   "source": [
    "# Challenge 7: AES in ECB mode\n",
    "https://cryptopals.com/sets/1/challenges/7"
   ]
  },
  {
   "cell_type": "markdown",
   "metadata": {},
   "source": [
    "> The Base64-encoded content in this file has been encrypted via AES-128 in ECB mode under the key  \n",
    "**\"YELLOW SUBMARINE\"**.  \n",
    "(case-sensitive, without the quotes; exactly 16 characters; I like \"YELLOW SUBMARINE\" because it's exactly 16 bytes long, and now you do too).  \n",
    "Decrypt it. You know the key, after all.  \n",
    "Easiest way: use OpenSSL::Cipher and give it AES-128-ECB as the cipher."
   ]
  },
  {
   "cell_type": "code",
   "execution_count": 37,
   "metadata": {},
   "outputs": [],
   "source": [
    "# Imports\n",
    "import base64\n",
    "from Crypto.Cipher import AES"
   ]
  },
  {
   "cell_type": "code",
   "execution_count": 38,
   "metadata": {},
   "outputs": [],
   "source": [
    "# Given\n",
    "inf = open(\"7.txt\", \"r\")\n",
    "b64_data = inf.read()\n",
    "\n",
    "key = b\"YELLOW SUBMARINE\""
   ]
  },
  {
   "cell_type": "code",
   "execution_count": 39,
   "metadata": {},
   "outputs": [],
   "source": [
    "def AES_ECB_decrypt(ciphertext: bytes, key: bytes) -> bytes:\n",
    "    \"\"\"\n",
    "    Decrypts a ciphertext encrypted with AES ECB Mode.\n",
    "    \"\"\"\n",
    "    cipher = AES.new(key, AES.MODE_ECB)\n",
    "    return cipher.decrypt(ciphertext)"
   ]
  },
  {
   "cell_type": "code",
   "execution_count": 40,
   "metadata": {},
   "outputs": [
    {
     "name": "stdout",
     "output_type": "stream",
     "text": [
      "I'm back and I'm ringin' the bell \n",
      "A rockin' on the mike while the fly girls yell \n",
      "In ecstasy in the back of me \n",
      "Well that's my DJ Deshay cuttin' all them Z's \n",
      "Hittin' hard and the girlies goin' crazy \n",
      "Vanilla's on the mike, man I'm not lazy. \n",
      "\n",
      "I'm lettin' my drug kick in \n",
      "It controls my mouth and I begin \n",
      "To just let it flow, let my concepts go \n",
      "My posse's to the side yellin', Go Vanilla Go! \n",
      "\n",
      "Smooth 'cause that's the way I will be \n",
      "And if you don't give a damn, then \n",
      "Why you starin' at me \n",
      "So get off 'cause I control the stage \n",
      "There's no dissin' allowed \n",
      "I'm in my own phase \n",
      "The girlies sa y they love me and that is ok \n",
      "And I can dance better than any kid n' play \n",
      "\n",
      "Stage 2 -- Yea the one ya' wanna listen to \n",
      "It's off my head so let the beat play through \n",
      "So I can funk it up and make it sound good \n",
      "1-2-3 Yo -- Knock on some wood \n",
      "For good luck, I like my rhymes atrocious \n",
      "Supercalafragilisticexpialidocious \n",
      "I'm an effect and that you can bet \n",
      "I can take a fly girl and make her wet. \n",
      "\n",
      "I'm like Samson -- Samson to Delilah \n",
      "There's no denyin', You can try to hang \n",
      "But you'll keep tryin' to get my style \n",
      "Over and over, practice makes perfect \n",
      "But not if you're a loafer. \n",
      "\n",
      "You'll get nowhere, no place, no time, no girls \n",
      "Soon -- Oh my God, homebody, you probably eat \n",
      "Spaghetti with a spoon! Come on and say it! \n",
      "\n",
      "VIP. Vanilla Ice yep, yep, I'm comin' hard like a rhino \n",
      "Intoxicating so you stagger like a wino \n",
      "So punks stop trying and girl stop cryin' \n",
      "Vanilla Ice is sellin' and you people are buyin' \n",
      "'Cause why the freaks are jockin' like Crazy Glue \n",
      "Movin' and groovin' trying to sing along \n",
      "All through the ghetto groovin' this here song \n",
      "Now you're amazed by the VIP posse. \n",
      "\n",
      "Steppin' so hard like a German Nazi \n",
      "Startled by the bases hittin' ground \n",
      "There's no trippin' on mine, I'm just gettin' down \n",
      "Sparkamatic, I'm hangin' tight like a fanatic \n",
      "You trapped me once and I thought that \n",
      "You might have it \n",
      "So step down and lend me your ear \n",
      "'89 in my time! You, '90 is my year. \n",
      "\n",
      "You're weakenin' fast, YO! and I can tell it \n",
      "Your body's gettin' hot, so, so I can smell it \n",
      "So don't be mad and don't be sad \n",
      "'Cause the lyrics belong to ICE, You can call me Dad \n",
      "You're pitchin' a fit, so step back and endure \n",
      "Let the witch doctor, Ice, do the dance to cure \n",
      "So come up close and don't be square \n",
      "You wanna battle me -- Anytime, anywhere \n",
      "\n",
      "You thought that I was weak, Boy, you're dead wrong \n",
      "So come on, everybody and sing this song \n",
      "\n",
      "Say -- Play that funky music Say, go white boy, go white boy go \n",
      "play that funky music Go white boy, go white boy, go \n",
      "Lay down and boogie and play that funky music till you die. \n",
      "\n",
      "Play that funky music Come on, Come on, let me hear \n",
      "Play that funky music white boy you say it, say it \n",
      "Play that funky music A little louder now \n",
      "Play that funky music, white boy Come on, Come on, Come on \n",
      "Play that funky music \n",
      "\u0004\u0004\u0004\u0004\n"
     ]
    }
   ],
   "source": [
    "byte_data = base64.b64decode(b64_data)\n",
    "byte_text = AES_ECB_decrypt(byte_data, key)\n",
    "\n",
    "#last 4 rubbish bytes is pkcs7 padding of \\x04\n",
    "print(byte_text.decode(\"utf-8\").strip())"
   ]
  },
  {
   "cell_type": "code",
   "execution_count": 41,
   "metadata": {},
   "outputs": [
    {
     "data": {
      "text/html": [
       "<div style=\"border:1px solid #c3e6cb;padding:.75rem 3rem;border-radius:.5rem;font-weight:bold;text-align: center;background-color:#d4edda;color:#155724;border-color:#c3e6cb;\">Completed</div>"
      ],
      "text/plain": [
       "<IPython.core.display.HTML object>"
      ]
     },
     "metadata": {},
     "output_type": "display_data"
    }
   ],
   "source": [
    "test(True)"
   ]
  },
  {
   "cell_type": "markdown",
   "metadata": {},
   "source": [
    "# Challenge 8: Detect AES in ECB mode\n",
    "https://cryptopals.com/sets/1/challenges/8"
   ]
  },
  {
   "cell_type": "markdown",
   "metadata": {},
   "source": [
    "> [In this file](https://cryptopals.com/static/challenge-data/8.txt) are a bunch of hex-encoded ciphertexts.  \n",
    "One of them has been encrypted with ECB.  \n",
    "Detect it.  \n",
    "Remember that the problem with ECB is that it is stateless and deterministic; the same 16 byte plaintext block will always produce the same 16 byte ciphertext."
   ]
  },
  {
   "cell_type": "markdown",
   "metadata": {},
   "source": [
    "Detection can be done by taking advantage of a disadvantage of this method.  \n",
    "The disadvantage is the lack of diffusion. Because ECB encrypts identical plaintext blocks into identical ciphertext blocks, it does not hide data patterns well."
   ]
  },
  {
   "cell_type": "code",
   "execution_count": 42,
   "metadata": {},
   "outputs": [],
   "source": [
    "# Imports\n",
    "from base64 import b64decode\n",
    "from Crypto.Cipher import AES"
   ]
  },
  {
   "cell_type": "code",
   "execution_count": 43,
   "metadata": {},
   "outputs": [],
   "source": [
    "# Given\n",
    "inf = open(\"8.txt\", \"r\")\n",
    "data = inf.read()"
   ]
  },
  {
   "cell_type": "code",
   "execution_count": 44,
   "metadata": {},
   "outputs": [],
   "source": [
    "def detect_AES_ECB(ciphertext: bytes) -> int:\n",
    "    \"\"\"\n",
    "    Detect if the AES ECB encryption mode was used for creating the given ciphertexts.\n",
    "    Returns the maximum number of repititions occuring for any particular block.\n",
    "    \"\"\"\n",
    "    blocks = [ciphertext[i:i+AES.block_size] for i in range(0, len(ciphertext), AES.block_size)]\n",
    "    return len(blocks)-len(set(blocks))"
   ]
  },
  {
   "cell_type": "markdown",
   "metadata": {},
   "source": [
    "Create a list of ciphertexts obtained from the file in byte format."
   ]
  },
  {
   "cell_type": "code",
   "execution_count": 45,
   "metadata": {},
   "outputs": [],
   "source": [
    "hex_data = data.split('\\n')\n",
    "ciphertext_list = [bytes.fromhex(line.strip()) for line in hex_data]"
   ]
  },
  {
   "cell_type": "markdown",
   "metadata": {},
   "source": [
    "Iterate over all the ciphertexts to find out the ciphertext with maximum repititions of a block."
   ]
  },
  {
   "cell_type": "code",
   "execution_count": 46,
   "metadata": {},
   "outputs": [
    {
     "name": "stdout",
     "output_type": "stream",
     "text": [
      "Number of repitions: 3\n",
      "ECB ciphered text index: 132/205\n"
     ]
    }
   ],
   "source": [
    "max_score = 0\n",
    "text_ECB = \"\"\n",
    "\n",
    "for cipher in ciphertext_list:\n",
    "    score = detect_AES_ECB(cipher)\n",
    "    if score > max_score:\n",
    "        max_score = score\n",
    "        text_ECB = cipher\n",
    "        \n",
    "print(\"Number of repitions: {}\".format(max_score))\n",
    "print(\"ECB ciphered text index: {0}/{1}\".format(ciphertext_list.index(text_ECB), len(ciphertext_list)))"
   ]
  },
  {
   "cell_type": "code",
   "execution_count": 47,
   "metadata": {},
   "outputs": [
    {
     "data": {
      "text/html": [
       "<div style=\"border:1px solid #c3e6cb;padding:.75rem 3rem;border-radius:.5rem;font-weight:bold;text-align: center;background-color:#d4edda;color:#155724;border-color:#c3e6cb;\">Completed</div>"
      ],
      "text/plain": [
       "<IPython.core.display.HTML object>"
      ]
     },
     "metadata": {},
     "output_type": "display_data"
    }
   ],
   "source": [
    "test(True)"
   ]
  }
 ],
 "metadata": {
  "kernelspec": {
   "display_name": "Python 3",
   "language": "python",
   "name": "python3"
  },
  "language_info": {
   "codemirror_mode": {
    "name": "ipython",
    "version": 3
   },
   "file_extension": ".py",
   "mimetype": "text/x-python",
   "name": "python",
   "nbconvert_exporter": "python",
   "pygments_lexer": "ipython3",
   "version": "3.8.1"
  }
 },
 "nbformat": 4,
 "nbformat_minor": 4
}
